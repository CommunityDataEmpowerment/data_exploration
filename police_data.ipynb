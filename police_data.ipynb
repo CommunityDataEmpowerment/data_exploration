{
 "cells": [
  {
   "cell_type": "code",
   "execution_count": 1,
   "metadata": {},
   "outputs": [],
   "source": [
    "import pandas as pd\n",
    "import matplotlib.pyplot as plt\n",
    "import datetime\n",
    "import numpy as np"
   ]
  },
  {
   "cell_type": "code",
   "execution_count": 2,
   "metadata": {},
   "outputs": [],
   "source": [
    "df = pd.read_csv(\"Police_Response_to_Resistance___2019.csv\")"
   ]
  },
  {
   "cell_type": "code",
   "execution_count": 3,
   "metadata": {
    "scrolled": true
   },
   "outputs": [
    {
     "name": "stdout",
     "output_type": "stream",
     "text": [
      "<class 'pandas.core.frame.DataFrame'>\n",
      "RangeIndex: 2944 entries, 0 to 2943\n",
      "Data columns (total 39 columns):\n",
      " #   Column            Non-Null Count  Dtype  \n",
      "---  ------            --------------  -----  \n",
      " 0   OBJECTID          2944 non-null   int64  \n",
      " 1   ZIP               2943 non-null   float64\n",
      " 2   FILENUM           2944 non-null   object \n",
      " 3   UOFNum            2944 non-null   object \n",
      " 4   OCCURRED_D        2944 non-null   object \n",
      " 5   OCCURRED_T        2931 non-null   object \n",
      " 6   CURRENT_BA        2944 non-null   int64  \n",
      " 7   OffSex            2944 non-null   object \n",
      " 8   OffRace           2944 non-null   object \n",
      " 9   HIRE_DT           2944 non-null   object \n",
      " 10  OFF_INJURE        2944 non-null   bool   \n",
      " 11  OffCondTyp        2944 non-null   object \n",
      " 12  OFF_HOSPIT        2944 non-null   bool   \n",
      " 13  SERVICE_TY        2937 non-null   object \n",
      " 14  ForceType         2944 non-null   object \n",
      " 15  UOF_REASON        2937 non-null   object \n",
      " 16  Cycles_Num        174 non-null    object \n",
      " 17  ForceEffec        2944 non-null   object \n",
      " 18  STREET_N          2944 non-null   int64  \n",
      " 19  STREET            2944 non-null   object \n",
      " 20  street_g          751 non-null    object \n",
      " 21  street_t          2905 non-null   object \n",
      " 22  Address           2942 non-null   object \n",
      " 23  CitNum            2944 non-null   object \n",
      " 24  CitRace           2906 non-null   object \n",
      " 25  CitSex            2934 non-null   object \n",
      " 26  CIT_INJURE        2944 non-null   bool   \n",
      " 27  CitCondTyp        2944 non-null   object \n",
      " 28  CIT_ARREST        2944 non-null   bool   \n",
      " 29  CIT_INFL_A        2865 non-null   object \n",
      " 30  CitChargeT        2944 non-null   object \n",
      " 31  Council District  2930 non-null   object \n",
      " 32  RA                2930 non-null   float64\n",
      " 33  BEAT              2930 non-null   float64\n",
      " 34  SECTOR            2930 non-null   float64\n",
      " 35  DIVISION          2930 non-null   object \n",
      " 36  X                 2944 non-null   float64\n",
      " 37  Y                 2944 non-null   float64\n",
      " 38  GeoLocation       2758 non-null   object \n",
      "dtypes: bool(4), float64(6), int64(3), object(26)\n",
      "memory usage: 816.6+ KB\n"
     ]
    }
   ],
   "source": [
    "df.info()"
   ]
  },
  {
   "cell_type": "code",
   "execution_count": 4,
   "metadata": {
    "scrolled": false
   },
   "outputs": [
    {
     "data": {
      "text/html": [
       "<div>\n",
       "<style scoped>\n",
       "    .dataframe tbody tr th:only-of-type {\n",
       "        vertical-align: middle;\n",
       "    }\n",
       "\n",
       "    .dataframe tbody tr th {\n",
       "        vertical-align: top;\n",
       "    }\n",
       "\n",
       "    .dataframe thead th {\n",
       "        text-align: right;\n",
       "    }\n",
       "</style>\n",
       "<table border=\"1\" class=\"dataframe\">\n",
       "  <thead>\n",
       "    <tr style=\"text-align: right;\">\n",
       "      <th></th>\n",
       "      <th>OBJECTID</th>\n",
       "      <th>ZIP</th>\n",
       "      <th>FILENUM</th>\n",
       "      <th>UOFNum</th>\n",
       "      <th>OCCURRED_D</th>\n",
       "      <th>OCCURRED_T</th>\n",
       "      <th>CURRENT_BA</th>\n",
       "      <th>OffSex</th>\n",
       "      <th>OffRace</th>\n",
       "      <th>HIRE_DT</th>\n",
       "      <th>...</th>\n",
       "      <th>CIT_INFL_A</th>\n",
       "      <th>CitChargeT</th>\n",
       "      <th>Council District</th>\n",
       "      <th>RA</th>\n",
       "      <th>BEAT</th>\n",
       "      <th>SECTOR</th>\n",
       "      <th>DIVISION</th>\n",
       "      <th>X</th>\n",
       "      <th>Y</th>\n",
       "      <th>GeoLocation</th>\n",
       "    </tr>\n",
       "  </thead>\n",
       "  <tbody>\n",
       "    <tr>\n",
       "      <th>0</th>\n",
       "      <td>2817</td>\n",
       "      <td>75253.0</td>\n",
       "      <td>UF2019-1702</td>\n",
       "      <td>62295, 63542</td>\n",
       "      <td>12/01/2019</td>\n",
       "      <td>10:34 PM</td>\n",
       "      <td>11285</td>\n",
       "      <td>Male</td>\n",
       "      <td>White</td>\n",
       "      <td>03/08/2017</td>\n",
       "      <td>...</td>\n",
       "      <td>Agitated</td>\n",
       "      <td>No Arrest</td>\n",
       "      <td>D8</td>\n",
       "      <td>6062.0</td>\n",
       "      <td>357.0</td>\n",
       "      <td>350.0</td>\n",
       "      <td>SOUTHEAST</td>\n",
       "      <td>2557123.437</td>\n",
       "      <td>6944231.397</td>\n",
       "      <td>POINT (-96.586265 32.702825)</td>\n",
       "    </tr>\n",
       "    <tr>\n",
       "      <th>1</th>\n",
       "      <td>2234</td>\n",
       "      <td>75208.0</td>\n",
       "      <td>UF2019-1344</td>\n",
       "      <td>61093</td>\n",
       "      <td>10/06/2019</td>\n",
       "      <td>12:50 AM</td>\n",
       "      <td>11208</td>\n",
       "      <td>Male</td>\n",
       "      <td>White</td>\n",
       "      <td>08/24/2016</td>\n",
       "      <td>...</td>\n",
       "      <td>Agitated</td>\n",
       "      <td>APOWW</td>\n",
       "      <td>D1</td>\n",
       "      <td>4160.0</td>\n",
       "      <td>444.0</td>\n",
       "      <td>440.0</td>\n",
       "      <td>SOUTHWEST</td>\n",
       "      <td>2474936.793</td>\n",
       "      <td>6952151.398</td>\n",
       "      <td>POINT (-96.853036 32.729136)</td>\n",
       "    </tr>\n",
       "    <tr>\n",
       "      <th>2</th>\n",
       "      <td>2755</td>\n",
       "      <td>75231.0</td>\n",
       "      <td>UF2019-1665</td>\n",
       "      <td>62820</td>\n",
       "      <td>12/31/2019</td>\n",
       "      <td>11:37 PM</td>\n",
       "      <td>9415</td>\n",
       "      <td>Male</td>\n",
       "      <td>White</td>\n",
       "      <td>04/02/2008</td>\n",
       "      <td>...</td>\n",
       "      <td>Poor hygiene</td>\n",
       "      <td>Burglary/Habitation, Warrant/Hold</td>\n",
       "      <td>D9</td>\n",
       "      <td>6034.0</td>\n",
       "      <td>247.0</td>\n",
       "      <td>240.0</td>\n",
       "      <td>NORTHEAST</td>\n",
       "      <td>2508349.267</td>\n",
       "      <td>7001784.466</td>\n",
       "      <td>POINT (-96.741661 32.863941)</td>\n",
       "    </tr>\n",
       "    <tr>\n",
       "      <th>3</th>\n",
       "      <td>2110</td>\n",
       "      <td>75228.0</td>\n",
       "      <td>UF2019-1314</td>\n",
       "      <td>60990</td>\n",
       "      <td>09/30/2019</td>\n",
       "      <td>6:20 PM</td>\n",
       "      <td>9884</td>\n",
       "      <td>Male</td>\n",
       "      <td>Hispanic</td>\n",
       "      <td>06/10/2009</td>\n",
       "      <td>...</td>\n",
       "      <td>Unknown Drugs</td>\n",
       "      <td>Assault/FV, Resisting Arrest, Warrant/Hold</td>\n",
       "      <td>D9</td>\n",
       "      <td>1132.0</td>\n",
       "      <td>228.0</td>\n",
       "      <td>220.0</td>\n",
       "      <td>NORTHEAST</td>\n",
       "      <td>2536678.324</td>\n",
       "      <td>6999039.025</td>\n",
       "      <td>POINT (-96.649175 32.855492)</td>\n",
       "    </tr>\n",
       "    <tr>\n",
       "      <th>4</th>\n",
       "      <td>1663</td>\n",
       "      <td>75051.0</td>\n",
       "      <td>UF2019-1030</td>\n",
       "      <td>59592, 59600</td>\n",
       "      <td>08/04/2019</td>\n",
       "      <td>12:10 AM</td>\n",
       "      <td>10480</td>\n",
       "      <td>Male</td>\n",
       "      <td>Hispanic</td>\n",
       "      <td>09/26/2012</td>\n",
       "      <td>...</td>\n",
       "      <td>Agitated</td>\n",
       "      <td>Assault/Public Servant</td>\n",
       "      <td>NaN</td>\n",
       "      <td>NaN</td>\n",
       "      <td>NaN</td>\n",
       "      <td>NaN</td>\n",
       "      <td>NaN</td>\n",
       "      <td>2433285.622</td>\n",
       "      <td>6953645.720</td>\n",
       "      <td>POINT (-96.98722 32.734935)</td>\n",
       "    </tr>\n",
       "  </tbody>\n",
       "</table>\n",
       "<p>5 rows × 39 columns</p>\n",
       "</div>"
      ],
      "text/plain": [
       "   OBJECTID      ZIP      FILENUM        UOFNum  OCCURRED_D OCCURRED_T  \\\n",
       "0      2817  75253.0  UF2019-1702  62295, 63542  12/01/2019   10:34 PM   \n",
       "1      2234  75208.0  UF2019-1344         61093  10/06/2019   12:50 AM   \n",
       "2      2755  75231.0  UF2019-1665         62820  12/31/2019   11:37 PM   \n",
       "3      2110  75228.0  UF2019-1314         60990  09/30/2019    6:20 PM   \n",
       "4      1663  75051.0  UF2019-1030  59592, 59600  08/04/2019   12:10 AM   \n",
       "\n",
       "   CURRENT_BA OffSex   OffRace     HIRE_DT  ...     CIT_INFL_A  \\\n",
       "0       11285   Male     White  03/08/2017  ...       Agitated   \n",
       "1       11208   Male     White  08/24/2016  ...       Agitated   \n",
       "2        9415   Male     White  04/02/2008  ...   Poor hygiene   \n",
       "3        9884   Male  Hispanic  06/10/2009  ...  Unknown Drugs   \n",
       "4       10480   Male  Hispanic  09/26/2012  ...       Agitated   \n",
       "\n",
       "                                   CitChargeT  Council District      RA  \\\n",
       "0                                   No Arrest                D8  6062.0   \n",
       "1                                       APOWW                D1  4160.0   \n",
       "2           Burglary/Habitation, Warrant/Hold                D9  6034.0   \n",
       "3  Assault/FV, Resisting Arrest, Warrant/Hold                D9  1132.0   \n",
       "4                      Assault/Public Servant               NaN     NaN   \n",
       "\n",
       "    BEAT SECTOR   DIVISION            X            Y  \\\n",
       "0  357.0  350.0  SOUTHEAST  2557123.437  6944231.397   \n",
       "1  444.0  440.0  SOUTHWEST  2474936.793  6952151.398   \n",
       "2  247.0  240.0  NORTHEAST  2508349.267  7001784.466   \n",
       "3  228.0  220.0  NORTHEAST  2536678.324  6999039.025   \n",
       "4    NaN    NaN        NaN  2433285.622  6953645.720   \n",
       "\n",
       "                    GeoLocation  \n",
       "0  POINT (-96.586265 32.702825)  \n",
       "1  POINT (-96.853036 32.729136)  \n",
       "2  POINT (-96.741661 32.863941)  \n",
       "3  POINT (-96.649175 32.855492)  \n",
       "4   POINT (-96.98722 32.734935)  \n",
       "\n",
       "[5 rows x 39 columns]"
      ]
     },
     "execution_count": 4,
     "metadata": {},
     "output_type": "execute_result"
    }
   ],
   "source": [
    "df.head()"
   ]
  },
  {
   "cell_type": "markdown",
   "metadata": {},
   "source": [
    "### Table for database"
   ]
  },
  {
   "cell_type": "code",
   "execution_count": 5,
   "metadata": {},
   "outputs": [
    {
     "data": {
      "text/html": [
       "<div>\n",
       "<style scoped>\n",
       "    .dataframe tbody tr th:only-of-type {\n",
       "        vertical-align: middle;\n",
       "    }\n",
       "\n",
       "    .dataframe tbody tr th {\n",
       "        vertical-align: top;\n",
       "    }\n",
       "\n",
       "    .dataframe thead th {\n",
       "        text-align: right;\n",
       "    }\n",
       "</style>\n",
       "<table border=\"1\" class=\"dataframe\">\n",
       "  <thead>\n",
       "    <tr style=\"text-align: right;\">\n",
       "      <th></th>\n",
       "      <th>FILENUM</th>\n",
       "      <th>UOFNum</th>\n",
       "      <th>ForceEffec</th>\n",
       "      <th>ForceType</th>\n",
       "    </tr>\n",
       "  </thead>\n",
       "  <tbody>\n",
       "    <tr>\n",
       "      <th>0</th>\n",
       "      <td>UF2019-1702</td>\n",
       "      <td>62295, 63542</td>\n",
       "      <td>Yes, Yes</td>\n",
       "      <td>BD - Tripped, BD - Grabbed</td>\n",
       "    </tr>\n",
       "    <tr>\n",
       "      <th>1</th>\n",
       "      <td>UF2019-1344</td>\n",
       "      <td>61093</td>\n",
       "      <td>Yes</td>\n",
       "      <td>Held Suspect Down</td>\n",
       "    </tr>\n",
       "    <tr>\n",
       "      <th>2</th>\n",
       "      <td>UF2019-1665</td>\n",
       "      <td>62820</td>\n",
       "      <td>Yes</td>\n",
       "      <td>K-9 Deployment</td>\n",
       "    </tr>\n",
       "    <tr>\n",
       "      <th>3</th>\n",
       "      <td>UF2019-1314</td>\n",
       "      <td>60990</td>\n",
       "      <td>Yes</td>\n",
       "      <td>Joint Locks</td>\n",
       "    </tr>\n",
       "    <tr>\n",
       "      <th>4</th>\n",
       "      <td>UF2019-1030</td>\n",
       "      <td>59592, 59600</td>\n",
       "      <td>Yes, Yes</td>\n",
       "      <td>Joint Locks, BD - Grabbed</td>\n",
       "    </tr>\n",
       "  </tbody>\n",
       "</table>\n",
       "</div>"
      ],
      "text/plain": [
       "       FILENUM        UOFNum ForceEffec                   ForceType\n",
       "0  UF2019-1702  62295, 63542   Yes, Yes  BD - Tripped, BD - Grabbed\n",
       "1  UF2019-1344         61093        Yes           Held Suspect Down\n",
       "2  UF2019-1665         62820        Yes              K-9 Deployment\n",
       "3  UF2019-1314         60990        Yes                 Joint Locks\n",
       "4  UF2019-1030  59592, 59600   Yes, Yes   Joint Locks, BD - Grabbed"
      ]
     },
     "execution_count": 5,
     "metadata": {},
     "output_type": "execute_result"
    }
   ],
   "source": [
    "table1 = df[['FILENUM', 'UOFNum', 'ForceEffec', 'ForceType']]\n",
    "table1.head()"
   ]
  },
  {
   "cell_type": "code",
   "execution_count": 6,
   "metadata": {},
   "outputs": [],
   "source": [
    "for x, y, z in zip(df.UOFNum, df.ForceEffec, df.ForceType):\n",
    "    if len(x.split(\",\")) == len(y.split(\",\")) and len(y.split(\",\")) == len(z.split(\",\")):\n",
    "        pass\n",
    "    else:\n",
    "        print(\"False\")"
   ]
  },
  {
   "cell_type": "code",
   "execution_count": 18,
   "metadata": {},
   "outputs": [],
   "source": [
    "def expand_record(record, lst_appnd):\n",
    "    global commas\n",
    "    global n\n",
    "    commas = False\n",
    "    if \",\" in record:\n",
    "        x = record.split(\",\")\n",
    "        for y in x:\n",
    "            lst_appnd.append(y.lstrip())\n",
    "        commas = True\n",
    "        n = len(x)\n",
    "    else:\n",
    "        lst_appnd.append(record)"
   ]
  },
  {
   "cell_type": "code",
   "execution_count": 19,
   "metadata": {},
   "outputs": [],
   "source": [
    "filenum = []\n",
    "uofnum = []\n",
    "forceeffec = []\n",
    "forcetype = []\n",
    "for fno, uof, foreffc, fortyp in zip(df.FILENUM, df.UOFNum, df.ForceEffec, df.ForceType):\n",
    "    expand_record(uof, uofnum)\n",
    "    if commas == True:\n",
    "        for nn in range(n):\n",
    "            filenum.append(fno)\n",
    "        commas = False\n",
    "    else:\n",
    "        filenum.append(fno)\n",
    "    expand_record(foreffc, forceeffec)\n",
    "    expand_record(fortyp, forcetype)"
   ]
  },
  {
   "cell_type": "code",
   "execution_count": 25,
   "metadata": {},
   "outputs": [
    {
     "data": {
      "text/html": [
       "<div>\n",
       "<style scoped>\n",
       "    .dataframe tbody tr th:only-of-type {\n",
       "        vertical-align: middle;\n",
       "    }\n",
       "\n",
       "    .dataframe tbody tr th {\n",
       "        vertical-align: top;\n",
       "    }\n",
       "\n",
       "    .dataframe thead th {\n",
       "        text-align: right;\n",
       "    }\n",
       "</style>\n",
       "<table border=\"1\" class=\"dataframe\">\n",
       "  <thead>\n",
       "    <tr style=\"text-align: right;\">\n",
       "      <th></th>\n",
       "      <th>FILENUM</th>\n",
       "      <th>UOFNum</th>\n",
       "      <th>ForceEffec</th>\n",
       "      <th>ForceType</th>\n",
       "    </tr>\n",
       "  </thead>\n",
       "  <tbody>\n",
       "    <tr>\n",
       "      <th>0</th>\n",
       "      <td>UF2019-1702</td>\n",
       "      <td>62295</td>\n",
       "      <td>Yes</td>\n",
       "      <td>BD - Tripped</td>\n",
       "    </tr>\n",
       "    <tr>\n",
       "      <th>1</th>\n",
       "      <td>UF2019-1702</td>\n",
       "      <td>63542</td>\n",
       "      <td>Yes</td>\n",
       "      <td>BD - Grabbed</td>\n",
       "    </tr>\n",
       "    <tr>\n",
       "      <th>2</th>\n",
       "      <td>UF2019-1344</td>\n",
       "      <td>61093</td>\n",
       "      <td>Yes</td>\n",
       "      <td>Held Suspect Down</td>\n",
       "    </tr>\n",
       "    <tr>\n",
       "      <th>3</th>\n",
       "      <td>UF2019-1665</td>\n",
       "      <td>62820</td>\n",
       "      <td>Yes</td>\n",
       "      <td>K-9 Deployment</td>\n",
       "    </tr>\n",
       "    <tr>\n",
       "      <th>4</th>\n",
       "      <td>UF2019-1314</td>\n",
       "      <td>60990</td>\n",
       "      <td>Yes</td>\n",
       "      <td>Joint Locks</td>\n",
       "    </tr>\n",
       "  </tbody>\n",
       "</table>\n",
       "</div>"
      ],
      "text/plain": [
       "       FILENUM UOFNum ForceEffec          ForceType\n",
       "0  UF2019-1702  62295        Yes       BD - Tripped\n",
       "1  UF2019-1702  63542        Yes       BD - Grabbed\n",
       "2  UF2019-1344  61093        Yes  Held Suspect Down\n",
       "3  UF2019-1665  62820        Yes     K-9 Deployment\n",
       "4  UF2019-1314  60990        Yes        Joint Locks"
      ]
     },
     "execution_count": 25,
     "metadata": {},
     "output_type": "execute_result"
    }
   ],
   "source": [
    "data = {'FILENUM':filenum, 'UOFNum':uofnum, 'ForceEffec':forceeffec, 'ForceType':forcetype}\n",
    "table1 = pd.DataFrame(data)\n",
    "table1.head()"
   ]
  },
  {
   "cell_type": "markdown",
   "metadata": {},
   "source": [
    "### Misc. exploration"
   ]
  },
  {
   "cell_type": "code",
   "execution_count": 4,
   "metadata": {},
   "outputs": [
    {
     "data": {
      "text/plain": [
       "Black           0.539917\n",
       "Hispanic        0.226084\n",
       "White           0.220234\n",
       "Asian           0.006194\n",
       "Other           0.003785\n",
       "American Ind    0.002409\n",
       "Unknown         0.001376\n",
       "Name: CitRace, dtype: float64"
      ]
     },
     "execution_count": 4,
     "metadata": {},
     "output_type": "execute_result"
    }
   ],
   "source": [
    "df.CitRace.value_counts(normalize=True)"
   ]
  },
  {
   "cell_type": "code",
   "execution_count": 5,
   "metadata": {},
   "outputs": [
    {
     "data": {
      "text/plain": [
       "False    2259\n",
       "True      685\n",
       "Name: CIT_INJURE, dtype: int64"
      ]
     },
     "execution_count": 5,
     "metadata": {},
     "output_type": "execute_result"
    }
   ],
   "source": [
    "df.CIT_INJURE.value_counts()"
   ]
  },
  {
   "cell_type": "code",
   "execution_count": 6,
   "metadata": {},
   "outputs": [],
   "source": [
    "freq = []\n",
    "for x in df.ForceType:\n",
    "    if \",\" in x:\n",
    "        y = x.split(\",\")\n",
    "        for z in y:\n",
    "            freq.append(z.lstrip())\n",
    "    else:\n",
    "        freq.append(x)"
   ]
  },
  {
   "cell_type": "code",
   "execution_count": 7,
   "metadata": {},
   "outputs": [],
   "source": [
    "freq_dict = (pd.Series(freq).value_counts()).to_dict()"
   ]
  },
  {
   "cell_type": "code",
   "execution_count": 8,
   "metadata": {},
   "outputs": [
    {
     "data": {
      "text/plain": [
       "{'Verbal Command': 1235,\n",
       " 'Held Suspect Down': 848,\n",
       " 'Foot Pursuit': 693,\n",
       " 'Weapon display at Person': 548,\n",
       " 'BD - Grabbed': 481,\n",
       " 'Take Down - Body': 303,\n",
       " 'Joint Locks': 297,\n",
       " 'Hand Controlled Escort': 268,\n",
       " 'Take Down - Arm': 262,\n",
       " 'Taser': 195,\n",
       " 'BD - Pushed': 168,\n",
       " 'Hand/Arm/Elbow Strike': 161,\n",
       " 'Taser Display at Person': 159,\n",
       " 'Handcuffing Take Down': 145,\n",
       " 'Feet/Leg/Knee Strike': 105,\n",
       " 'Pressure Points': 79,\n",
       " 'BD - Tripped': 77,\n",
       " 'Take Down - Head': 53,\n",
       " 'Take Down - Group': 49,\n",
       " 'OC Spray': 40,\n",
       " 'Leg Restraint System': 33,\n",
       " 'K-9 Deployment': 20,\n",
       " '40mm Less Lethal': 11,\n",
       " 'Other Impact Weapon': 5,\n",
       " 'Combat Stance': 5,\n",
       " 'LVNR': 4,\n",
       " 'Baton Strike/Open Mode': 3,\n",
       " 'Baton Display': 3,\n",
       " 'Pepperball Impact': 2,\n",
       " 'Vehicle Pursuit': 2,\n",
       " 'Pepperball Saturation': 1,\n",
       " 'Head Butt': 1}"
      ]
     },
     "execution_count": 8,
     "metadata": {},
     "output_type": "execute_result"
    }
   ],
   "source": [
    "freq_dict"
   ]
  },
  {
   "cell_type": "code",
   "execution_count": 23,
   "metadata": {},
   "outputs": [
    {
     "data": {
      "text/plain": [
       "Arrest                      0.496765\n",
       "Active Aggression           0.129384\n",
       "Detention/Frisk             0.123936\n",
       "Danger to self or others    0.090909\n",
       "Weapon Display              0.071161\n",
       "Other                       0.060947\n",
       "Assault to Other Person     0.017024\n",
       "Crowd Disbursement          0.005448\n",
       "Barricaded Person           0.003064\n",
       "Property Destruction        0.001362\n",
       "Name: UOF_REASON, dtype: float64"
      ]
     },
     "execution_count": 23,
     "metadata": {},
     "output_type": "execute_result"
    }
   ],
   "source": [
    "df.UOF_REASON.value_counts(normalize=True)"
   ]
  },
  {
   "cell_type": "code",
   "execution_count": 22,
   "metadata": {},
   "outputs": [
    {
     "data": {
      "text/plain": [
       "D2     0.131741\n",
       "D7     0.121160\n",
       "D14    0.113993\n",
       "D6     0.078498\n",
       "D1     0.074403\n",
       "D10    0.071672\n",
       "D4     0.065188\n",
       "D9     0.065188\n",
       "D8     0.057679\n",
       "D11    0.056997\n",
       "D5     0.049147\n",
       "D12    0.041297\n",
       "D13    0.040956\n",
       "D3     0.032082\n",
       "Name: Council District, dtype: float64"
      ]
     },
     "execution_count": 22,
     "metadata": {},
     "output_type": "execute_result"
    }
   ],
   "source": [
    "df['Council District'].value_counts(normalize=True)"
   ]
  },
  {
   "cell_type": "code",
   "execution_count": 24,
   "metadata": {},
   "outputs": [
    {
     "data": {
      "text/plain": [
       "White           1703\n",
       "Hispanic         737\n",
       "Black            351\n",
       "Asian            107\n",
       "Other             27\n",
       "American Ind      19\n",
       "Name: OffRace, dtype: int64"
      ]
     },
     "execution_count": 24,
     "metadata": {},
     "output_type": "execute_result"
    }
   ],
   "source": [
    "df.OffRace.value_counts()"
   ]
  },
  {
   "cell_type": "code",
   "execution_count": 43,
   "metadata": {},
   "outputs": [],
   "source": [
    "df.HIRE_DT = pd.to_datetime(df.HIRE_DT)"
   ]
  },
  {
   "cell_type": "code",
   "execution_count": 49,
   "metadata": {},
   "outputs": [
    {
     "data": {
      "text/html": [
       "<div>\n",
       "<style scoped>\n",
       "    .dataframe tbody tr th:only-of-type {\n",
       "        vertical-align: middle;\n",
       "    }\n",
       "\n",
       "    .dataframe tbody tr th {\n",
       "        vertical-align: top;\n",
       "    }\n",
       "\n",
       "    .dataframe thead th {\n",
       "        text-align: right;\n",
       "    }\n",
       "</style>\n",
       "<table border=\"1\" class=\"dataframe\">\n",
       "  <thead>\n",
       "    <tr style=\"text-align: right;\">\n",
       "      <th></th>\n",
       "      <th>HIRE_DT</th>\n",
       "      <th>OffRace</th>\n",
       "    </tr>\n",
       "  </thead>\n",
       "  <tbody>\n",
       "    <tr>\n",
       "      <td>0</td>\n",
       "      <td>2017-03-08</td>\n",
       "      <td>White</td>\n",
       "    </tr>\n",
       "    <tr>\n",
       "      <td>1</td>\n",
       "      <td>2016-08-24</td>\n",
       "      <td>White</td>\n",
       "    </tr>\n",
       "    <tr>\n",
       "      <td>2</td>\n",
       "      <td>2008-04-02</td>\n",
       "      <td>White</td>\n",
       "    </tr>\n",
       "    <tr>\n",
       "      <td>3</td>\n",
       "      <td>2009-06-10</td>\n",
       "      <td>Hispanic</td>\n",
       "    </tr>\n",
       "    <tr>\n",
       "      <td>4</td>\n",
       "      <td>2012-09-26</td>\n",
       "      <td>Hispanic</td>\n",
       "    </tr>\n",
       "    <tr>\n",
       "      <td>...</td>\n",
       "      <td>...</td>\n",
       "      <td>...</td>\n",
       "    </tr>\n",
       "    <tr>\n",
       "      <td>2939</td>\n",
       "      <td>1990-11-26</td>\n",
       "      <td>White</td>\n",
       "    </tr>\n",
       "    <tr>\n",
       "      <td>2940</td>\n",
       "      <td>1991-07-29</td>\n",
       "      <td>Black</td>\n",
       "    </tr>\n",
       "    <tr>\n",
       "      <td>2941</td>\n",
       "      <td>2003-08-18</td>\n",
       "      <td>White</td>\n",
       "    </tr>\n",
       "    <tr>\n",
       "      <td>2942</td>\n",
       "      <td>2004-06-04</td>\n",
       "      <td>White</td>\n",
       "    </tr>\n",
       "    <tr>\n",
       "      <td>2943</td>\n",
       "      <td>2012-06-20</td>\n",
       "      <td>White</td>\n",
       "    </tr>\n",
       "  </tbody>\n",
       "</table>\n",
       "<p>2944 rows × 2 columns</p>\n",
       "</div>"
      ],
      "text/plain": [
       "        HIRE_DT   OffRace\n",
       "0    2017-03-08     White\n",
       "1    2016-08-24     White\n",
       "2    2008-04-02     White\n",
       "3    2009-06-10  Hispanic\n",
       "4    2012-09-26  Hispanic\n",
       "...         ...       ...\n",
       "2939 1990-11-26     White\n",
       "2940 1991-07-29     Black\n",
       "2941 2003-08-18     White\n",
       "2942 2004-06-04     White\n",
       "2943 2012-06-20     White\n",
       "\n",
       "[2944 rows x 2 columns]"
      ]
     },
     "execution_count": 49,
     "metadata": {},
     "output_type": "execute_result"
    }
   ],
   "source": [
    "df[['HIRE_DT', 'OffRace']]"
   ]
  },
  {
   "cell_type": "code",
   "execution_count": 50,
   "metadata": {},
   "outputs": [
    {
     "data": {
      "image/png": "[encoded data removed]",
      "text/plain": [
       "<Figure size 432x288 with 1 Axes>"
      ]
     },
     "metadata": {
      "needs_background": "light"
     },
     "output_type": "display_data"
    }
   ],
   "source": [
    "df.HIRE_DT.hist();"
   ]
  },
  {
   "cell_type": "code",
   "execution_count": null,
   "metadata": {},
   "outputs": [],
   "source": []
  }
 ],
 "metadata": {
  "kernelspec": {
   "display_name": "Python 3",
   "language": "python",
   "name": "python3"
  },
  "language_info": {
   "codemirror_mode": {
    "name": "ipython",
    "version": 3
   },
   "file_extension": ".py",
   "mimetype": "text/x-python",
   "name": "python",
   "nbconvert_exporter": "python",
   "pygments_lexer": "ipython3",
   "version": "3.7.6"
  }
 },
 "nbformat": 4,
 "nbformat_minor": 2
}
