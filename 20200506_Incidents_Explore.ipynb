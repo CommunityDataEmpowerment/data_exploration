{
 "cells": [
  {
   "cell_type": "code",
   "execution_count": 1,
   "metadata": {},
   "outputs": [],
   "source": [
    "import pandas as pd"
   ]
  },
  {
   "cell_type": "code",
   "execution_count": 2,
   "metadata": {},
   "outputs": [],
   "source": [
    "import matplotlib.pyplot as plt\n",
    "%matplotlib inline"
   ]
  },
  {
   "cell_type": "code",
   "execution_count": 64,
   "metadata": {},
   "outputs": [
    {
     "name": "stderr",
     "output_type": "stream",
     "text": [
      "/opt/anaconda3/lib/python3.7/site-packages/IPython/core/interactiveshell.py:3058: DtypeWarning: Columns (52,57,64) have mixed types. Specify dtype option on import or set low_memory=False.\n",
      "  interactivity=interactivity, compiler=compiler, result=result)\n"
     ]
    }
   ],
   "source": [
    "df = pd.read_csv('https://datapolitan-training-files.s3.amazonaws.com/20200506_Police_Incidents.csv')"
   ]
  },
  {
   "cell_type": "code",
   "execution_count": 65,
   "metadata": {},
   "outputs": [
    {
     "data": {
      "text/html": [
       "<div>\n",
       "<style scoped>\n",
       "    .dataframe tbody tr th:only-of-type {\n",
       "        vertical-align: middle;\n",
       "    }\n",
       "\n",
       "    .dataframe tbody tr th {\n",
       "        vertical-align: top;\n",
       "    }\n",
       "\n",
       "    .dataframe thead th {\n",
       "        text-align: right;\n",
       "    }\n",
       "</style>\n",
       "<table border=\"1\" class=\"dataframe\">\n",
       "  <thead>\n",
       "    <tr style=\"text-align: right;\">\n",
       "      <th></th>\n",
       "      <th>Incident Number w/year</th>\n",
       "      <th>Year of Incident</th>\n",
       "      <th>Service Number ID</th>\n",
       "      <th>Watch</th>\n",
       "      <th>Call (911) Problem</th>\n",
       "      <th>Type of Incident</th>\n",
       "      <th>Type  Location</th>\n",
       "      <th>Type of Property</th>\n",
       "      <th>Incident Address</th>\n",
       "      <th>Apartment Number</th>\n",
       "      <th>...</th>\n",
       "      <th>NIBRS Code</th>\n",
       "      <th>NIBRS Group</th>\n",
       "      <th>NIBRS Type</th>\n",
       "      <th>Update Date</th>\n",
       "      <th>X Coordinate</th>\n",
       "      <th>Y Cordinate</th>\n",
       "      <th>Zip Code</th>\n",
       "      <th>City</th>\n",
       "      <th>State</th>\n",
       "      <th>Location1</th>\n",
       "    </tr>\n",
       "  </thead>\n",
       "  <tbody>\n",
       "    <tr>\n",
       "      <td>0</td>\n",
       "      <td>031359-2020</td>\n",
       "      <td>2020</td>\n",
       "      <td>031359-2020-01</td>\n",
       "      <td>2</td>\n",
       "      <td>58 - ROUTINE INVESTIGATION</td>\n",
       "      <td>THEFT OF PROP &gt; OR EQUAL $2,500 &lt;$30K (NOT SHO...</td>\n",
       "      <td>Single Family Residence - Occupied</td>\n",
       "      <td>NaN</td>\n",
       "      <td>6506 PEMBERTON DR</td>\n",
       "      <td>NaN</td>\n",
       "      <td>...</td>\n",
       "      <td>23H</td>\n",
       "      <td>A</td>\n",
       "      <td>Coded</td>\n",
       "      <td>2020-02-26 14:45:48.0000000</td>\n",
       "      <td>2.492434e+06</td>\n",
       "      <td>7.011514e+06</td>\n",
       "      <td>75230.0</td>\n",
       "      <td>DALLAS</td>\n",
       "      <td>TX</td>\n",
       "      <td>6506 PEMBERTON DR\\nDALLAS, TX 75230\\n(32.89150...</td>\n",
       "    </tr>\n",
       "    <tr>\n",
       "      <td>1</td>\n",
       "      <td>064876-2020</td>\n",
       "      <td>2020</td>\n",
       "      <td>064876-2020-01</td>\n",
       "      <td>2</td>\n",
       "      <td>6X - MAJOR DIST (VIOLENCE)</td>\n",
       "      <td>CRIMINAL TRESPASS WARNING</td>\n",
       "      <td>Hotel/Motel/ETC</td>\n",
       "      <td>NaN</td>\n",
       "      <td>10835 COMPOSITE DR</td>\n",
       "      <td>410</td>\n",
       "      <td>...</td>\n",
       "      <td>999</td>\n",
       "      <td>C</td>\n",
       "      <td>999 - No Coded</td>\n",
       "      <td>2020-04-12 12:16:01.0000000</td>\n",
       "      <td>2.460671e+06</td>\n",
       "      <td>7.005910e+06</td>\n",
       "      <td>75220.0</td>\n",
       "      <td>DALLAS</td>\n",
       "      <td>TX</td>\n",
       "      <td>10835 COMPOSITE DR\\nDALLAS, TX 75220\\n(32.8774...</td>\n",
       "    </tr>\n",
       "    <tr>\n",
       "      <td>2</td>\n",
       "      <td>020512-2020</td>\n",
       "      <td>2020</td>\n",
       "      <td>020512-2020-01</td>\n",
       "      <td>2</td>\n",
       "      <td>PSE/09 - THEFT</td>\n",
       "      <td>THEFT OF PROP &gt; OR EQUAL $750 &lt;$2,500 (NOT SHO...</td>\n",
       "      <td>Apartment Residence</td>\n",
       "      <td>None</td>\n",
       "      <td>9110 SOUTHWESTERN BLVD</td>\n",
       "      <td>4300</td>\n",
       "      <td>...</td>\n",
       "      <td>23H</td>\n",
       "      <td>A</td>\n",
       "      <td>Coded</td>\n",
       "      <td>2020-04-24 13:00:01.0000000</td>\n",
       "      <td>2.504918e+06</td>\n",
       "      <td>6.998741e+06</td>\n",
       "      <td>75214.0</td>\n",
       "      <td>DALLAS</td>\n",
       "      <td>TX</td>\n",
       "      <td>9110 SOUTHWESTERN BLVD\\nDALLAS, TX 75214\\n(32....</td>\n",
       "    </tr>\n",
       "    <tr>\n",
       "      <td>3</td>\n",
       "      <td>805157-2019</td>\n",
       "      <td>2019</td>\n",
       "      <td>805157-2019-01</td>\n",
       "      <td>1</td>\n",
       "      <td>NaN</td>\n",
       "      <td>LOST PROPERTY (NO OFFENSE)</td>\n",
       "      <td>Bank/Savings And Loan</td>\n",
       "      <td>NaN</td>\n",
       "      <td>4771 SATURN RD</td>\n",
       "      <td>NaN</td>\n",
       "      <td>...</td>\n",
       "      <td>999</td>\n",
       "      <td>C</td>\n",
       "      <td>999 - No Coded</td>\n",
       "      <td>2019-11-07 19:13:16.0000000</td>\n",
       "      <td>2.536648e+06</td>\n",
       "      <td>7.000784e+06</td>\n",
       "      <td>75041.0</td>\n",
       "      <td>GARLAND</td>\n",
       "      <td>TX</td>\n",
       "      <td>4771 SATURN RD\\nGARLAND, TX 75041\\n(32.861041,...</td>\n",
       "    </tr>\n",
       "    <tr>\n",
       "      <td>4</td>\n",
       "      <td>268491-2016</td>\n",
       "      <td>2016</td>\n",
       "      <td>268491-2016-01</td>\n",
       "      <td>1</td>\n",
       "      <td>09V - UUMV</td>\n",
       "      <td>UNAUTHORIZED USE OF MOTOR VEH - AUTOMOBILE</td>\n",
       "      <td>Highway, Street, Alley ETC</td>\n",
       "      <td>NaN</td>\n",
       "      <td>3112 STATE ST</td>\n",
       "      <td>E</td>\n",
       "      <td>...</td>\n",
       "      <td>NaN</td>\n",
       "      <td>NaN</td>\n",
       "      <td>NaN</td>\n",
       "      <td>2016-11-14 05:41:23.0000000</td>\n",
       "      <td>2.492080e+06</td>\n",
       "      <td>6.977853e+06</td>\n",
       "      <td>75204.0</td>\n",
       "      <td>DALLAS</td>\n",
       "      <td>TX</td>\n",
       "      <td>3112 STATE ST\\nDALLAS, TX 75204\\n(32.799547, -...</td>\n",
       "    </tr>\n",
       "  </tbody>\n",
       "</table>\n",
       "<p>5 rows × 100 columns</p>\n",
       "</div>"
      ],
      "text/plain": [
       "  Incident Number w/year  Year of Incident Service Number ID  Watch  \\\n",
       "0            031359-2020              2020    031359-2020-01      2   \n",
       "1            064876-2020              2020    064876-2020-01      2   \n",
       "2            020512-2020              2020    020512-2020-01      2   \n",
       "3            805157-2019              2019    805157-2019-01      1   \n",
       "4            268491-2016              2016    268491-2016-01      1   \n",
       "\n",
       "           Call (911) Problem  \\\n",
       "0  58 - ROUTINE INVESTIGATION   \n",
       "1  6X - MAJOR DIST (VIOLENCE)   \n",
       "2              PSE/09 - THEFT   \n",
       "3                         NaN   \n",
       "4                  09V - UUMV   \n",
       "\n",
       "                                    Type of Incident  \\\n",
       "0  THEFT OF PROP > OR EQUAL $2,500 <$30K (NOT SHO...   \n",
       "1                          CRIMINAL TRESPASS WARNING   \n",
       "2  THEFT OF PROP > OR EQUAL $750 <$2,500 (NOT SHO...   \n",
       "3                         LOST PROPERTY (NO OFFENSE)   \n",
       "4         UNAUTHORIZED USE OF MOTOR VEH - AUTOMOBILE   \n",
       "\n",
       "                       Type  Location Type of Property  \\\n",
       "0  Single Family Residence - Occupied              NaN   \n",
       "1                     Hotel/Motel/ETC              NaN   \n",
       "2                 Apartment Residence             None   \n",
       "3               Bank/Savings And Loan              NaN   \n",
       "4          Highway, Street, Alley ETC              NaN   \n",
       "\n",
       "         Incident Address Apartment Number  ...  NIBRS Code  NIBRS Group  \\\n",
       "0       6506 PEMBERTON DR              NaN  ...         23H            A   \n",
       "1      10835 COMPOSITE DR              410  ...         999            C   \n",
       "2  9110 SOUTHWESTERN BLVD             4300  ...         23H            A   \n",
       "3          4771 SATURN RD              NaN  ...         999            C   \n",
       "4           3112 STATE ST                E  ...         NaN          NaN   \n",
       "\n",
       "       NIBRS Type                  Update Date  X Coordinate   Y Cordinate  \\\n",
       "0           Coded  2020-02-26 14:45:48.0000000  2.492434e+06  7.011514e+06   \n",
       "1  999 - No Coded  2020-04-12 12:16:01.0000000  2.460671e+06  7.005910e+06   \n",
       "2           Coded  2020-04-24 13:00:01.0000000  2.504918e+06  6.998741e+06   \n",
       "3  999 - No Coded  2019-11-07 19:13:16.0000000  2.536648e+06  7.000784e+06   \n",
       "4             NaN  2016-11-14 05:41:23.0000000  2.492080e+06  6.977853e+06   \n",
       "\n",
       "  Zip Code     City  State                                          Location1  \n",
       "0  75230.0   DALLAS     TX  6506 PEMBERTON DR\\nDALLAS, TX 75230\\n(32.89150...  \n",
       "1  75220.0   DALLAS     TX  10835 COMPOSITE DR\\nDALLAS, TX 75220\\n(32.8774...  \n",
       "2  75214.0   DALLAS     TX  9110 SOUTHWESTERN BLVD\\nDALLAS, TX 75214\\n(32....  \n",
       "3  75041.0  GARLAND     TX  4771 SATURN RD\\nGARLAND, TX 75041\\n(32.861041,...  \n",
       "4  75204.0   DALLAS     TX  3112 STATE ST\\nDALLAS, TX 75204\\n(32.799547, -...  \n",
       "\n",
       "[5 rows x 100 columns]"
      ]
     },
     "execution_count": 65,
     "metadata": {},
     "output_type": "execute_result"
    }
   ],
   "source": [
    "df.head()"
   ]
  },
  {
   "cell_type": "code",
   "execution_count": 20,
   "metadata": {},
   "outputs": [
    {
     "data": {
      "text/plain": [
       "(407750, 100)"
      ]
     },
     "execution_count": 20,
     "metadata": {},
     "output_type": "execute_result"
    }
   ],
   "source": [
    "df.shape"
   ]
  },
  {
   "cell_type": "code",
   "execution_count": 21,
   "metadata": {},
   "outputs": [
    {
     "data": {
      "text/plain": [
       "Index(['Incident Number w/year', 'Year of Incident', 'Service Number ID',\n",
       "       'Watch', 'Call (911) Problem', 'Type of Incident', 'Type  Location',\n",
       "       'Type of Property', 'Incident Address', 'Apartment Number',\n",
       "       'Reporting Area', 'Beat', 'Division', 'Sector', 'Council District',\n",
       "       'Target Area Action Grids', 'Community', 'Date1 of Occurrence',\n",
       "       'Year1 of Occurrence', 'Month1 of Occurence', 'Day1 of the Week',\n",
       "       'Time1 of Occurrence', 'Day1 of the Year', 'Date2 of Occurrence ',\n",
       "       'Year2 of Occurrence', 'Month2 of Occurence', 'Day2 of the Week',\n",
       "       'Time2 of Occurrence', 'Day2 of the Year', 'Date of Report',\n",
       "       'Date incident created', 'Offense Entered Year',\n",
       "       'Offense Entered Month', 'Offense Entered Day of the Week',\n",
       "       'Offense Entered Time', 'Offense Entered  Date/Time', 'CFS Number',\n",
       "       'Call Received Date Time', 'Call Date Time', 'Call Cleared Date Time',\n",
       "       'Call Dispatch Date Time', 'Special Report (Pre-RMS)',\n",
       "       'Person Involvement Type', 'Victim Type', 'Victim Name', 'Victim Race',\n",
       "       'Victim Ethnicity', 'Victim Gender', 'Victim Age',\n",
       "       'Victim Age at Offense', 'Victim Home Address', 'Victim Apartment',\n",
       "       'Victim Zip Code', 'Victim City', 'Victim State',\n",
       "       'Victim Business Name', 'Victim Business Address',\n",
       "       'Victim Business Phone', 'Responding Officer #1  Badge No',\n",
       "       'Responding Officer #1  Name', 'Responding Officer #2 Badge No',\n",
       "       'Responding Officer #2  Name', 'Reporting Officer Badge No',\n",
       "       'Assisting Officer Badge No', 'Reviewing Officer Badge No',\n",
       "       'Element Number Assigned', 'Investigating Unit 1',\n",
       "       'Investigating Unit 2', 'Offense Status', 'UCR Disposition',\n",
       "       'Victim Injury Description', 'Victim Condition', 'Modus Operandi (MO)',\n",
       "       'Family Offense', 'Hate Crime', 'Hate Crime Description', 'Weapon Used',\n",
       "       'Gang Related Offense', 'Victim Package', 'Drug Related Istevencident',\n",
       "       'RMS Code', 'Criminal Justice Information Service Code', 'Penal Code',\n",
       "       'UCR Offense Name', 'UCR Offense Description', ' UCR Code',\n",
       "       'Offense Type', 'NIBRS Crime', 'NIBRS Crime Category',\n",
       "       'NIBRS Crime Against', 'NIBRS Code', 'NIBRS Group', 'NIBRS Type',\n",
       "       'Update Date', 'X Coordinate', 'Y Cordinate', 'Zip Code', 'City',\n",
       "       'State', 'Location1'],\n",
       "      dtype='object')"
      ]
     },
     "execution_count": 21,
     "metadata": {},
     "output_type": "execute_result"
    }
   ],
   "source": [
    "df.columns"
   ]
  },
  {
   "cell_type": "markdown",
   "metadata": {},
   "source": [
    "## Check the timeframe"
   ]
  },
  {
   "cell_type": "code",
   "execution_count": 22,
   "metadata": {},
   "outputs": [],
   "source": [
    "date_cols = ['Year of Incident',\\\n",
    "             'Date1 of Occurrence','Time1 of Occurrence',\\\n",
    "             'Date2 of Occurrence ','Time2 of Occurrence',\\\n",
    "             'Date of Report','Date incident created',\\\n",
    "             'Offense Entered Year','Offense Entered Month', 'Offense Entered Day of the Week',\\\n",
    "             'Offense Entered Time', 'Offense Entered  Date/Time',\\\n",
    "             'Call Received Date Time','Call Date Time', 'Call Cleared Date Time','Call Dispatch Date Time']"
   ]
  },
  {
   "cell_type": "code",
   "execution_count": 23,
   "metadata": {},
   "outputs": [],
   "source": [
    "df_date = df[date_cols]"
   ]
  },
  {
   "cell_type": "code",
   "execution_count": 28,
   "metadata": {},
   "outputs": [
    {
     "data": {
      "text/html": [
       "<div>\n",
       "<style scoped>\n",
       "    .dataframe tbody tr th:only-of-type {\n",
       "        vertical-align: middle;\n",
       "    }\n",
       "\n",
       "    .dataframe tbody tr th {\n",
       "        vertical-align: top;\n",
       "    }\n",
       "\n",
       "    .dataframe thead th {\n",
       "        text-align: right;\n",
       "    }\n",
       "</style>\n",
       "<table border=\"1\" class=\"dataframe\">\n",
       "  <thead>\n",
       "    <tr style=\"text-align: right;\">\n",
       "      <th></th>\n",
       "      <th>Year of Incident</th>\n",
       "      <th>Date1 of Occurrence</th>\n",
       "      <th>Time1 of Occurrence</th>\n",
       "      <th>Date2 of Occurrence</th>\n",
       "      <th>Time2 of Occurrence</th>\n",
       "      <th>Date of Report</th>\n",
       "      <th>Date incident created</th>\n",
       "      <th>Offense Entered Year</th>\n",
       "      <th>Offense Entered Month</th>\n",
       "      <th>Offense Entered Day of the Week</th>\n",
       "      <th>Offense Entered Time</th>\n",
       "      <th>Offense Entered  Date/Time</th>\n",
       "      <th>Call Received Date Time</th>\n",
       "      <th>Call Date Time</th>\n",
       "      <th>Call Cleared Date Time</th>\n",
       "      <th>Call Dispatch Date Time</th>\n",
       "    </tr>\n",
       "  </thead>\n",
       "  <tbody>\n",
       "    <tr>\n",
       "      <td>0</td>\n",
       "      <td>2020</td>\n",
       "      <td>2020-02-16 00:00:00.0000000</td>\n",
       "      <td>08:00</td>\n",
       "      <td>2020-02-16 00:00:00.0000000</td>\n",
       "      <td>08:45</td>\n",
       "      <td>2020-02-16 08:59:00.0000000</td>\n",
       "      <td>2020-02-16 09:05:42.0000000</td>\n",
       "      <td>2020</td>\n",
       "      <td>February</td>\n",
       "      <td>Sun</td>\n",
       "      <td>09:05</td>\n",
       "      <td>47</td>\n",
       "      <td>2020-02-16 08:59:52.0000000</td>\n",
       "      <td>2020-02-16 08:59:52.0000000</td>\n",
       "      <td>2020-02-16 09:59:16.0000000</td>\n",
       "      <td>2020-02-16 08:59:53.0000000</td>\n",
       "    </tr>\n",
       "    <tr>\n",
       "      <td>1</td>\n",
       "      <td>2020</td>\n",
       "      <td>2020-04-09 00:00:00.0000000</td>\n",
       "      <td>11:50</td>\n",
       "      <td>2020-04-09 00:00:00.0000000</td>\n",
       "      <td>12:04</td>\n",
       "      <td>2020-04-09 12:04:00.0000000</td>\n",
       "      <td>2020-04-09 12:53:38.0000000</td>\n",
       "      <td>2020</td>\n",
       "      <td>April</td>\n",
       "      <td>Thu</td>\n",
       "      <td>12:53</td>\n",
       "      <td>100</td>\n",
       "      <td>2020-04-09 12:04:49.0000000</td>\n",
       "      <td>2020-04-09 12:04:49.0000000</td>\n",
       "      <td>2020-04-09 14:30:26.0000000</td>\n",
       "      <td>2020-04-09 12:11:03.0000000</td>\n",
       "    </tr>\n",
       "    <tr>\n",
       "      <td>2</td>\n",
       "      <td>2020</td>\n",
       "      <td>2020-01-29 00:00:00.0000000</td>\n",
       "      <td>13:00</td>\n",
       "      <td>2020-01-31 00:00:00.0000000</td>\n",
       "      <td>08:00</td>\n",
       "      <td>2020-01-31 09:45:00.0000000</td>\n",
       "      <td>2020-01-31 10:16:02.0000000</td>\n",
       "      <td>2020</td>\n",
       "      <td>January</td>\n",
       "      <td>Fri</td>\n",
       "      <td>10:16</td>\n",
       "      <td>31</td>\n",
       "      <td>2020-01-31 09:45:34.0000000</td>\n",
       "      <td>2020-01-31 09:45:34.0000000</td>\n",
       "      <td>2020-01-31 10:48:35.0000000</td>\n",
       "      <td>2020-01-31 09:49:20.0000000</td>\n",
       "    </tr>\n",
       "    <tr>\n",
       "      <td>3</td>\n",
       "      <td>2019</td>\n",
       "      <td>2019-11-04 00:00:00.0000000</td>\n",
       "      <td>13:05</td>\n",
       "      <td>2019-11-07 00:00:00.0000000</td>\n",
       "      <td>13:10</td>\n",
       "      <td>2019-11-07 18:16:39.0000000</td>\n",
       "      <td>2019-11-07 19:05:11.0000000</td>\n",
       "      <td>2019</td>\n",
       "      <td>November</td>\n",
       "      <td>Thu</td>\n",
       "      <td>19:05</td>\n",
       "      <td>311</td>\n",
       "      <td>NaN</td>\n",
       "      <td>NaN</td>\n",
       "      <td>NaN</td>\n",
       "      <td>NaN</td>\n",
       "    </tr>\n",
       "    <tr>\n",
       "      <td>4</td>\n",
       "      <td>2016</td>\n",
       "      <td>2016-11-09 00:00:00.0000000</td>\n",
       "      <td>00:30</td>\n",
       "      <td>2016-11-09 00:00:00.0000000</td>\n",
       "      <td>07:45</td>\n",
       "      <td>2016-11-09 10:00:00.0000000</td>\n",
       "      <td>2016-11-09 09:51:32.0000000</td>\n",
       "      <td>2016</td>\n",
       "      <td>November</td>\n",
       "      <td>Wed</td>\n",
       "      <td>09:51</td>\n",
       "      <td>314</td>\n",
       "      <td>2016-11-09 07:48:52.0000000</td>\n",
       "      <td>2016-11-09 07:48:51.0000000</td>\n",
       "      <td>2016-11-09 10:56:54.0000000</td>\n",
       "      <td>2016-11-09 09:33:19.0000000</td>\n",
       "    </tr>\n",
       "  </tbody>\n",
       "</table>\n",
       "</div>"
      ],
      "text/plain": [
       "   Year of Incident          Date1 of Occurrence Time1 of Occurrence  \\\n",
       "0              2020  2020-02-16 00:00:00.0000000               08:00   \n",
       "1              2020  2020-04-09 00:00:00.0000000               11:50   \n",
       "2              2020  2020-01-29 00:00:00.0000000               13:00   \n",
       "3              2019  2019-11-04 00:00:00.0000000               13:05   \n",
       "4              2016  2016-11-09 00:00:00.0000000               00:30   \n",
       "\n",
       "          Date2 of Occurrence  Time2 of Occurrence  \\\n",
       "0  2020-02-16 00:00:00.0000000               08:45   \n",
       "1  2020-04-09 00:00:00.0000000               12:04   \n",
       "2  2020-01-31 00:00:00.0000000               08:00   \n",
       "3  2019-11-07 00:00:00.0000000               13:10   \n",
       "4  2016-11-09 00:00:00.0000000               07:45   \n",
       "\n",
       "                Date of Report        Date incident created  \\\n",
       "0  2020-02-16 08:59:00.0000000  2020-02-16 09:05:42.0000000   \n",
       "1  2020-04-09 12:04:00.0000000  2020-04-09 12:53:38.0000000   \n",
       "2  2020-01-31 09:45:00.0000000  2020-01-31 10:16:02.0000000   \n",
       "3  2019-11-07 18:16:39.0000000  2019-11-07 19:05:11.0000000   \n",
       "4  2016-11-09 10:00:00.0000000  2016-11-09 09:51:32.0000000   \n",
       "\n",
       "   Offense Entered Year Offense Entered Month Offense Entered Day of the Week  \\\n",
       "0                  2020              February                             Sun   \n",
       "1                  2020                 April                             Thu   \n",
       "2                  2020               January                             Fri   \n",
       "3                  2019              November                             Thu   \n",
       "4                  2016              November                             Wed   \n",
       "\n",
       "  Offense Entered Time  Offense Entered  Date/Time  \\\n",
       "0                09:05                          47   \n",
       "1                12:53                         100   \n",
       "2                10:16                          31   \n",
       "3                19:05                         311   \n",
       "4                09:51                         314   \n",
       "\n",
       "       Call Received Date Time               Call Date Time  \\\n",
       "0  2020-02-16 08:59:52.0000000  2020-02-16 08:59:52.0000000   \n",
       "1  2020-04-09 12:04:49.0000000  2020-04-09 12:04:49.0000000   \n",
       "2  2020-01-31 09:45:34.0000000  2020-01-31 09:45:34.0000000   \n",
       "3                          NaN                          NaN   \n",
       "4  2016-11-09 07:48:52.0000000  2016-11-09 07:48:51.0000000   \n",
       "\n",
       "        Call Cleared Date Time      Call Dispatch Date Time  \n",
       "0  2020-02-16 09:59:16.0000000  2020-02-16 08:59:53.0000000  \n",
       "1  2020-04-09 14:30:26.0000000  2020-04-09 12:11:03.0000000  \n",
       "2  2020-01-31 10:48:35.0000000  2020-01-31 09:49:20.0000000  \n",
       "3                          NaN                          NaN  \n",
       "4  2016-11-09 10:56:54.0000000  2016-11-09 09:33:19.0000000  "
      ]
     },
     "execution_count": 28,
     "metadata": {},
     "output_type": "execute_result"
    }
   ],
   "source": [
    "df_date.head()"
   ]
  },
  {
   "cell_type": "markdown",
   "metadata": {},
   "source": [
    "**Min and Max Dates**"
   ]
  },
  {
   "cell_type": "code",
   "execution_count": 29,
   "metadata": {},
   "outputs": [
    {
     "data": {
      "text/plain": [
       "'2020-05-05 23:25:53.0000000'"
      ]
     },
     "execution_count": 29,
     "metadata": {},
     "output_type": "execute_result"
    }
   ],
   "source": [
    "df_date['Date incident created'].max()"
   ]
  },
  {
   "cell_type": "code",
   "execution_count": 30,
   "metadata": {},
   "outputs": [
    {
     "data": {
      "text/plain": [
       "'2014-06-01 02:34:43.0000000'"
      ]
     },
     "execution_count": 30,
     "metadata": {},
     "output_type": "execute_result"
    }
   ],
   "source": [
    "df_date['Date incident created'].min()"
   ]
  },
  {
   "cell_type": "markdown",
   "metadata": {},
   "source": [
    "**Average incidents per day**"
   ]
  },
  {
   "cell_type": "code",
   "execution_count": 32,
   "metadata": {},
   "outputs": [
    {
     "data": {
      "text/plain": [
       "str"
      ]
     },
     "execution_count": 32,
     "metadata": {},
     "output_type": "execute_result"
    }
   ],
   "source": [
    "type(df_date['Date incident created'][0])"
   ]
  },
  {
   "cell_type": "code",
   "execution_count": 36,
   "metadata": {},
   "outputs": [
    {
     "name": "stderr",
     "output_type": "stream",
     "text": [
      "/opt/anaconda3/lib/python3.7/site-packages/ipykernel_launcher.py:1: SettingWithCopyWarning: \n",
      "A value is trying to be set on a copy of a slice from a DataFrame.\n",
      "Try using .loc[row_indexer,col_indexer] = value instead\n",
      "\n",
      "See the caveats in the documentation: http://pandas.pydata.org/pandas-docs/stable/user_guide/indexing.html#returning-a-view-versus-a-copy\n",
      "  \"\"\"Entry point for launching an IPython kernel.\n"
     ]
    }
   ],
   "source": [
    "df_date['created_date_format'] = df_date['Date incident created'].apply(lambda x:pd.to_datetime(x))"
   ]
  },
  {
   "cell_type": "code",
   "execution_count": 37,
   "metadata": {},
   "outputs": [
    {
     "data": {
      "text/html": [
       "<div>\n",
       "<style scoped>\n",
       "    .dataframe tbody tr th:only-of-type {\n",
       "        vertical-align: middle;\n",
       "    }\n",
       "\n",
       "    .dataframe tbody tr th {\n",
       "        vertical-align: top;\n",
       "    }\n",
       "\n",
       "    .dataframe thead th {\n",
       "        text-align: right;\n",
       "    }\n",
       "</style>\n",
       "<table border=\"1\" class=\"dataframe\">\n",
       "  <thead>\n",
       "    <tr style=\"text-align: right;\">\n",
       "      <th></th>\n",
       "      <th>Year of Incident</th>\n",
       "      <th>Date1 of Occurrence</th>\n",
       "      <th>Time1 of Occurrence</th>\n",
       "      <th>Date2 of Occurrence</th>\n",
       "      <th>Time2 of Occurrence</th>\n",
       "      <th>Date of Report</th>\n",
       "      <th>Date incident created</th>\n",
       "      <th>Offense Entered Year</th>\n",
       "      <th>Offense Entered Month</th>\n",
       "      <th>Offense Entered Day of the Week</th>\n",
       "      <th>Offense Entered Time</th>\n",
       "      <th>Offense Entered  Date/Time</th>\n",
       "      <th>Call Received Date Time</th>\n",
       "      <th>Call Date Time</th>\n",
       "      <th>Call Cleared Date Time</th>\n",
       "      <th>Call Dispatch Date Time</th>\n",
       "      <th>created_date_format</th>\n",
       "    </tr>\n",
       "  </thead>\n",
       "  <tbody>\n",
       "    <tr>\n",
       "      <td>0</td>\n",
       "      <td>2020</td>\n",
       "      <td>2020-02-16 00:00:00.0000000</td>\n",
       "      <td>08:00</td>\n",
       "      <td>2020-02-16 00:00:00.0000000</td>\n",
       "      <td>08:45</td>\n",
       "      <td>2020-02-16 08:59:00.0000000</td>\n",
       "      <td>2020-02-16 09:05:42.0000000</td>\n",
       "      <td>2020</td>\n",
       "      <td>February</td>\n",
       "      <td>Sun</td>\n",
       "      <td>09:05</td>\n",
       "      <td>47</td>\n",
       "      <td>2020-02-16 08:59:52.0000000</td>\n",
       "      <td>2020-02-16 08:59:52.0000000</td>\n",
       "      <td>2020-02-16 09:59:16.0000000</td>\n",
       "      <td>2020-02-16 08:59:53.0000000</td>\n",
       "      <td>2020-02-16 09:05:42</td>\n",
       "    </tr>\n",
       "    <tr>\n",
       "      <td>1</td>\n",
       "      <td>2020</td>\n",
       "      <td>2020-04-09 00:00:00.0000000</td>\n",
       "      <td>11:50</td>\n",
       "      <td>2020-04-09 00:00:00.0000000</td>\n",
       "      <td>12:04</td>\n",
       "      <td>2020-04-09 12:04:00.0000000</td>\n",
       "      <td>2020-04-09 12:53:38.0000000</td>\n",
       "      <td>2020</td>\n",
       "      <td>April</td>\n",
       "      <td>Thu</td>\n",
       "      <td>12:53</td>\n",
       "      <td>100</td>\n",
       "      <td>2020-04-09 12:04:49.0000000</td>\n",
       "      <td>2020-04-09 12:04:49.0000000</td>\n",
       "      <td>2020-04-09 14:30:26.0000000</td>\n",
       "      <td>2020-04-09 12:11:03.0000000</td>\n",
       "      <td>2020-04-09 12:53:38</td>\n",
       "    </tr>\n",
       "    <tr>\n",
       "      <td>2</td>\n",
       "      <td>2020</td>\n",
       "      <td>2020-01-29 00:00:00.0000000</td>\n",
       "      <td>13:00</td>\n",
       "      <td>2020-01-31 00:00:00.0000000</td>\n",
       "      <td>08:00</td>\n",
       "      <td>2020-01-31 09:45:00.0000000</td>\n",
       "      <td>2020-01-31 10:16:02.0000000</td>\n",
       "      <td>2020</td>\n",
       "      <td>January</td>\n",
       "      <td>Fri</td>\n",
       "      <td>10:16</td>\n",
       "      <td>31</td>\n",
       "      <td>2020-01-31 09:45:34.0000000</td>\n",
       "      <td>2020-01-31 09:45:34.0000000</td>\n",
       "      <td>2020-01-31 10:48:35.0000000</td>\n",
       "      <td>2020-01-31 09:49:20.0000000</td>\n",
       "      <td>2020-01-31 10:16:02</td>\n",
       "    </tr>\n",
       "    <tr>\n",
       "      <td>3</td>\n",
       "      <td>2019</td>\n",
       "      <td>2019-11-04 00:00:00.0000000</td>\n",
       "      <td>13:05</td>\n",
       "      <td>2019-11-07 00:00:00.0000000</td>\n",
       "      <td>13:10</td>\n",
       "      <td>2019-11-07 18:16:39.0000000</td>\n",
       "      <td>2019-11-07 19:05:11.0000000</td>\n",
       "      <td>2019</td>\n",
       "      <td>November</td>\n",
       "      <td>Thu</td>\n",
       "      <td>19:05</td>\n",
       "      <td>311</td>\n",
       "      <td>NaN</td>\n",
       "      <td>NaN</td>\n",
       "      <td>NaN</td>\n",
       "      <td>NaN</td>\n",
       "      <td>2019-11-07 19:05:11</td>\n",
       "    </tr>\n",
       "    <tr>\n",
       "      <td>4</td>\n",
       "      <td>2016</td>\n",
       "      <td>2016-11-09 00:00:00.0000000</td>\n",
       "      <td>00:30</td>\n",
       "      <td>2016-11-09 00:00:00.0000000</td>\n",
       "      <td>07:45</td>\n",
       "      <td>2016-11-09 10:00:00.0000000</td>\n",
       "      <td>2016-11-09 09:51:32.0000000</td>\n",
       "      <td>2016</td>\n",
       "      <td>November</td>\n",
       "      <td>Wed</td>\n",
       "      <td>09:51</td>\n",
       "      <td>314</td>\n",
       "      <td>2016-11-09 07:48:52.0000000</td>\n",
       "      <td>2016-11-09 07:48:51.0000000</td>\n",
       "      <td>2016-11-09 10:56:54.0000000</td>\n",
       "      <td>2016-11-09 09:33:19.0000000</td>\n",
       "      <td>2016-11-09 09:51:32</td>\n",
       "    </tr>\n",
       "  </tbody>\n",
       "</table>\n",
       "</div>"
      ],
      "text/plain": [
       "   Year of Incident          Date1 of Occurrence Time1 of Occurrence  \\\n",
       "0              2020  2020-02-16 00:00:00.0000000               08:00   \n",
       "1              2020  2020-04-09 00:00:00.0000000               11:50   \n",
       "2              2020  2020-01-29 00:00:00.0000000               13:00   \n",
       "3              2019  2019-11-04 00:00:00.0000000               13:05   \n",
       "4              2016  2016-11-09 00:00:00.0000000               00:30   \n",
       "\n",
       "          Date2 of Occurrence  Time2 of Occurrence  \\\n",
       "0  2020-02-16 00:00:00.0000000               08:45   \n",
       "1  2020-04-09 00:00:00.0000000               12:04   \n",
       "2  2020-01-31 00:00:00.0000000               08:00   \n",
       "3  2019-11-07 00:00:00.0000000               13:10   \n",
       "4  2016-11-09 00:00:00.0000000               07:45   \n",
       "\n",
       "                Date of Report        Date incident created  \\\n",
       "0  2020-02-16 08:59:00.0000000  2020-02-16 09:05:42.0000000   \n",
       "1  2020-04-09 12:04:00.0000000  2020-04-09 12:53:38.0000000   \n",
       "2  2020-01-31 09:45:00.0000000  2020-01-31 10:16:02.0000000   \n",
       "3  2019-11-07 18:16:39.0000000  2019-11-07 19:05:11.0000000   \n",
       "4  2016-11-09 10:00:00.0000000  2016-11-09 09:51:32.0000000   \n",
       "\n",
       "   Offense Entered Year Offense Entered Month Offense Entered Day of the Week  \\\n",
       "0                  2020              February                             Sun   \n",
       "1                  2020                 April                             Thu   \n",
       "2                  2020               January                             Fri   \n",
       "3                  2019              November                             Thu   \n",
       "4                  2016              November                             Wed   \n",
       "\n",
       "  Offense Entered Time  Offense Entered  Date/Time  \\\n",
       "0                09:05                          47   \n",
       "1                12:53                         100   \n",
       "2                10:16                          31   \n",
       "3                19:05                         311   \n",
       "4                09:51                         314   \n",
       "\n",
       "       Call Received Date Time               Call Date Time  \\\n",
       "0  2020-02-16 08:59:52.0000000  2020-02-16 08:59:52.0000000   \n",
       "1  2020-04-09 12:04:49.0000000  2020-04-09 12:04:49.0000000   \n",
       "2  2020-01-31 09:45:34.0000000  2020-01-31 09:45:34.0000000   \n",
       "3                          NaN                          NaN   \n",
       "4  2016-11-09 07:48:52.0000000  2016-11-09 07:48:51.0000000   \n",
       "\n",
       "        Call Cleared Date Time      Call Dispatch Date Time  \\\n",
       "0  2020-02-16 09:59:16.0000000  2020-02-16 08:59:53.0000000   \n",
       "1  2020-04-09 14:30:26.0000000  2020-04-09 12:11:03.0000000   \n",
       "2  2020-01-31 10:48:35.0000000  2020-01-31 09:49:20.0000000   \n",
       "3                          NaN                          NaN   \n",
       "4  2016-11-09 10:56:54.0000000  2016-11-09 09:33:19.0000000   \n",
       "\n",
       "  created_date_format  \n",
       "0 2020-02-16 09:05:42  \n",
       "1 2020-04-09 12:53:38  \n",
       "2 2020-01-31 10:16:02  \n",
       "3 2019-11-07 19:05:11  \n",
       "4 2016-11-09 09:51:32  "
      ]
     },
     "execution_count": 37,
     "metadata": {},
     "output_type": "execute_result"
    }
   ],
   "source": [
    "df_date.head()"
   ]
  },
  {
   "cell_type": "code",
   "execution_count": 52,
   "metadata": {},
   "outputs": [
    {
     "data": {
      "text/plain": [
       "Text(0, 0.5, 'Number of Incidents Created in RMS')"
      ]
     },
     "execution_count": 52,
     "metadata": {},
     "output_type": "execute_result"
    },
    {
     "data": {
      "image/png": "[encoded data removed]",
      "text/plain": [
       "<Figure size 1080x720 with 1 Axes>"
      ]
     },
     "metadata": {
      "needs_background": "light"
     },
     "output_type": "display_data"
    }
   ],
   "source": [
    "ax = df_date.groupby(df_date['created_date_format'].dt.normalize())['Date of Report'].count()\\\n",
    ".plot(kind='area',figsize=(15,10),grid=True,title='DPD Police Incidents by Day 1 June 2014 - 6 May 2020')\n",
    "ax.set_xlabel('Date')\n",
    "ax.set_ylabel('Number of Incidents Created in RMS')"
   ]
  },
  {
   "cell_type": "code",
   "execution_count": 54,
   "metadata": {},
   "outputs": [
    {
     "data": {
      "text/plain": [
       "188.51132686084142"
      ]
     },
     "execution_count": 54,
     "metadata": {},
     "output_type": "execute_result"
    }
   ],
   "source": [
    "df_date.groupby(df_date['created_date_format'].dt.normalize())['Date of Report'].count().mean()"
   ]
  },
  {
   "cell_type": "code",
   "execution_count": 55,
   "metadata": {},
   "outputs": [
    {
     "data": {
      "text/plain": [
       "319.40147783251234"
      ]
     },
     "execution_count": 55,
     "metadata": {},
     "output_type": "execute_result"
    }
   ],
   "source": [
    "#2017 to 2020\n",
    "df_date[df_date['created_date_format']>='2017-01-01T00:00:00'].groupby(df_date['created_date_format'].dt.normalize())['Date of Report'].count().mean()"
   ]
  },
  {
   "cell_type": "code",
   "execution_count": 58,
   "metadata": {},
   "outputs": [
    {
     "data": {
      "text/plain": [
       "Text(0, 0.5, 'Number of Incidents Created in RMS')"
      ]
     },
     "execution_count": 58,
     "metadata": {},
     "output_type": "execute_result"
    },
    {
     "data": {
      "image/png": "[encoded data removed]",
      "text/plain": [
       "<Figure size 1080x720 with 1 Axes>"
      ]
     },
     "metadata": {
      "needs_background": "light"
     },
     "output_type": "display_data"
    }
   ],
   "source": [
    "ax = df_date[(df_date['created_date_format']>='2015-01-01T00:00:00')&(df_date['created_date_format']<='2019-12-31T23:59:59')].groupby(df_date['created_date_format'].dt.normalize())['Date of Report'].count()\\\n",
    ".plot(kind='area',figsize=(15,10),grid=True,title='DPD Police Incidents by Day\\n 1 January 2015 - 31 December 2019\\n Data Downloaded 6 May 2020')\n",
    "ax.set_xlabel('Date')\n",
    "ax.set_ylabel('Number of Incidents Created in RMS')"
   ]
  },
  {
   "cell_type": "code",
   "execution_count": 60,
   "metadata": {},
   "outputs": [
    {
     "data": {
      "text/plain": [
       "Year of Incident                   359577\n",
       "Date1 of Occurrence                359577\n",
       "Time1 of Occurrence                359577\n",
       "Date2 of Occurrence                359577\n",
       "Time2 of Occurrence                359577\n",
       "Date of Report                     359577\n",
       "Date incident created              359577\n",
       "Offense Entered Year               359577\n",
       "Offense Entered Month              359577\n",
       "Offense Entered Day of the Week    359577\n",
       "Offense Entered Time               359577\n",
       "Offense Entered  Date/Time         359577\n",
       "Call Received Date Time            351279\n",
       "Call Date Time                     351279\n",
       "Call Cleared Date Time             351096\n",
       "Call Dispatch Date Time            351228\n",
       "created_date_format                359577\n",
       "dtype: int64"
      ]
     },
     "execution_count": 60,
     "metadata": {},
     "output_type": "execute_result"
    }
   ],
   "source": [
    "## Count of difference\n",
    "df_date[(df_date['created_date_format']>='2015-01-01T00:00:00')&(df_date['created_date_format']<='2019-12-31T23:59:59')].count()"
   ]
  },
  {
   "cell_type": "code",
   "execution_count": 35,
   "metadata": {},
   "outputs": [
    {
     "data": {
      "text/plain": [
       "Timestamp('2020-02-16 09:05:42')"
      ]
     },
     "execution_count": 35,
     "metadata": {},
     "output_type": "execute_result"
    }
   ],
   "source": [
    "pd.to_datetime(df_date['Date incident created'][0])"
   ]
  },
  {
   "cell_type": "code",
   "execution_count": 61,
   "metadata": {},
   "outputs": [],
   "source": [
    "## export Series of date counts for comparison\n",
    "df_date_ct = df_date.groupby(df_date['created_date_format'].dt.normalize())['Date of Report'].count()"
   ]
  },
  {
   "cell_type": "code",
   "execution_count": 66,
   "metadata": {},
   "outputs": [],
   "source": [
    "df_date_ct.to_pickle('data/20200506_df_date_ct.p')"
   ]
  },
  {
   "cell_type": "code",
   "execution_count": null,
   "metadata": {},
   "outputs": [],
   "source": []
  },
  {
   "cell_type": "code",
   "execution_count": null,
   "metadata": {},
   "outputs": [],
   "source": []
  },
  {
   "cell_type": "markdown",
   "metadata": {},
   "source": [
    "## Explore the Call (911) Problem field"
   ]
  },
  {
   "cell_type": "code",
   "execution_count": null,
   "metadata": {},
   "outputs": [],
   "source": []
  },
  {
   "cell_type": "code",
   "execution_count": null,
   "metadata": {},
   "outputs": [],
   "source": []
  },
  {
   "cell_type": "code",
   "execution_count": null,
   "metadata": {},
   "outputs": [],
   "source": []
  },
  {
   "cell_type": "markdown",
   "metadata": {},
   "source": [
    "## Pull Badge Numbers and Names for Export"
   ]
  },
  {
   "cell_type": "code",
   "execution_count": null,
   "metadata": {},
   "outputs": [],
   "source": []
  },
  {
   "cell_type": "code",
   "execution_count": null,
   "metadata": {},
   "outputs": [],
   "source": []
  },
  {
   "cell_type": "code",
   "execution_count": null,
   "metadata": {},
   "outputs": [],
   "source": []
  }
 ],
 "metadata": {
  "kernelspec": {
   "display_name": "Python 3",
   "language": "python",
   "name": "python3"
  },
  "language_info": {
   "codemirror_mode": {
    "name": "ipython",
    "version": 3
   },
   "file_extension": ".py",
   "mimetype": "text/x-python",
   "name": "python",
   "nbconvert_exporter": "python",
   "pygments_lexer": "ipython3",
   "version": "3.7.4"
  }
 },
 "nbformat": 4,
 "nbformat_minor": 2
}
