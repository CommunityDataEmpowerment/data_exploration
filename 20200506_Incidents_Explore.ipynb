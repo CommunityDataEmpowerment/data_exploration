{
 "cells": [
  {
   "cell_type": "code",
   "execution_count": 1,
   "metadata": {},
   "outputs": [],
   "source": [
    "import pandas as pd"
   ]
  },
  {
   "cell_type": "code",
   "execution_count": 2,
   "metadata": {},
   "outputs": [],
   "source": [
    "import matplotlib.pyplot as plt\n",
    "%matplotlib inline"
   ]
  },
  {
   "cell_type": "code",
   "execution_count": 64,
   "metadata": {},
   "outputs": [
    {
     "name": "stderr",
     "output_type": "stream",
     "text": [
      "/opt/anaconda3/lib/python3.7/site-packages/IPython/core/interactiveshell.py:3058: DtypeWarning: Columns (52,57,64) have mixed types. Specify dtype option on import or set low_memory=False.\n",
      "  interactivity=interactivity, compiler=compiler, result=result)\n"
     ]
    }
   ],
   "source": [
    "df = pd.read_csv('https://datapolitan-training-files.s3.amazonaws.com/20200506_Police_Incidents.csv')"
   ]
  },
  {
   "cell_type": "code",
   "execution_count": 65,
   "metadata": {},
   "outputs": [
    {
     "data": {
      "text/html": [
       "<div>\n",
       "<style scoped>\n",
       "    .dataframe tbody tr th:only-of-type {\n",
       "        vertical-align: middle;\n",
       "    }\n",
       "\n",
       "    .dataframe tbody tr th {\n",
       "        vertical-align: top;\n",
       "    }\n",
       "\n",
       "    .dataframe thead th {\n",
       "        text-align: right;\n",
       "    }\n",
       "</style>\n",
       "<table border=\"1\" class=\"dataframe\">\n",
       "  <thead>\n",
       "    <tr style=\"text-align: right;\">\n",
       "      <th></th>\n",
       "      <th>Incident Number w/year</th>\n",
       "      <th>Year of Incident</th>\n",
       "      <th>Service Number ID</th>\n",
       "      <th>Watch</th>\n",
       "      <th>Call (911) Problem</th>\n",
       "      <th>Type of Incident</th>\n",
       "      <th>Type  Location</th>\n",
       "      <th>Type of Property</th>\n",
       "      <th>Incident Address</th>\n",
       "      <th>Apartment Number</th>\n",
       "      <th>...</th>\n",
       "      <th>NIBRS Code</th>\n",
       "      <th>NIBRS Group</th>\n",
       "      <th>NIBRS Type</th>\n",
       "      <th>Update Date</th>\n",
       "      <th>X Coordinate</th>\n",
       "      <th>Y Cordinate</th>\n",
       "      <th>Zip Code</th>\n",
       "      <th>City</th>\n",
       "      <th>State</th>\n",
       "      <th>Location1</th>\n",
       "    </tr>\n",
       "  </thead>\n",
       "  <tbody>\n",
       "    <tr>\n",
       "      <td>0</td>\n",
       "      <td>031359-2020</td>\n",
       "      <td>2020</td>\n",
       "      <td>031359-2020-01</td>\n",
       "      <td>2</td>\n",
       "      <td>58 - ROUTINE INVESTIGATION</td>\n",
       "      <td>THEFT OF PROP &gt; OR EQUAL $2,500 &lt;$30K (NOT SHO...</td>\n",
       "      <td>Single Family Residence - Occupied</td>\n",
       "      <td>NaN</td>\n",
       "      <td>6506 PEMBERTON DR</td>\n",
       "      <td>NaN</td>\n",
       "      <td>...</td>\n",
       "      <td>23H</td>\n",
       "      <td>A</td>\n",
       "      <td>Coded</td>\n",
       "      <td>2020-02-26 14:45:48.0000000</td>\n",
       "      <td>2.492434e+06</td>\n",
       "      <td>7.011514e+06</td>\n",
       "      <td>75230.0</td>\n",
       "      <td>DALLAS</td>\n",
       "      <td>TX</td>\n",
       "      <td>6506 PEMBERTON DR\\nDALLAS, TX 75230\\n(32.89150...</td>\n",
       "    </tr>\n",
       "    <tr>\n",
       "      <td>1</td>\n",
       "      <td>064876-2020</td>\n",
       "      <td>2020</td>\n",
       "      <td>064876-2020-01</td>\n",
       "      <td>2</td>\n",
       "      <td>6X - MAJOR DIST (VIOLENCE)</td>\n",
       "      <td>CRIMINAL TRESPASS WARNING</td>\n",
       "      <td>Hotel/Motel/ETC</td>\n",
       "      <td>NaN</td>\n",
       "      <td>10835 COMPOSITE DR</td>\n",
       "      <td>410</td>\n",
       "      <td>...</td>\n",
       "      <td>999</td>\n",
       "      <td>C</td>\n",
       "      <td>999 - No Coded</td>\n",
       "      <td>2020-04-12 12:16:01.0000000</td>\n",
       "      <td>2.460671e+06</td>\n",
       "      <td>7.005910e+06</td>\n",
       "      <td>75220.0</td>\n",
       "      <td>DALLAS</td>\n",
       "      <td>TX</td>\n",
       "      <td>10835 COMPOSITE DR\\nDALLAS, TX 75220\\n(32.8774...</td>\n",
       "    </tr>\n",
       "    <tr>\n",
       "      <td>2</td>\n",
       "      <td>020512-2020</td>\n",
       "      <td>2020</td>\n",
       "      <td>020512-2020-01</td>\n",
       "      <td>2</td>\n",
       "      <td>PSE/09 - THEFT</td>\n",
       "      <td>THEFT OF PROP &gt; OR EQUAL $750 &lt;$2,500 (NOT SHO...</td>\n",
       "      <td>Apartment Residence</td>\n",
       "      <td>None</td>\n",
       "      <td>9110 SOUTHWESTERN BLVD</td>\n",
       "      <td>4300</td>\n",
       "      <td>...</td>\n",
       "      <td>23H</td>\n",
       "      <td>A</td>\n",
       "      <td>Coded</td>\n",
       "      <td>2020-04-24 13:00:01.0000000</td>\n",
       "      <td>2.504918e+06</td>\n",
       "      <td>6.998741e+06</td>\n",
       "      <td>75214.0</td>\n",
       "      <td>DALLAS</td>\n",
       "      <td>TX</td>\n",
       "      <td>9110 SOUTHWESTERN BLVD\\nDALLAS, TX 75214\\n(32....</td>\n",
       "    </tr>\n",
       "    <tr>\n",
       "      <td>3</td>\n",
       "      <td>805157-2019</td>\n",
       "      <td>2019</td>\n",
       "      <td>805157-2019-01</td>\n",
       "      <td>1</td>\n",
       "      <td>NaN</td>\n",
       "      <td>LOST PROPERTY (NO OFFENSE)</td>\n",
       "      <td>Bank/Savings And Loan</td>\n",
       "      <td>NaN</td>\n",
       "      <td>4771 SATURN RD</td>\n",
       "      <td>NaN</td>\n",
       "      <td>...</td>\n",
       "      <td>999</td>\n",
       "      <td>C</td>\n",
       "      <td>999 - No Coded</td>\n",
       "      <td>2019-11-07 19:13:16.0000000</td>\n",
       "      <td>2.536648e+06</td>\n",
       "      <td>7.000784e+06</td>\n",
       "      <td>75041.0</td>\n",
       "      <td>GARLAND</td>\n",
       "      <td>TX</td>\n",
       "      <td>4771 SATURN RD\\nGARLAND, TX 75041\\n(32.861041,...</td>\n",
       "    </tr>\n",
       "    <tr>\n",
       "      <td>4</td>\n",
       "      <td>268491-2016</td>\n",
       "      <td>2016</td>\n",
       "      <td>268491-2016-01</td>\n",
       "      <td>1</td>\n",
       "      <td>09V - UUMV</td>\n",
       "      <td>UNAUTHORIZED USE OF MOTOR VEH - AUTOMOBILE</td>\n",
       "      <td>Highway, Street, Alley ETC</td>\n",
       "      <td>NaN</td>\n",
       "      <td>3112 STATE ST</td>\n",
       "      <td>E</td>\n",
       "      <td>...</td>\n",
       "      <td>NaN</td>\n",
       "      <td>NaN</td>\n",
       "      <td>NaN</td>\n",
       "      <td>2016-11-14 05:41:23.0000000</td>\n",
       "      <td>2.492080e+06</td>\n",
       "      <td>6.977853e+06</td>\n",
       "      <td>75204.0</td>\n",
       "      <td>DALLAS</td>\n",
       "      <td>TX</td>\n",
       "      <td>3112 STATE ST\\nDALLAS, TX 75204\\n(32.799547, -...</td>\n",
       "    </tr>\n",
       "  </tbody>\n",
       "</table>\n",
       "<p>5 rows × 100 columns</p>\n",
       "</div>"
      ],
      "text/plain": [
       "  Incident Number w/year  Year of Incident Service Number ID  Watch  \\\n",
       "0            031359-2020              2020    031359-2020-01      2   \n",
       "1            064876-2020              2020    064876-2020-01      2   \n",
       "2            020512-2020              2020    020512-2020-01      2   \n",
       "3            805157-2019              2019    805157-2019-01      1   \n",
       "4            268491-2016              2016    268491-2016-01      1   \n",
       "\n",
       "           Call (911) Problem  \\\n",
       "0  58 - ROUTINE INVESTIGATION   \n",
       "1  6X - MAJOR DIST (VIOLENCE)   \n",
       "2              PSE/09 - THEFT   \n",
       "3                         NaN   \n",
       "4                  09V - UUMV   \n",
       "\n",
       "                                    Type of Incident  \\\n",
       "0  THEFT OF PROP > OR EQUAL $2,500 <$30K (NOT SHO...   \n",
       "1                          CRIMINAL TRESPASS WARNING   \n",
       "2  THEFT OF PROP > OR EQUAL $750 <$2,500 (NOT SHO...   \n",
       "3                         LOST PROPERTY (NO OFFENSE)   \n",
       "4         UNAUTHORIZED USE OF MOTOR VEH - AUTOMOBILE   \n",
       "\n",
       "                       Type  Location Type of Property  \\\n",
       "0  Single Family Residence - Occupied              NaN   \n",
       "1                     Hotel/Motel/ETC              NaN   \n",
       "2                 Apartment Residence             None   \n",
       "3               Bank/Savings And Loan              NaN   \n",
       "4          Highway, Street, Alley ETC              NaN   \n",
       "\n",
       "         Incident Address Apartment Number  ...  NIBRS Code  NIBRS Group  \\\n",
       "0       6506 PEMBERTON DR              NaN  ...         23H            A   \n",
       "1      10835 COMPOSITE DR              410  ...         999            C   \n",
       "2  9110 SOUTHWESTERN BLVD             4300  ...         23H            A   \n",
       "3          4771 SATURN RD              NaN  ...         999            C   \n",
       "4           3112 STATE ST                E  ...         NaN          NaN   \n",
       "\n",
       "       NIBRS Type                  Update Date  X Coordinate   Y Cordinate  \\\n",
       "0           Coded  2020-02-26 14:45:48.0000000  2.492434e+06  7.011514e+06   \n",
       "1  999 - No Coded  2020-04-12 12:16:01.0000000  2.460671e+06  7.005910e+06   \n",
       "2           Coded  2020-04-24 13:00:01.0000000  2.504918e+06  6.998741e+06   \n",
       "3  999 - No Coded  2019-11-07 19:13:16.0000000  2.536648e+06  7.000784e+06   \n",
       "4             NaN  2016-11-14 05:41:23.0000000  2.492080e+06  6.977853e+06   \n",
       "\n",
       "  Zip Code     City  State                                          Location1  \n",
       "0  75230.0   DALLAS     TX  6506 PEMBERTON DR\\nDALLAS, TX 75230\\n(32.89150...  \n",
       "1  75220.0   DALLAS     TX  10835 COMPOSITE DR\\nDALLAS, TX 75220\\n(32.8774...  \n",
       "2  75214.0   DALLAS     TX  9110 SOUTHWESTERN BLVD\\nDALLAS, TX 75214\\n(32....  \n",
       "3  75041.0  GARLAND     TX  4771 SATURN RD\\nGARLAND, TX 75041\\n(32.861041,...  \n",
       "4  75204.0   DALLAS     TX  3112 STATE ST\\nDALLAS, TX 75204\\n(32.799547, -...  \n",
       "\n",
       "[5 rows x 100 columns]"
      ]
     },
     "execution_count": 65,
     "metadata": {},
     "output_type": "execute_result"
    }
   ],
   "source": [
    "df.head()"
   ]
  },
  {
   "cell_type": "code",
   "execution_count": 20,
   "metadata": {},
   "outputs": [
    {
     "data": {
      "text/plain": [
       "(407750, 100)"
      ]
     },
     "execution_count": 20,
     "metadata": {},
     "output_type": "execute_result"
    }
   ],
   "source": [
    "df.shape"
   ]
  },
  {
   "cell_type": "code",
   "execution_count": 21,
   "metadata": {},
   "outputs": [
    {
     "data": {
      "text/plain": [
       "Index(['Incident Number w/year', 'Year of Incident', 'Service Number ID',\n",
       "       'Watch', 'Call (911) Problem', 'Type of Incident', 'Type  Location',\n",
       "       'Type of Property', 'Incident Address', 'Apartment Number',\n",
       "       'Reporting Area', 'Beat', 'Division', 'Sector', 'Council District',\n",
       "       'Target Area Action Grids', 'Community', 'Date1 of Occurrence',\n",
       "       'Year1 of Occurrence', 'Month1 of Occurence', 'Day1 of the Week',\n",
       "       'Time1 of Occurrence', 'Day1 of the Year', 'Date2 of Occurrence ',\n",
       "       'Year2 of Occurrence', 'Month2 of Occurence', 'Day2 of the Week',\n",
       "       'Time2 of Occurrence', 'Day2 of the Year', 'Date of Report',\n",
       "       'Date incident created', 'Offense Entered Year',\n",
       "       'Offense Entered Month', 'Offense Entered Day of the Week',\n",
       "       'Offense Entered Time', 'Offense Entered  Date/Time', 'CFS Number',\n",
       "       'Call Received Date Time', 'Call Date Time', 'Call Cleared Date Time',\n",
       "       'Call Dispatch Date Time', 'Special Report (Pre-RMS)',\n",
       "       'Person Involvement Type', 'Victim Type', 'Victim Name', 'Victim Race',\n",
       "       'Victim Ethnicity', 'Victim Gender', 'Victim Age',\n",
       "       'Victim Age at Offense', 'Victim Home Address', 'Victim Apartment',\n",
       "       'Victim Zip Code', 'Victim City', 'Victim State',\n",
       "       'Victim Business Name', 'Victim Business Address',\n",
       "       'Victim Business Phone', 'Responding Officer #1  Badge No',\n",
       "       'Responding Officer #1  Name', 'Responding Officer #2 Badge No',\n",
       "       'Responding Officer #2  Name', 'Reporting Officer Badge No',\n",
       "       'Assisting Officer Badge No', 'Reviewing Officer Badge No',\n",
       "       'Element Number Assigned', 'Investigating Unit 1',\n",
       "       'Investigating Unit 2', 'Offense Status', 'UCR Disposition',\n",
       "       'Victim Injury Description', 'Victim Condition', 'Modus Operandi (MO)',\n",
       "       'Family Offense', 'Hate Crime', 'Hate Crime Description', 'Weapon Used',\n",
       "       'Gang Related Offense', 'Victim Package', 'Drug Related Istevencident',\n",
       "       'RMS Code', 'Criminal Justice Information Service Code', 'Penal Code',\n",
       "       'UCR Offense Name', 'UCR Offense Description', ' UCR Code',\n",
       "       'Offense Type', 'NIBRS Crime', 'NIBRS Crime Category',\n",
       "       'NIBRS Crime Against', 'NIBRS Code', 'NIBRS Group', 'NIBRS Type',\n",
       "       'Update Date', 'X Coordinate', 'Y Cordinate', 'Zip Code', 'City',\n",
       "       'State', 'Location1'],\n",
       "      dtype='object')"
      ]
     },
     "execution_count": 21,
     "metadata": {},
     "output_type": "execute_result"
    }
   ],
   "source": [
    "df.columns"
   ]
  },
  {
   "cell_type": "code",
   "execution_count": 70,
   "metadata": {},
   "outputs": [
    {
     "data": {
      "text/plain": [
       "Incident Number w/year    407750\n",
       "Year of Incident          407750\n",
       "Service Number ID         407750\n",
       "Watch                     407750\n",
       "Call (911) Problem        394355\n",
       "                           ...  \n",
       "Y Cordinate               406824\n",
       "Zip Code                  406870\n",
       "City                      405402\n",
       "State                     403853\n",
       "Location1                 407021\n",
       "Length: 100, dtype: int64"
      ]
     },
     "execution_count": 70,
     "metadata": {},
     "output_type": "execute_result"
    }
   ],
   "source": [
    "df.count()"
   ]
  },
  {
   "cell_type": "code",
   "execution_count": 89,
   "metadata": {},
   "outputs": [
    {
     "data": {
      "text/plain": [
       "407750"
      ]
     },
     "execution_count": 89,
     "metadata": {},
     "output_type": "execute_result"
    }
   ],
   "source": [
    "df['Offense Entered Year'].count()"
   ]
  },
  {
   "cell_type": "markdown",
   "metadata": {},
   "source": [
    "## Check the timeframe"
   ]
  },
  {
   "cell_type": "code",
   "execution_count": 22,
   "metadata": {},
   "outputs": [],
   "source": [
    "date_cols = ['Year of Incident',\\\n",
    "             'Date1 of Occurrence','Time1 of Occurrence',\\\n",
    "             'Date2 of Occurrence ','Time2 of Occurrence',\\\n",
    "             'Date of Report','Date incident created',\\\n",
    "             'Offense Entered Year','Offense Entered Month', 'Offense Entered Day of the Week',\\\n",
    "             'Offense Entered Time', 'Offense Entered  Date/Time',\\\n",
    "             'Call Received Date Time','Call Date Time', 'Call Cleared Date Time','Call Dispatch Date Time']"
   ]
  },
  {
   "cell_type": "code",
   "execution_count": 23,
   "metadata": {},
   "outputs": [],
   "source": [
    "df_date = df[date_cols]"
   ]
  },
  {
   "cell_type": "code",
   "execution_count": 28,
   "metadata": {},
   "outputs": [
    {
     "data": {
      "text/html": [
       "<div>\n",
       "<style scoped>\n",
       "    .dataframe tbody tr th:only-of-type {\n",
       "        vertical-align: middle;\n",
       "    }\n",
       "\n",
       "    .dataframe tbody tr th {\n",
       "        vertical-align: top;\n",
       "    }\n",
       "\n",
       "    .dataframe thead th {\n",
       "        text-align: right;\n",
       "    }\n",
       "</style>\n",
       "<table border=\"1\" class=\"dataframe\">\n",
       "  <thead>\n",
       "    <tr style=\"text-align: right;\">\n",
       "      <th></th>\n",
       "      <th>Year of Incident</th>\n",
       "      <th>Date1 of Occurrence</th>\n",
       "      <th>Time1 of Occurrence</th>\n",
       "      <th>Date2 of Occurrence</th>\n",
       "      <th>Time2 of Occurrence</th>\n",
       "      <th>Date of Report</th>\n",
       "      <th>Date incident created</th>\n",
       "      <th>Offense Entered Year</th>\n",
       "      <th>Offense Entered Month</th>\n",
       "      <th>Offense Entered Day of the Week</th>\n",
       "      <th>Offense Entered Time</th>\n",
       "      <th>Offense Entered  Date/Time</th>\n",
       "      <th>Call Received Date Time</th>\n",
       "      <th>Call Date Time</th>\n",
       "      <th>Call Cleared Date Time</th>\n",
       "      <th>Call Dispatch Date Time</th>\n",
       "    </tr>\n",
       "  </thead>\n",
       "  <tbody>\n",
       "    <tr>\n",
       "      <td>0</td>\n",
       "      <td>2020</td>\n",
       "      <td>2020-02-16 00:00:00.0000000</td>\n",
       "      <td>08:00</td>\n",
       "      <td>2020-02-16 00:00:00.0000000</td>\n",
       "      <td>08:45</td>\n",
       "      <td>2020-02-16 08:59:00.0000000</td>\n",
       "      <td>2020-02-16 09:05:42.0000000</td>\n",
       "      <td>2020</td>\n",
       "      <td>February</td>\n",
       "      <td>Sun</td>\n",
       "      <td>09:05</td>\n",
       "      <td>47</td>\n",
       "      <td>2020-02-16 08:59:52.0000000</td>\n",
       "      <td>2020-02-16 08:59:52.0000000</td>\n",
       "      <td>2020-02-16 09:59:16.0000000</td>\n",
       "      <td>2020-02-16 08:59:53.0000000</td>\n",
       "    </tr>\n",
       "    <tr>\n",
       "      <td>1</td>\n",
       "      <td>2020</td>\n",
       "      <td>2020-04-09 00:00:00.0000000</td>\n",
       "      <td>11:50</td>\n",
       "      <td>2020-04-09 00:00:00.0000000</td>\n",
       "      <td>12:04</td>\n",
       "      <td>2020-04-09 12:04:00.0000000</td>\n",
       "      <td>2020-04-09 12:53:38.0000000</td>\n",
       "      <td>2020</td>\n",
       "      <td>April</td>\n",
       "      <td>Thu</td>\n",
       "      <td>12:53</td>\n",
       "      <td>100</td>\n",
       "      <td>2020-04-09 12:04:49.0000000</td>\n",
       "      <td>2020-04-09 12:04:49.0000000</td>\n",
       "      <td>2020-04-09 14:30:26.0000000</td>\n",
       "      <td>2020-04-09 12:11:03.0000000</td>\n",
       "    </tr>\n",
       "    <tr>\n",
       "      <td>2</td>\n",
       "      <td>2020</td>\n",
       "      <td>2020-01-29 00:00:00.0000000</td>\n",
       "      <td>13:00</td>\n",
       "      <td>2020-01-31 00:00:00.0000000</td>\n",
       "      <td>08:00</td>\n",
       "      <td>2020-01-31 09:45:00.0000000</td>\n",
       "      <td>2020-01-31 10:16:02.0000000</td>\n",
       "      <td>2020</td>\n",
       "      <td>January</td>\n",
       "      <td>Fri</td>\n",
       "      <td>10:16</td>\n",
       "      <td>31</td>\n",
       "      <td>2020-01-31 09:45:34.0000000</td>\n",
       "      <td>2020-01-31 09:45:34.0000000</td>\n",
       "      <td>2020-01-31 10:48:35.0000000</td>\n",
       "      <td>2020-01-31 09:49:20.0000000</td>\n",
       "    </tr>\n",
       "    <tr>\n",
       "      <td>3</td>\n",
       "      <td>2019</td>\n",
       "      <td>2019-11-04 00:00:00.0000000</td>\n",
       "      <td>13:05</td>\n",
       "      <td>2019-11-07 00:00:00.0000000</td>\n",
       "      <td>13:10</td>\n",
       "      <td>2019-11-07 18:16:39.0000000</td>\n",
       "      <td>2019-11-07 19:05:11.0000000</td>\n",
       "      <td>2019</td>\n",
       "      <td>November</td>\n",
       "      <td>Thu</td>\n",
       "      <td>19:05</td>\n",
       "      <td>311</td>\n",
       "      <td>NaN</td>\n",
       "      <td>NaN</td>\n",
       "      <td>NaN</td>\n",
       "      <td>NaN</td>\n",
       "    </tr>\n",
       "    <tr>\n",
       "      <td>4</td>\n",
       "      <td>2016</td>\n",
       "      <td>2016-11-09 00:00:00.0000000</td>\n",
       "      <td>00:30</td>\n",
       "      <td>2016-11-09 00:00:00.0000000</td>\n",
       "      <td>07:45</td>\n",
       "      <td>2016-11-09 10:00:00.0000000</td>\n",
       "      <td>2016-11-09 09:51:32.0000000</td>\n",
       "      <td>2016</td>\n",
       "      <td>November</td>\n",
       "      <td>Wed</td>\n",
       "      <td>09:51</td>\n",
       "      <td>314</td>\n",
       "      <td>2016-11-09 07:48:52.0000000</td>\n",
       "      <td>2016-11-09 07:48:51.0000000</td>\n",
       "      <td>2016-11-09 10:56:54.0000000</td>\n",
       "      <td>2016-11-09 09:33:19.0000000</td>\n",
       "    </tr>\n",
       "  </tbody>\n",
       "</table>\n",
       "</div>"
      ],
      "text/plain": [
       "   Year of Incident          Date1 of Occurrence Time1 of Occurrence  \\\n",
       "0              2020  2020-02-16 00:00:00.0000000               08:00   \n",
       "1              2020  2020-04-09 00:00:00.0000000               11:50   \n",
       "2              2020  2020-01-29 00:00:00.0000000               13:00   \n",
       "3              2019  2019-11-04 00:00:00.0000000               13:05   \n",
       "4              2016  2016-11-09 00:00:00.0000000               00:30   \n",
       "\n",
       "          Date2 of Occurrence  Time2 of Occurrence  \\\n",
       "0  2020-02-16 00:00:00.0000000               08:45   \n",
       "1  2020-04-09 00:00:00.0000000               12:04   \n",
       "2  2020-01-31 00:00:00.0000000               08:00   \n",
       "3  2019-11-07 00:00:00.0000000               13:10   \n",
       "4  2016-11-09 00:00:00.0000000               07:45   \n",
       "\n",
       "                Date of Report        Date incident created  \\\n",
       "0  2020-02-16 08:59:00.0000000  2020-02-16 09:05:42.0000000   \n",
       "1  2020-04-09 12:04:00.0000000  2020-04-09 12:53:38.0000000   \n",
       "2  2020-01-31 09:45:00.0000000  2020-01-31 10:16:02.0000000   \n",
       "3  2019-11-07 18:16:39.0000000  2019-11-07 19:05:11.0000000   \n",
       "4  2016-11-09 10:00:00.0000000  2016-11-09 09:51:32.0000000   \n",
       "\n",
       "   Offense Entered Year Offense Entered Month Offense Entered Day of the Week  \\\n",
       "0                  2020              February                             Sun   \n",
       "1                  2020                 April                             Thu   \n",
       "2                  2020               January                             Fri   \n",
       "3                  2019              November                             Thu   \n",
       "4                  2016              November                             Wed   \n",
       "\n",
       "  Offense Entered Time  Offense Entered  Date/Time  \\\n",
       "0                09:05                          47   \n",
       "1                12:53                         100   \n",
       "2                10:16                          31   \n",
       "3                19:05                         311   \n",
       "4                09:51                         314   \n",
       "\n",
       "       Call Received Date Time               Call Date Time  \\\n",
       "0  2020-02-16 08:59:52.0000000  2020-02-16 08:59:52.0000000   \n",
       "1  2020-04-09 12:04:49.0000000  2020-04-09 12:04:49.0000000   \n",
       "2  2020-01-31 09:45:34.0000000  2020-01-31 09:45:34.0000000   \n",
       "3                          NaN                          NaN   \n",
       "4  2016-11-09 07:48:52.0000000  2016-11-09 07:48:51.0000000   \n",
       "\n",
       "        Call Cleared Date Time      Call Dispatch Date Time  \n",
       "0  2020-02-16 09:59:16.0000000  2020-02-16 08:59:53.0000000  \n",
       "1  2020-04-09 14:30:26.0000000  2020-04-09 12:11:03.0000000  \n",
       "2  2020-01-31 10:48:35.0000000  2020-01-31 09:49:20.0000000  \n",
       "3                          NaN                          NaN  \n",
       "4  2016-11-09 10:56:54.0000000  2016-11-09 09:33:19.0000000  "
      ]
     },
     "execution_count": 28,
     "metadata": {},
     "output_type": "execute_result"
    }
   ],
   "source": [
    "df_date.head()"
   ]
  },
  {
   "cell_type": "markdown",
   "metadata": {},
   "source": [
    "**Min and Max Dates**"
   ]
  },
  {
   "cell_type": "code",
   "execution_count": 29,
   "metadata": {},
   "outputs": [
    {
     "data": {
      "text/plain": [
       "'2020-05-05 23:25:53.0000000'"
      ]
     },
     "execution_count": 29,
     "metadata": {},
     "output_type": "execute_result"
    }
   ],
   "source": [
    "df_date['Date incident created'].max()"
   ]
  },
  {
   "cell_type": "code",
   "execution_count": 30,
   "metadata": {},
   "outputs": [
    {
     "data": {
      "text/plain": [
       "'2014-06-01 02:34:43.0000000'"
      ]
     },
     "execution_count": 30,
     "metadata": {},
     "output_type": "execute_result"
    }
   ],
   "source": [
    "df_date['Date incident created'].min()"
   ]
  },
  {
   "cell_type": "markdown",
   "metadata": {},
   "source": [
    "**Average incidents per day**"
   ]
  },
  {
   "cell_type": "code",
   "execution_count": 32,
   "metadata": {},
   "outputs": [
    {
     "data": {
      "text/plain": [
       "str"
      ]
     },
     "execution_count": 32,
     "metadata": {},
     "output_type": "execute_result"
    }
   ],
   "source": [
    "type(df_date['Date incident created'][0])"
   ]
  },
  {
   "cell_type": "code",
   "execution_count": 36,
   "metadata": {},
   "outputs": [
    {
     "name": "stderr",
     "output_type": "stream",
     "text": [
      "/opt/anaconda3/lib/python3.7/site-packages/ipykernel_launcher.py:1: SettingWithCopyWarning: \n",
      "A value is trying to be set on a copy of a slice from a DataFrame.\n",
      "Try using .loc[row_indexer,col_indexer] = value instead\n",
      "\n",
      "See the caveats in the documentation: http://pandas.pydata.org/pandas-docs/stable/user_guide/indexing.html#returning-a-view-versus-a-copy\n",
      "  \"\"\"Entry point for launching an IPython kernel.\n"
     ]
    }
   ],
   "source": [
    "df_date['created_date_format'] = df_date['Date incident created'].apply(lambda x:pd.to_datetime(x))"
   ]
  },
  {
   "cell_type": "code",
   "execution_count": 37,
   "metadata": {},
   "outputs": [
    {
     "data": {
      "text/html": [
       "<div>\n",
       "<style scoped>\n",
       "    .dataframe tbody tr th:only-of-type {\n",
       "        vertical-align: middle;\n",
       "    }\n",
       "\n",
       "    .dataframe tbody tr th {\n",
       "        vertical-align: top;\n",
       "    }\n",
       "\n",
       "    .dataframe thead th {\n",
       "        text-align: right;\n",
       "    }\n",
       "</style>\n",
       "<table border=\"1\" class=\"dataframe\">\n",
       "  <thead>\n",
       "    <tr style=\"text-align: right;\">\n",
       "      <th></th>\n",
       "      <th>Year of Incident</th>\n",
       "      <th>Date1 of Occurrence</th>\n",
       "      <th>Time1 of Occurrence</th>\n",
       "      <th>Date2 of Occurrence</th>\n",
       "      <th>Time2 of Occurrence</th>\n",
       "      <th>Date of Report</th>\n",
       "      <th>Date incident created</th>\n",
       "      <th>Offense Entered Year</th>\n",
       "      <th>Offense Entered Month</th>\n",
       "      <th>Offense Entered Day of the Week</th>\n",
       "      <th>Offense Entered Time</th>\n",
       "      <th>Offense Entered  Date/Time</th>\n",
       "      <th>Call Received Date Time</th>\n",
       "      <th>Call Date Time</th>\n",
       "      <th>Call Cleared Date Time</th>\n",
       "      <th>Call Dispatch Date Time</th>\n",
       "      <th>created_date_format</th>\n",
       "    </tr>\n",
       "  </thead>\n",
       "  <tbody>\n",
       "    <tr>\n",
       "      <td>0</td>\n",
       "      <td>2020</td>\n",
       "      <td>2020-02-16 00:00:00.0000000</td>\n",
       "      <td>08:00</td>\n",
       "      <td>2020-02-16 00:00:00.0000000</td>\n",
       "      <td>08:45</td>\n",
       "      <td>2020-02-16 08:59:00.0000000</td>\n",
       "      <td>2020-02-16 09:05:42.0000000</td>\n",
       "      <td>2020</td>\n",
       "      <td>February</td>\n",
       "      <td>Sun</td>\n",
       "      <td>09:05</td>\n",
       "      <td>47</td>\n",
       "      <td>2020-02-16 08:59:52.0000000</td>\n",
       "      <td>2020-02-16 08:59:52.0000000</td>\n",
       "      <td>2020-02-16 09:59:16.0000000</td>\n",
       "      <td>2020-02-16 08:59:53.0000000</td>\n",
       "      <td>2020-02-16 09:05:42</td>\n",
       "    </tr>\n",
       "    <tr>\n",
       "      <td>1</td>\n",
       "      <td>2020</td>\n",
       "      <td>2020-04-09 00:00:00.0000000</td>\n",
       "      <td>11:50</td>\n",
       "      <td>2020-04-09 00:00:00.0000000</td>\n",
       "      <td>12:04</td>\n",
       "      <td>2020-04-09 12:04:00.0000000</td>\n",
       "      <td>2020-04-09 12:53:38.0000000</td>\n",
       "      <td>2020</td>\n",
       "      <td>April</td>\n",
       "      <td>Thu</td>\n",
       "      <td>12:53</td>\n",
       "      <td>100</td>\n",
       "      <td>2020-04-09 12:04:49.0000000</td>\n",
       "      <td>2020-04-09 12:04:49.0000000</td>\n",
       "      <td>2020-04-09 14:30:26.0000000</td>\n",
       "      <td>2020-04-09 12:11:03.0000000</td>\n",
       "      <td>2020-04-09 12:53:38</td>\n",
       "    </tr>\n",
       "    <tr>\n",
       "      <td>2</td>\n",
       "      <td>2020</td>\n",
       "      <td>2020-01-29 00:00:00.0000000</td>\n",
       "      <td>13:00</td>\n",
       "      <td>2020-01-31 00:00:00.0000000</td>\n",
       "      <td>08:00</td>\n",
       "      <td>2020-01-31 09:45:00.0000000</td>\n",
       "      <td>2020-01-31 10:16:02.0000000</td>\n",
       "      <td>2020</td>\n",
       "      <td>January</td>\n",
       "      <td>Fri</td>\n",
       "      <td>10:16</td>\n",
       "      <td>31</td>\n",
       "      <td>2020-01-31 09:45:34.0000000</td>\n",
       "      <td>2020-01-31 09:45:34.0000000</td>\n",
       "      <td>2020-01-31 10:48:35.0000000</td>\n",
       "      <td>2020-01-31 09:49:20.0000000</td>\n",
       "      <td>2020-01-31 10:16:02</td>\n",
       "    </tr>\n",
       "    <tr>\n",
       "      <td>3</td>\n",
       "      <td>2019</td>\n",
       "      <td>2019-11-04 00:00:00.0000000</td>\n",
       "      <td>13:05</td>\n",
       "      <td>2019-11-07 00:00:00.0000000</td>\n",
       "      <td>13:10</td>\n",
       "      <td>2019-11-07 18:16:39.0000000</td>\n",
       "      <td>2019-11-07 19:05:11.0000000</td>\n",
       "      <td>2019</td>\n",
       "      <td>November</td>\n",
       "      <td>Thu</td>\n",
       "      <td>19:05</td>\n",
       "      <td>311</td>\n",
       "      <td>NaN</td>\n",
       "      <td>NaN</td>\n",
       "      <td>NaN</td>\n",
       "      <td>NaN</td>\n",
       "      <td>2019-11-07 19:05:11</td>\n",
       "    </tr>\n",
       "    <tr>\n",
       "      <td>4</td>\n",
       "      <td>2016</td>\n",
       "      <td>2016-11-09 00:00:00.0000000</td>\n",
       "      <td>00:30</td>\n",
       "      <td>2016-11-09 00:00:00.0000000</td>\n",
       "      <td>07:45</td>\n",
       "      <td>2016-11-09 10:00:00.0000000</td>\n",
       "      <td>2016-11-09 09:51:32.0000000</td>\n",
       "      <td>2016</td>\n",
       "      <td>November</td>\n",
       "      <td>Wed</td>\n",
       "      <td>09:51</td>\n",
       "      <td>314</td>\n",
       "      <td>2016-11-09 07:48:52.0000000</td>\n",
       "      <td>2016-11-09 07:48:51.0000000</td>\n",
       "      <td>2016-11-09 10:56:54.0000000</td>\n",
       "      <td>2016-11-09 09:33:19.0000000</td>\n",
       "      <td>2016-11-09 09:51:32</td>\n",
       "    </tr>\n",
       "  </tbody>\n",
       "</table>\n",
       "</div>"
      ],
      "text/plain": [
       "   Year of Incident          Date1 of Occurrence Time1 of Occurrence  \\\n",
       "0              2020  2020-02-16 00:00:00.0000000               08:00   \n",
       "1              2020  2020-04-09 00:00:00.0000000               11:50   \n",
       "2              2020  2020-01-29 00:00:00.0000000               13:00   \n",
       "3              2019  2019-11-04 00:00:00.0000000               13:05   \n",
       "4              2016  2016-11-09 00:00:00.0000000               00:30   \n",
       "\n",
       "          Date2 of Occurrence  Time2 of Occurrence  \\\n",
       "0  2020-02-16 00:00:00.0000000               08:45   \n",
       "1  2020-04-09 00:00:00.0000000               12:04   \n",
       "2  2020-01-31 00:00:00.0000000               08:00   \n",
       "3  2019-11-07 00:00:00.0000000               13:10   \n",
       "4  2016-11-09 00:00:00.0000000               07:45   \n",
       "\n",
       "                Date of Report        Date incident created  \\\n",
       "0  2020-02-16 08:59:00.0000000  2020-02-16 09:05:42.0000000   \n",
       "1  2020-04-09 12:04:00.0000000  2020-04-09 12:53:38.0000000   \n",
       "2  2020-01-31 09:45:00.0000000  2020-01-31 10:16:02.0000000   \n",
       "3  2019-11-07 18:16:39.0000000  2019-11-07 19:05:11.0000000   \n",
       "4  2016-11-09 10:00:00.0000000  2016-11-09 09:51:32.0000000   \n",
       "\n",
       "   Offense Entered Year Offense Entered Month Offense Entered Day of the Week  \\\n",
       "0                  2020              February                             Sun   \n",
       "1                  2020                 April                             Thu   \n",
       "2                  2020               January                             Fri   \n",
       "3                  2019              November                             Thu   \n",
       "4                  2016              November                             Wed   \n",
       "\n",
       "  Offense Entered Time  Offense Entered  Date/Time  \\\n",
       "0                09:05                          47   \n",
       "1                12:53                         100   \n",
       "2                10:16                          31   \n",
       "3                19:05                         311   \n",
       "4                09:51                         314   \n",
       "\n",
       "       Call Received Date Time               Call Date Time  \\\n",
       "0  2020-02-16 08:59:52.0000000  2020-02-16 08:59:52.0000000   \n",
       "1  2020-04-09 12:04:49.0000000  2020-04-09 12:04:49.0000000   \n",
       "2  2020-01-31 09:45:34.0000000  2020-01-31 09:45:34.0000000   \n",
       "3                          NaN                          NaN   \n",
       "4  2016-11-09 07:48:52.0000000  2016-11-09 07:48:51.0000000   \n",
       "\n",
       "        Call Cleared Date Time      Call Dispatch Date Time  \\\n",
       "0  2020-02-16 09:59:16.0000000  2020-02-16 08:59:53.0000000   \n",
       "1  2020-04-09 14:30:26.0000000  2020-04-09 12:11:03.0000000   \n",
       "2  2020-01-31 10:48:35.0000000  2020-01-31 09:49:20.0000000   \n",
       "3                          NaN                          NaN   \n",
       "4  2016-11-09 10:56:54.0000000  2016-11-09 09:33:19.0000000   \n",
       "\n",
       "  created_date_format  \n",
       "0 2020-02-16 09:05:42  \n",
       "1 2020-04-09 12:53:38  \n",
       "2 2020-01-31 10:16:02  \n",
       "3 2019-11-07 19:05:11  \n",
       "4 2016-11-09 09:51:32  "
      ]
     },
     "execution_count": 37,
     "metadata": {},
     "output_type": "execute_result"
    }
   ],
   "source": [
    "df_date.head()"
   ]
  },
  {
   "cell_type": "code",
   "execution_count": 52,
   "metadata": {},
   "outputs": [
    {
     "data": {
      "text/plain": [
       "Text(0, 0.5, 'Number of Incidents Created in RMS')"
      ]
     },
     "execution_count": 52,
     "metadata": {},
     "output_type": "execute_result"
    },
    {
     "data": {
      "image/png": "[encoded data removed]",
      "text/plain": [
       "<Figure size 1080x720 with 1 Axes>"
      ]
     },
     "metadata": {
      "needs_background": "light"
     },
     "output_type": "display_data"
    }
   ],
   "source": [
    "ax = df_date.groupby(df_date['created_date_format'].dt.normalize())['Date of Report'].count()\\\n",
    ".plot(kind='area',figsize=(15,10),grid=True,title='DPD Police Incidents by Day 1 June 2014 - 6 May 2020')\n",
    "ax.set_xlabel('Date')\n",
    "ax.set_ylabel('Number of Incidents Created in RMS')"
   ]
  },
  {
   "cell_type": "code",
   "execution_count": 54,
   "metadata": {},
   "outputs": [
    {
     "data": {
      "text/plain": [
       "188.51132686084142"
      ]
     },
     "execution_count": 54,
     "metadata": {},
     "output_type": "execute_result"
    }
   ],
   "source": [
    "df_date.groupby(df_date['created_date_format'].dt.normalize())['Date of Report'].count().mean()"
   ]
  },
  {
   "cell_type": "code",
   "execution_count": 55,
   "metadata": {},
   "outputs": [
    {
     "data": {
      "text/plain": [
       "319.40147783251234"
      ]
     },
     "execution_count": 55,
     "metadata": {},
     "output_type": "execute_result"
    }
   ],
   "source": [
    "#2017 to 2020\n",
    "df_date[df_date['created_date_format']>='2017-01-01T00:00:00'].groupby(df_date['created_date_format'].dt.normalize())['Date of Report'].count().mean()"
   ]
  },
  {
   "cell_type": "code",
   "execution_count": 58,
   "metadata": {},
   "outputs": [
    {
     "data": {
      "text/plain": [
       "Text(0, 0.5, 'Number of Incidents Created in RMS')"
      ]
     },
     "execution_count": 58,
     "metadata": {},
     "output_type": "execute_result"
    },
    {
     "data": {
      "image/png": "[encoded data removed]",
      "text/plain": [
       "<Figure size 1080x720 with 1 Axes>"
      ]
     },
     "metadata": {
      "needs_background": "light"
     },
     "output_type": "display_data"
    }
   ],
   "source": [
    "ax = df_date[(df_date['created_date_format']>='2015-01-01T00:00:00')&(df_date['created_date_format']<='2019-12-31T23:59:59')].groupby(df_date['created_date_format'].dt.normalize())['Date of Report'].count()\\\n",
    ".plot(kind='area',figsize=(15,10),grid=True,title='DPD Police Incidents by Day\\n 1 January 2015 - 31 December 2019\\n Data Downloaded 6 May 2020')\n",
    "ax.set_xlabel('Date')\n",
    "ax.set_ylabel('Number of Incidents Created in RMS')"
   ]
  },
  {
   "cell_type": "code",
   "execution_count": 60,
   "metadata": {},
   "outputs": [
    {
     "data": {
      "text/plain": [
       "Year of Incident                   359577\n",
       "Date1 of Occurrence                359577\n",
       "Time1 of Occurrence                359577\n",
       "Date2 of Occurrence                359577\n",
       "Time2 of Occurrence                359577\n",
       "Date of Report                     359577\n",
       "Date incident created              359577\n",
       "Offense Entered Year               359577\n",
       "Offense Entered Month              359577\n",
       "Offense Entered Day of the Week    359577\n",
       "Offense Entered Time               359577\n",
       "Offense Entered  Date/Time         359577\n",
       "Call Received Date Time            351279\n",
       "Call Date Time                     351279\n",
       "Call Cleared Date Time             351096\n",
       "Call Dispatch Date Time            351228\n",
       "created_date_format                359577\n",
       "dtype: int64"
      ]
     },
     "execution_count": 60,
     "metadata": {},
     "output_type": "execute_result"
    }
   ],
   "source": [
    "## Count of difference\n",
    "df_date[(df_date['created_date_format']>='2015-01-01T00:00:00')&(df_date['created_date_format']<='2019-12-31T23:59:59')].count()"
   ]
  },
  {
   "cell_type": "code",
   "execution_count": 35,
   "metadata": {},
   "outputs": [
    {
     "data": {
      "text/plain": [
       "Timestamp('2020-02-16 09:05:42')"
      ]
     },
     "execution_count": 35,
     "metadata": {},
     "output_type": "execute_result"
    }
   ],
   "source": [
    "pd.to_datetime(df_date['Date incident created'][0])"
   ]
  },
  {
   "cell_type": "code",
   "execution_count": 61,
   "metadata": {},
   "outputs": [],
   "source": [
    "## export Series of date counts for comparison\n",
    "df_date_ct = df_date.groupby(df_date['created_date_format'].dt.normalize())['Date of Report'].count()"
   ]
  },
  {
   "cell_type": "code",
   "execution_count": 66,
   "metadata": {},
   "outputs": [],
   "source": [
    "df_date_ct.to_pickle('data/20200506_df_date_ct.p')"
   ]
  },
  {
   "cell_type": "markdown",
   "metadata": {},
   "source": [
    "## Explore the Crime Categories"
   ]
  },
  {
   "cell_type": "code",
   "execution_count": 90,
   "metadata": {},
   "outputs": [],
   "source": [
    "crime_cat_cols = ['Service Number ID','Date incident created','RMS Code', 'Criminal Justice Information Service Code', 'Penal Code',\n",
    "       'UCR Offense Name', 'UCR Offense Description', ' UCR Code',\n",
    "       'Offense Type', 'NIBRS Crime', 'NIBRS Crime Category',\n",
    "       'NIBRS Crime Against', 'NIBRS Code', 'NIBRS Group', 'NIBRS Type']"
   ]
  },
  {
   "cell_type": "code",
   "execution_count": 91,
   "metadata": {},
   "outputs": [],
   "source": [
    "df_crime_cat = df[crime_cat_cols]"
   ]
  },
  {
   "cell_type": "code",
   "execution_count": 94,
   "metadata": {},
   "outputs": [
    {
     "name": "stderr",
     "output_type": "stream",
     "text": [
      "/opt/anaconda3/lib/python3.7/site-packages/ipykernel_launcher.py:1: SettingWithCopyWarning: \n",
      "A value is trying to be set on a copy of a slice from a DataFrame.\n",
      "Try using .loc[row_indexer,col_indexer] = value instead\n",
      "\n",
      "See the caveats in the documentation: http://pandas.pydata.org/pandas-docs/stable/user_guide/indexing.html#returning-a-view-versus-a-copy\n",
      "  \"\"\"Entry point for launching an IPython kernel.\n"
     ]
    }
   ],
   "source": [
    "df_crime_cat['created_date_format'] = df_crime_cat['Date incident created'].apply(lambda x:pd.to_datetime(x))"
   ]
  },
  {
   "cell_type": "code",
   "execution_count": 95,
   "metadata": {},
   "outputs": [
    {
     "data": {
      "text/html": [
       "<div>\n",
       "<style scoped>\n",
       "    .dataframe tbody tr th:only-of-type {\n",
       "        vertical-align: middle;\n",
       "    }\n",
       "\n",
       "    .dataframe tbody tr th {\n",
       "        vertical-align: top;\n",
       "    }\n",
       "\n",
       "    .dataframe thead th {\n",
       "        text-align: right;\n",
       "    }\n",
       "</style>\n",
       "<table border=\"1\" class=\"dataframe\">\n",
       "  <thead>\n",
       "    <tr style=\"text-align: right;\">\n",
       "      <th></th>\n",
       "      <th>Service Number ID</th>\n",
       "      <th>Date incident created</th>\n",
       "      <th>RMS Code</th>\n",
       "      <th>Criminal Justice Information Service Code</th>\n",
       "      <th>Penal Code</th>\n",
       "      <th>UCR Offense Name</th>\n",
       "      <th>UCR Offense Description</th>\n",
       "      <th>UCR Code</th>\n",
       "      <th>Offense Type</th>\n",
       "      <th>NIBRS Crime</th>\n",
       "      <th>NIBRS Crime Category</th>\n",
       "      <th>NIBRS Crime Against</th>\n",
       "      <th>NIBRS Code</th>\n",
       "      <th>NIBRS Group</th>\n",
       "      <th>NIBRS Type</th>\n",
       "      <th>created_date_format</th>\n",
       "    </tr>\n",
       "  </thead>\n",
       "  <tbody>\n",
       "    <tr>\n",
       "      <td>0</td>\n",
       "      <td>031359-2020-01</td>\n",
       "      <td>2020-02-16 09:05:42.0000000</td>\n",
       "      <td>FS-23990194-F194</td>\n",
       "      <td>23990194</td>\n",
       "      <td>PC 31.03(e)(4)(A)</td>\n",
       "      <td>NaN</td>\n",
       "      <td>NaN</td>\n",
       "      <td>NaN</td>\n",
       "      <td>NaN</td>\n",
       "      <td>ALL OTHER LARCENY</td>\n",
       "      <td>LARCENY/ THEFT OFFENSES</td>\n",
       "      <td>PROPERTY</td>\n",
       "      <td>23H</td>\n",
       "      <td>A</td>\n",
       "      <td>Coded</td>\n",
       "      <td>2020-02-16 09:05:42</td>\n",
       "    </tr>\n",
       "    <tr>\n",
       "      <td>1</td>\n",
       "      <td>064876-2020-01</td>\n",
       "      <td>2020-04-09 12:53:38.0000000</td>\n",
       "      <td>NA-99999999-MSC11</td>\n",
       "      <td>99999999</td>\n",
       "      <td>No Offense</td>\n",
       "      <td>NaN</td>\n",
       "      <td>NaN</td>\n",
       "      <td>NaN</td>\n",
       "      <td>NaN</td>\n",
       "      <td>MISCELLANEOUS</td>\n",
       "      <td>MISCELLANEOUS</td>\n",
       "      <td>MISCELLANEOUS</td>\n",
       "      <td>999</td>\n",
       "      <td>C</td>\n",
       "      <td>999 - No Coded</td>\n",
       "      <td>2020-04-09 12:53:38</td>\n",
       "    </tr>\n",
       "    <tr>\n",
       "      <td>2</td>\n",
       "      <td>020512-2020-01</td>\n",
       "      <td>2020-01-31 10:16:02.0000000</td>\n",
       "      <td>MA-23990193-F189</td>\n",
       "      <td>23990193</td>\n",
       "      <td>PC 31.03(e)(3)</td>\n",
       "      <td>NaN</td>\n",
       "      <td>NaN</td>\n",
       "      <td>NaN</td>\n",
       "      <td>NaN</td>\n",
       "      <td>ALL OTHER LARCENY</td>\n",
       "      <td>LARCENY/ THEFT OFFENSES</td>\n",
       "      <td>PROPERTY</td>\n",
       "      <td>23H</td>\n",
       "      <td>A</td>\n",
       "      <td>Coded</td>\n",
       "      <td>2020-01-31 10:16:02</td>\n",
       "    </tr>\n",
       "    <tr>\n",
       "      <td>3</td>\n",
       "      <td>805157-2019-01</td>\n",
       "      <td>2019-11-07 19:05:11.0000000</td>\n",
       "      <td>NA-99999999-X1</td>\n",
       "      <td>99999999</td>\n",
       "      <td>No Offense</td>\n",
       "      <td>NaN</td>\n",
       "      <td>NaN</td>\n",
       "      <td>NaN</td>\n",
       "      <td>NaN</td>\n",
       "      <td>MISCELLANEOUS</td>\n",
       "      <td>MISCELLANEOUS</td>\n",
       "      <td>MISCELLANEOUS</td>\n",
       "      <td>999</td>\n",
       "      <td>C</td>\n",
       "      <td>999 - No Coded</td>\n",
       "      <td>2019-11-07 19:05:11</td>\n",
       "    </tr>\n",
       "    <tr>\n",
       "      <td>4</td>\n",
       "      <td>268491-2016-01</td>\n",
       "      <td>2016-11-09 09:51:32.0000000</td>\n",
       "      <td>FS-24110003-G1</td>\n",
       "      <td>24110003</td>\n",
       "      <td>PC 31.07</td>\n",
       "      <td>UUMV</td>\n",
       "      <td>AUTO THEFT - UUMV</td>\n",
       "      <td>710.0</td>\n",
       "      <td>PART1</td>\n",
       "      <td>NaN</td>\n",
       "      <td>NaN</td>\n",
       "      <td>NaN</td>\n",
       "      <td>NaN</td>\n",
       "      <td>NaN</td>\n",
       "      <td>NaN</td>\n",
       "      <td>2016-11-09 09:51:32</td>\n",
       "    </tr>\n",
       "  </tbody>\n",
       "</table>\n",
       "</div>"
      ],
      "text/plain": [
       "  Service Number ID        Date incident created           RMS Code  \\\n",
       "0    031359-2020-01  2020-02-16 09:05:42.0000000   FS-23990194-F194   \n",
       "1    064876-2020-01  2020-04-09 12:53:38.0000000  NA-99999999-MSC11   \n",
       "2    020512-2020-01  2020-01-31 10:16:02.0000000   MA-23990193-F189   \n",
       "3    805157-2019-01  2019-11-07 19:05:11.0000000     NA-99999999-X1   \n",
       "4    268491-2016-01  2016-11-09 09:51:32.0000000     FS-24110003-G1   \n",
       "\n",
       "   Criminal Justice Information Service Code         Penal Code  \\\n",
       "0                                   23990194  PC 31.03(e)(4)(A)   \n",
       "1                                   99999999         No Offense   \n",
       "2                                   23990193     PC 31.03(e)(3)   \n",
       "3                                   99999999         No Offense   \n",
       "4                                   24110003           PC 31.07   \n",
       "\n",
       "  UCR Offense Name UCR Offense Description   UCR Code Offense Type  \\\n",
       "0              NaN                     NaN        NaN          NaN   \n",
       "1              NaN                     NaN        NaN          NaN   \n",
       "2              NaN                     NaN        NaN          NaN   \n",
       "3              NaN                     NaN        NaN          NaN   \n",
       "4             UUMV       AUTO THEFT - UUMV      710.0        PART1   \n",
       "\n",
       "         NIBRS Crime     NIBRS Crime Category NIBRS Crime Against NIBRS Code  \\\n",
       "0  ALL OTHER LARCENY  LARCENY/ THEFT OFFENSES            PROPERTY        23H   \n",
       "1      MISCELLANEOUS            MISCELLANEOUS       MISCELLANEOUS        999   \n",
       "2  ALL OTHER LARCENY  LARCENY/ THEFT OFFENSES            PROPERTY        23H   \n",
       "3      MISCELLANEOUS            MISCELLANEOUS       MISCELLANEOUS        999   \n",
       "4                NaN                      NaN                 NaN        NaN   \n",
       "\n",
       "  NIBRS Group      NIBRS Type created_date_format  \n",
       "0           A           Coded 2020-02-16 09:05:42  \n",
       "1           C  999 - No Coded 2020-04-09 12:53:38  \n",
       "2           A           Coded 2020-01-31 10:16:02  \n",
       "3           C  999 - No Coded 2019-11-07 19:05:11  \n",
       "4         NaN             NaN 2016-11-09 09:51:32  "
      ]
     },
     "execution_count": 95,
     "metadata": {},
     "output_type": "execute_result"
    }
   ],
   "source": [
    "df_crime_cat.head()"
   ]
  },
  {
   "cell_type": "markdown",
   "metadata": {},
   "source": [
    "**Find the NIBRS Switch**"
   ]
  },
  {
   "cell_type": "code",
   "execution_count": 97,
   "metadata": {},
   "outputs": [
    {
     "data": {
      "text/plain": [
       "Timestamp('2018-02-11 02:29:23')"
      ]
     },
     "execution_count": 97,
     "metadata": {},
     "output_type": "execute_result"
    }
   ],
   "source": [
    "# latest date for RMS records with no NIBRS crimed indicated\n",
    "df_crime_cat[df_crime_cat['NIBRS Crime'].isnull()]['created_date_format'].max()"
   ]
  },
  {
   "cell_type": "code",
   "execution_count": 98,
   "metadata": {},
   "outputs": [
    {
     "data": {
      "text/plain": [
       "Timestamp('2017-01-01 00:04:20')"
      ]
     },
     "execution_count": 98,
     "metadata": {},
     "output_type": "execute_result"
    }
   ],
   "source": [
    "# earliest date for NIBRS codes to be in RMS\n",
    "df_crime_cat[~df_crime_cat['NIBRS Crime'].isnull()]['created_date_format'].min()"
   ]
  },
  {
   "cell_type": "markdown",
   "metadata": {},
   "source": [
    "**Find the UCR Switch Off**"
   ]
  },
  {
   "cell_type": "code",
   "execution_count": 114,
   "metadata": {},
   "outputs": [
    {
     "data": {
      "text/plain": [
       "Timestamp('2017-04-15 20:44:57')"
      ]
     },
     "execution_count": 114,
     "metadata": {},
     "output_type": "execute_result"
    }
   ],
   "source": [
    "# Earliest date for records appearing with null UCR codes\n",
    "df_crime_cat[df_crime_cat[' UCR Code'].isnull()]['created_date_format'].min()"
   ]
  },
  {
   "cell_type": "code",
   "execution_count": 126,
   "metadata": {},
   "outputs": [
    {
     "data": {
      "text/plain": [
       "Timestamp('2018-11-19 10:51:24')"
      ]
     },
     "execution_count": 126,
     "metadata": {},
     "output_type": "execute_result"
    }
   ],
   "source": [
    "# Latest date UCR code not null\n",
    "df_crime_cat[~df_crime_cat[' UCR Code'].isnull()]['created_date_format'].max()"
   ]
  },
  {
   "cell_type": "markdown",
   "metadata": {},
   "source": [
    "**UCR Null and NIBRS Not Null**"
   ]
  },
  {
   "cell_type": "code",
   "execution_count": 115,
   "metadata": {},
   "outputs": [
    {
     "data": {
      "text/plain": [
       "Timestamp('2017-04-15 20:44:57')"
      ]
     },
     "execution_count": 115,
     "metadata": {},
     "output_type": "execute_result"
    }
   ],
   "source": [
    "df_crime_cat[(df_crime_cat[' UCR Code'].isnull()) & (~df_crime_cat['NIBRS Crime'].isnull())]['created_date_format'].min()"
   ]
  },
  {
   "cell_type": "markdown",
   "metadata": {},
   "source": [
    "**UCR Not Null and NIBRS NULL**"
   ]
  },
  {
   "cell_type": "code",
   "execution_count": 116,
   "metadata": {},
   "outputs": [
    {
     "data": {
      "text/plain": [
       "Timestamp('2018-02-11 02:29:23')"
      ]
     },
     "execution_count": 116,
     "metadata": {},
     "output_type": "execute_result"
    }
   ],
   "source": [
    "df_crime_cat[(~df_crime_cat[' UCR Code'].isnull()) & (df_crime_cat['NIBRS Crime'].isnull())]\\\n",
    "['created_date_format'].max()"
   ]
  },
  {
   "cell_type": "markdown",
   "metadata": {},
   "source": [
    "**UCR Not NULL and NIBRS NOT NULL**"
   ]
  },
  {
   "cell_type": "code",
   "execution_count": 119,
   "metadata": {},
   "outputs": [
    {
     "data": {
      "text/plain": [
       "Timestamp('2017-01-01 00:04:20')"
      ]
     },
     "execution_count": 119,
     "metadata": {},
     "output_type": "execute_result"
    }
   ],
   "source": [
    "df_crime_cat[(~df_crime_cat[' UCR Code'].isnull()) & (~df_crime_cat['NIBRS Crime'].isnull())]\\\n",
    "['created_date_format'].min()"
   ]
  },
  {
   "cell_type": "code",
   "execution_count": 125,
   "metadata": {},
   "outputs": [
    {
     "data": {
      "text/html": [
       "<div>\n",
       "<style scoped>\n",
       "    .dataframe tbody tr th:only-of-type {\n",
       "        vertical-align: middle;\n",
       "    }\n",
       "\n",
       "    .dataframe tbody tr th {\n",
       "        vertical-align: top;\n",
       "    }\n",
       "\n",
       "    .dataframe thead th {\n",
       "        text-align: right;\n",
       "    }\n",
       "</style>\n",
       "<table border=\"1\" class=\"dataframe\">\n",
       "  <thead>\n",
       "    <tr style=\"text-align: right;\">\n",
       "      <th></th>\n",
       "      <th>Service Number ID</th>\n",
       "      <th>Date incident created</th>\n",
       "      <th>RMS Code</th>\n",
       "      <th>Criminal Justice Information Service Code</th>\n",
       "      <th>Penal Code</th>\n",
       "      <th>UCR Offense Name</th>\n",
       "      <th>UCR Offense Description</th>\n",
       "      <th>UCR Code</th>\n",
       "      <th>Offense Type</th>\n",
       "      <th>NIBRS Crime</th>\n",
       "      <th>NIBRS Crime Category</th>\n",
       "      <th>NIBRS Crime Against</th>\n",
       "      <th>NIBRS Code</th>\n",
       "      <th>NIBRS Group</th>\n",
       "      <th>NIBRS Type</th>\n",
       "      <th>created_date_format</th>\n",
       "    </tr>\n",
       "  </thead>\n",
       "  <tbody>\n",
       "    <tr>\n",
       "      <td>125196</td>\n",
       "      <td>250121-2018-01</td>\n",
       "      <td>2018-11-19 10:51:24.0000000</td>\n",
       "      <td>NA-99999999-X5</td>\n",
       "      <td>99999999</td>\n",
       "      <td>No Offense</td>\n",
       "      <td>FOUND</td>\n",
       "      <td>FOUND PROPERTY</td>\n",
       "      <td>2600.0</td>\n",
       "      <td>NOT CODED</td>\n",
       "      <td>MISCELLANEOUS</td>\n",
       "      <td>MISCELLANEOUS</td>\n",
       "      <td>MISCELLANEOUS</td>\n",
       "      <td>999</td>\n",
       "      <td>C</td>\n",
       "      <td>999 - No Coded</td>\n",
       "      <td>2018-11-19 10:51:24</td>\n",
       "    </tr>\n",
       "  </tbody>\n",
       "</table>\n",
       "</div>"
      ],
      "text/plain": [
       "       Service Number ID        Date incident created        RMS Code  \\\n",
       "125196    250121-2018-01  2018-11-19 10:51:24.0000000  NA-99999999-X5   \n",
       "\n",
       "        Criminal Justice Information Service Code  Penal Code  \\\n",
       "125196                                   99999999  No Offense   \n",
       "\n",
       "       UCR Offense Name UCR Offense Description   UCR Code Offense Type  \\\n",
       "125196            FOUND          FOUND PROPERTY     2600.0    NOT CODED   \n",
       "\n",
       "          NIBRS Crime NIBRS Crime Category NIBRS Crime Against NIBRS Code  \\\n",
       "125196  MISCELLANEOUS        MISCELLANEOUS       MISCELLANEOUS        999   \n",
       "\n",
       "       NIBRS Group      NIBRS Type created_date_format  \n",
       "125196           C  999 - No Coded 2018-11-19 10:51:24  "
      ]
     },
     "execution_count": 125,
     "metadata": {},
     "output_type": "execute_result"
    }
   ],
   "source": [
    "df_crime_cat[df_crime_cat['created_date_format'] == df_crime_cat[(~df_crime_cat[' UCR Code'].isnull()) & (~df_crime_cat['NIBRS Crime'].isnull())]\\\n",
    "['created_date_format'].max()]"
   ]
  },
  {
   "cell_type": "code",
   "execution_count": 123,
   "metadata": {},
   "outputs": [
    {
     "data": {
      "text/html": [
       "<div>\n",
       "<style scoped>\n",
       "    .dataframe tbody tr th:only-of-type {\n",
       "        vertical-align: middle;\n",
       "    }\n",
       "\n",
       "    .dataframe tbody tr th {\n",
       "        vertical-align: top;\n",
       "    }\n",
       "\n",
       "    .dataframe thead th {\n",
       "        text-align: right;\n",
       "    }\n",
       "</style>\n",
       "<table border=\"1\" class=\"dataframe\">\n",
       "  <thead>\n",
       "    <tr style=\"text-align: right;\">\n",
       "      <th></th>\n",
       "      <th>Service Number ID</th>\n",
       "      <th>Date incident created</th>\n",
       "      <th>RMS Code</th>\n",
       "      <th>Criminal Justice Information Service Code</th>\n",
       "      <th>Penal Code</th>\n",
       "      <th>UCR Offense Name</th>\n",
       "      <th>UCR Offense Description</th>\n",
       "      <th>UCR Code</th>\n",
       "      <th>Offense Type</th>\n",
       "      <th>NIBRS Crime</th>\n",
       "      <th>NIBRS Crime Category</th>\n",
       "      <th>NIBRS Crime Against</th>\n",
       "      <th>NIBRS Code</th>\n",
       "      <th>NIBRS Group</th>\n",
       "      <th>NIBRS Type</th>\n",
       "      <th>created_date_format</th>\n",
       "    </tr>\n",
       "  </thead>\n",
       "  <tbody>\n",
       "    <tr>\n",
       "      <td>5</td>\n",
       "      <td>103095-2018-01</td>\n",
       "      <td>2018-05-15 09:06:24.0000000</td>\n",
       "      <td>FS-24110003-G1</td>\n",
       "      <td>24110003</td>\n",
       "      <td>PC 31.07</td>\n",
       "      <td>UUMV</td>\n",
       "      <td>AUTO THEFT - UUMV</td>\n",
       "      <td>710.0</td>\n",
       "      <td>PART1</td>\n",
       "      <td>UUMV</td>\n",
       "      <td>MOTOR VEHICLE THEFT</td>\n",
       "      <td>PROPERTY</td>\n",
       "      <td>240</td>\n",
       "      <td>A</td>\n",
       "      <td>Coded</td>\n",
       "      <td>2018-05-15 09:06:24</td>\n",
       "    </tr>\n",
       "    <tr>\n",
       "      <td>6</td>\n",
       "      <td>098113-2017-01</td>\n",
       "      <td>2017-05-02 17:54:30.0000000</td>\n",
       "      <td>FS-24110003-G1</td>\n",
       "      <td>24110003</td>\n",
       "      <td>PC 31.07</td>\n",
       "      <td>UUMV</td>\n",
       "      <td>AUTO THEFT - UUMV</td>\n",
       "      <td>710.0</td>\n",
       "      <td>PART1</td>\n",
       "      <td>UUMV</td>\n",
       "      <td>MOTOR VEHICLE THEFT</td>\n",
       "      <td>PROPERTY</td>\n",
       "      <td>240</td>\n",
       "      <td>A</td>\n",
       "      <td>Coded</td>\n",
       "      <td>2017-05-02 17:54:30</td>\n",
       "    </tr>\n",
       "    <tr>\n",
       "      <td>12</td>\n",
       "      <td>031466-2018-01</td>\n",
       "      <td>2018-02-23 10:07:02.0000000</td>\n",
       "      <td>FS-24110003-G1</td>\n",
       "      <td>24110003</td>\n",
       "      <td>PC 31.07</td>\n",
       "      <td>UUMV</td>\n",
       "      <td>AUTO THEFT - UUMV</td>\n",
       "      <td>710.0</td>\n",
       "      <td>PART1</td>\n",
       "      <td>UUMV</td>\n",
       "      <td>MOTOR VEHICLE THEFT</td>\n",
       "      <td>PROPERTY</td>\n",
       "      <td>240</td>\n",
       "      <td>A</td>\n",
       "      <td>Coded</td>\n",
       "      <td>2018-02-23 10:07:02</td>\n",
       "    </tr>\n",
       "    <tr>\n",
       "      <td>15</td>\n",
       "      <td>147099-2017-01</td>\n",
       "      <td>2017-06-29 09:04:30.0000000</td>\n",
       "      <td>FS-24110003-G1</td>\n",
       "      <td>24110003</td>\n",
       "      <td>PC 31.07</td>\n",
       "      <td>UUMV</td>\n",
       "      <td>AUTO THEFT - UUMV</td>\n",
       "      <td>710.0</td>\n",
       "      <td>PART1</td>\n",
       "      <td>UUMV</td>\n",
       "      <td>MOTOR VEHICLE THEFT</td>\n",
       "      <td>PROPERTY</td>\n",
       "      <td>240</td>\n",
       "      <td>A</td>\n",
       "      <td>Coded</td>\n",
       "      <td>2017-06-29 09:04:30</td>\n",
       "    </tr>\n",
       "    <tr>\n",
       "      <td>20</td>\n",
       "      <td>010727-2018-01</td>\n",
       "      <td>2018-01-15 11:03:34.0000000</td>\n",
       "      <td>FS-24110003-G1</td>\n",
       "      <td>24110003</td>\n",
       "      <td>PC 31.07</td>\n",
       "      <td>UUMV</td>\n",
       "      <td>AUTO THEFT - UUMV</td>\n",
       "      <td>710.0</td>\n",
       "      <td>PART1</td>\n",
       "      <td>UUMV</td>\n",
       "      <td>MOTOR VEHICLE THEFT</td>\n",
       "      <td>PROPERTY</td>\n",
       "      <td>240</td>\n",
       "      <td>A</td>\n",
       "      <td>Coded</td>\n",
       "      <td>2018-01-15 11:03:34</td>\n",
       "    </tr>\n",
       "  </tbody>\n",
       "</table>\n",
       "</div>"
      ],
      "text/plain": [
       "   Service Number ID        Date incident created        RMS Code  \\\n",
       "5     103095-2018-01  2018-05-15 09:06:24.0000000  FS-24110003-G1   \n",
       "6     098113-2017-01  2017-05-02 17:54:30.0000000  FS-24110003-G1   \n",
       "12    031466-2018-01  2018-02-23 10:07:02.0000000  FS-24110003-G1   \n",
       "15    147099-2017-01  2017-06-29 09:04:30.0000000  FS-24110003-G1   \n",
       "20    010727-2018-01  2018-01-15 11:03:34.0000000  FS-24110003-G1   \n",
       "\n",
       "    Criminal Justice Information Service Code Penal Code UCR Offense Name  \\\n",
       "5                                    24110003   PC 31.07             UUMV   \n",
       "6                                    24110003   PC 31.07             UUMV   \n",
       "12                                   24110003   PC 31.07             UUMV   \n",
       "15                                   24110003   PC 31.07             UUMV   \n",
       "20                                   24110003   PC 31.07             UUMV   \n",
       "\n",
       "   UCR Offense Description   UCR Code Offense Type NIBRS Crime  \\\n",
       "5        AUTO THEFT - UUMV      710.0        PART1        UUMV   \n",
       "6        AUTO THEFT - UUMV      710.0        PART1        UUMV   \n",
       "12       AUTO THEFT - UUMV      710.0        PART1        UUMV   \n",
       "15       AUTO THEFT - UUMV      710.0        PART1        UUMV   \n",
       "20       AUTO THEFT - UUMV      710.0        PART1        UUMV   \n",
       "\n",
       "   NIBRS Crime Category NIBRS Crime Against NIBRS Code NIBRS Group NIBRS Type  \\\n",
       "5   MOTOR VEHICLE THEFT            PROPERTY        240           A      Coded   \n",
       "6   MOTOR VEHICLE THEFT            PROPERTY        240           A      Coded   \n",
       "12  MOTOR VEHICLE THEFT            PROPERTY        240           A      Coded   \n",
       "15  MOTOR VEHICLE THEFT            PROPERTY        240           A      Coded   \n",
       "20  MOTOR VEHICLE THEFT            PROPERTY        240           A      Coded   \n",
       "\n",
       "   created_date_format  \n",
       "5  2018-05-15 09:06:24  \n",
       "6  2017-05-02 17:54:30  \n",
       "12 2018-02-23 10:07:02  \n",
       "15 2017-06-29 09:04:30  \n",
       "20 2018-01-15 11:03:34  "
      ]
     },
     "execution_count": 123,
     "metadata": {},
     "output_type": "execute_result"
    }
   ],
   "source": [
    "df_crime_cat[(~df_crime_cat[' UCR Code'].isnull()) & (~df_crime_cat['NIBRS Crime'].isnull())].head()"
   ]
  },
  {
   "cell_type": "markdown",
   "metadata": {},
   "source": [
    "**Count NIBRS NULL after 2017-01-01**"
   ]
  },
  {
   "cell_type": "code",
   "execution_count": 121,
   "metadata": {},
   "outputs": [
    {
     "data": {
      "text/plain": [
       "67"
      ]
     },
     "execution_count": 121,
     "metadata": {},
     "output_type": "execute_result"
    }
   ],
   "source": [
    "df_crime_cat[(df_crime_cat['created_date_format']>='2017-01-01T00:00:00') & (df_crime_cat['NIBRS Crime'].isnull())]['Service Number ID'].count()"
   ]
  },
  {
   "cell_type": "code",
   "execution_count": null,
   "metadata": {},
   "outputs": [],
   "source": []
  },
  {
   "cell_type": "code",
   "execution_count": null,
   "metadata": {},
   "outputs": [],
   "source": []
  },
  {
   "cell_type": "code",
   "execution_count": null,
   "metadata": {},
   "outputs": [],
   "source": []
  },
  {
   "cell_type": "code",
   "execution_count": 105,
   "metadata": {},
   "outputs": [
    {
     "data": {
      "text/html": [
       "<div>\n",
       "<style scoped>\n",
       "    .dataframe tbody tr th:only-of-type {\n",
       "        vertical-align: middle;\n",
       "    }\n",
       "\n",
       "    .dataframe tbody tr th {\n",
       "        vertical-align: top;\n",
       "    }\n",
       "\n",
       "    .dataframe thead th {\n",
       "        text-align: right;\n",
       "    }\n",
       "</style>\n",
       "<table border=\"1\" class=\"dataframe\">\n",
       "  <thead>\n",
       "    <tr style=\"text-align: right;\">\n",
       "      <th></th>\n",
       "      <th>Service Number ID</th>\n",
       "      <th>Date incident created</th>\n",
       "      <th>RMS Code</th>\n",
       "      <th>Criminal Justice Information Service Code</th>\n",
       "      <th>Penal Code</th>\n",
       "      <th>UCR Offense Name</th>\n",
       "      <th>UCR Offense Description</th>\n",
       "      <th>UCR Code</th>\n",
       "      <th>Offense Type</th>\n",
       "      <th>NIBRS Crime</th>\n",
       "      <th>NIBRS Crime Category</th>\n",
       "      <th>NIBRS Crime Against</th>\n",
       "      <th>NIBRS Code</th>\n",
       "      <th>NIBRS Group</th>\n",
       "      <th>NIBRS Type</th>\n",
       "      <th>created_date_format</th>\n",
       "    </tr>\n",
       "  </thead>\n",
       "  <tbody>\n",
       "    <tr>\n",
       "      <td>366796</td>\n",
       "      <td>000022-2017-01</td>\n",
       "      <td>2017-01-01 00:41:05.0000000</td>\n",
       "      <td>F1-12990002-C4</td>\n",
       "      <td>12990002</td>\n",
       "      <td>PC 29.03</td>\n",
       "      <td>ROBBERY-INDIVIDUAL</td>\n",
       "      <td>ROBBERY</td>\n",
       "      <td>300.0</td>\n",
       "      <td>PART1</td>\n",
       "      <td>NaN</td>\n",
       "      <td>NaN</td>\n",
       "      <td>NaN</td>\n",
       "      <td>NaN</td>\n",
       "      <td>NaN</td>\n",
       "      <td>NaN</td>\n",
       "      <td>2017-01-01 00:41:05</td>\n",
       "    </tr>\n",
       "    <tr>\n",
       "      <td>392806</td>\n",
       "      <td>000033-2017-01</td>\n",
       "      <td>2017-01-01 00:57:31.0000000</td>\n",
       "      <td>MB-23990067-F172</td>\n",
       "      <td>23990067</td>\n",
       "      <td>PC 31.03(e)(2)(Ai)</td>\n",
       "      <td>OTHER THEFTS</td>\n",
       "      <td>THEFT</td>\n",
       "      <td>690.0</td>\n",
       "      <td>PART1</td>\n",
       "      <td>NaN</td>\n",
       "      <td>NaN</td>\n",
       "      <td>NaN</td>\n",
       "      <td>NaN</td>\n",
       "      <td>NaN</td>\n",
       "      <td>NaN</td>\n",
       "      <td>2017-01-01 00:57:31</td>\n",
       "    </tr>\n",
       "    <tr>\n",
       "      <td>237597</td>\n",
       "      <td>000039-2017-01</td>\n",
       "      <td>2017-01-01 01:05:44.0000000</td>\n",
       "      <td>MB-54990007-V9</td>\n",
       "      <td>54990007</td>\n",
       "      <td>550.024(a)</td>\n",
       "      <td>ACCIDENT MV</td>\n",
       "      <td>MOTOR VEHICLE ACCIDENT</td>\n",
       "      <td>3200.0</td>\n",
       "      <td>PART2</td>\n",
       "      <td>NaN</td>\n",
       "      <td>NaN</td>\n",
       "      <td>NaN</td>\n",
       "      <td>NaN</td>\n",
       "      <td>NaN</td>\n",
       "      <td>NaN</td>\n",
       "      <td>2017-01-01 01:05:44</td>\n",
       "    </tr>\n",
       "    <tr>\n",
       "      <td>364286</td>\n",
       "      <td>000058-2017-01</td>\n",
       "      <td>2017-01-01 01:22:17.0000000</td>\n",
       "      <td>MB-29990016-L82</td>\n",
       "      <td>29990016</td>\n",
       "      <td>PC 28.03(b)(2)</td>\n",
       "      <td>VANDALISM &amp; CRIM MISCHIEF</td>\n",
       "      <td>CRIMINAL MISCHIEF/VANDALISM</td>\n",
       "      <td>1400.0</td>\n",
       "      <td>PART2</td>\n",
       "      <td>NaN</td>\n",
       "      <td>NaN</td>\n",
       "      <td>NaN</td>\n",
       "      <td>NaN</td>\n",
       "      <td>NaN</td>\n",
       "      <td>NaN</td>\n",
       "      <td>2017-01-01 01:22:17</td>\n",
       "    </tr>\n",
       "    <tr>\n",
       "      <td>306911</td>\n",
       "      <td>000079-2017-01</td>\n",
       "      <td>2017-01-01 01:48:04.0000000</td>\n",
       "      <td>F1-13140002-D2</td>\n",
       "      <td>13140002</td>\n",
       "      <td>PC 22.02(b)(3)</td>\n",
       "      <td>AGG ASSAULT - NFV</td>\n",
       "      <td>AGGRAVATED ASSAULT</td>\n",
       "      <td>400.0</td>\n",
       "      <td>PART1</td>\n",
       "      <td>NaN</td>\n",
       "      <td>NaN</td>\n",
       "      <td>NaN</td>\n",
       "      <td>NaN</td>\n",
       "      <td>NaN</td>\n",
       "      <td>NaN</td>\n",
       "      <td>2017-01-01 01:48:04</td>\n",
       "    </tr>\n",
       "    <tr>\n",
       "      <td>...</td>\n",
       "      <td>...</td>\n",
       "      <td>...</td>\n",
       "      <td>...</td>\n",
       "      <td>...</td>\n",
       "      <td>...</td>\n",
       "      <td>...</td>\n",
       "      <td>...</td>\n",
       "      <td>...</td>\n",
       "      <td>...</td>\n",
       "      <td>...</td>\n",
       "      <td>...</td>\n",
       "      <td>...</td>\n",
       "      <td>...</td>\n",
       "      <td>...</td>\n",
       "      <td>...</td>\n",
       "      <td>...</td>\n",
       "    </tr>\n",
       "    <tr>\n",
       "      <td>262959</td>\n",
       "      <td>068585-2017-01</td>\n",
       "      <td>2017-03-27 21:23:15.0000000</td>\n",
       "      <td>MB-54990007-V9</td>\n",
       "      <td>54990007</td>\n",
       "      <td>550.024(a)</td>\n",
       "      <td>ACCIDENT MV</td>\n",
       "      <td>MOTOR VEHICLE ACCIDENT</td>\n",
       "      <td>3200.0</td>\n",
       "      <td>PART2</td>\n",
       "      <td>NaN</td>\n",
       "      <td>NaN</td>\n",
       "      <td>NaN</td>\n",
       "      <td>NaN</td>\n",
       "      <td>NaN</td>\n",
       "      <td>NaN</td>\n",
       "      <td>2017-03-27 21:23:15</td>\n",
       "    </tr>\n",
       "    <tr>\n",
       "      <td>366551</td>\n",
       "      <td>111273-2017-01</td>\n",
       "      <td>2017-05-18 08:47:29.0000000</td>\n",
       "      <td>F1-23990013-K220</td>\n",
       "      <td>23990013</td>\n",
       "      <td>PC 31.03(e)(7)</td>\n",
       "      <td>EMBEZZLEMENT</td>\n",
       "      <td>EMBEZZLEMENT</td>\n",
       "      <td>1200.0</td>\n",
       "      <td>PART2</td>\n",
       "      <td>NaN</td>\n",
       "      <td>NaN</td>\n",
       "      <td>NaN</td>\n",
       "      <td>NaN</td>\n",
       "      <td>NaN</td>\n",
       "      <td>NaN</td>\n",
       "      <td>2017-05-18 08:47:29</td>\n",
       "    </tr>\n",
       "    <tr>\n",
       "      <td>389246</td>\n",
       "      <td>130023-2017-01</td>\n",
       "      <td>2017-06-09 07:33:43.0000000</td>\n",
       "      <td>FS-23990004-K216</td>\n",
       "      <td>23990004</td>\n",
       "      <td>PC 31.03(e)(4)(A)</td>\n",
       "      <td>EMBEZZLEMENT</td>\n",
       "      <td>EMBEZZLEMENT</td>\n",
       "      <td>1200.0</td>\n",
       "      <td>PART2</td>\n",
       "      <td>NaN</td>\n",
       "      <td>NaN</td>\n",
       "      <td>NaN</td>\n",
       "      <td>NaN</td>\n",
       "      <td>NaN</td>\n",
       "      <td>NaN</td>\n",
       "      <td>2017-06-09 07:33:43</td>\n",
       "    </tr>\n",
       "    <tr>\n",
       "      <td>401136</td>\n",
       "      <td>156457-2017-01</td>\n",
       "      <td>2017-07-10 13:45:22.0000000</td>\n",
       "      <td>MB-23990067-F173</td>\n",
       "      <td>23990067</td>\n",
       "      <td>PC 31.03(e)(2)(Ai)</td>\n",
       "      <td>THEFT/SHOPLIFT</td>\n",
       "      <td>THEFT</td>\n",
       "      <td>630.0</td>\n",
       "      <td>PART1</td>\n",
       "      <td>NaN</td>\n",
       "      <td>NaN</td>\n",
       "      <td>NaN</td>\n",
       "      <td>NaN</td>\n",
       "      <td>NaN</td>\n",
       "      <td>NaN</td>\n",
       "      <td>2017-07-10 13:45:22</td>\n",
       "    </tr>\n",
       "    <tr>\n",
       "      <td>389215</td>\n",
       "      <td>030849-2018-01</td>\n",
       "      <td>2018-02-11 02:29:23.0000000</td>\n",
       "      <td>NA-99999999-X1</td>\n",
       "      <td>99999999</td>\n",
       "      <td>No Offense</td>\n",
       "      <td>LOST</td>\n",
       "      <td>LOST PROPERTY</td>\n",
       "      <td>4200.0</td>\n",
       "      <td>NOT CODED</td>\n",
       "      <td>NaN</td>\n",
       "      <td>NaN</td>\n",
       "      <td>NaN</td>\n",
       "      <td>NaN</td>\n",
       "      <td>NaN</td>\n",
       "      <td>NaN</td>\n",
       "      <td>2018-02-11 02:29:23</td>\n",
       "    </tr>\n",
       "  </tbody>\n",
       "</table>\n",
       "<p>67 rows × 16 columns</p>\n",
       "</div>"
      ],
      "text/plain": [
       "       Service Number ID        Date incident created          RMS Code  \\\n",
       "366796    000022-2017-01  2017-01-01 00:41:05.0000000    F1-12990002-C4   \n",
       "392806    000033-2017-01  2017-01-01 00:57:31.0000000  MB-23990067-F172   \n",
       "237597    000039-2017-01  2017-01-01 01:05:44.0000000    MB-54990007-V9   \n",
       "364286    000058-2017-01  2017-01-01 01:22:17.0000000   MB-29990016-L82   \n",
       "306911    000079-2017-01  2017-01-01 01:48:04.0000000    F1-13140002-D2   \n",
       "...                  ...                          ...               ...   \n",
       "262959    068585-2017-01  2017-03-27 21:23:15.0000000    MB-54990007-V9   \n",
       "366551    111273-2017-01  2017-05-18 08:47:29.0000000  F1-23990013-K220   \n",
       "389246    130023-2017-01  2017-06-09 07:33:43.0000000  FS-23990004-K216   \n",
       "401136    156457-2017-01  2017-07-10 13:45:22.0000000  MB-23990067-F173   \n",
       "389215    030849-2018-01  2018-02-11 02:29:23.0000000    NA-99999999-X1   \n",
       "\n",
       "        Criminal Justice Information Service Code          Penal Code  \\\n",
       "366796                                   12990002            PC 29.03   \n",
       "392806                                   23990067  PC 31.03(e)(2)(Ai)   \n",
       "237597                                   54990007          550.024(a)   \n",
       "364286                                   29990016      PC 28.03(b)(2)   \n",
       "306911                                   13140002      PC 22.02(b)(3)   \n",
       "...                                           ...                 ...   \n",
       "262959                                   54990007          550.024(a)   \n",
       "366551                                   23990013      PC 31.03(e)(7)   \n",
       "389246                                   23990004   PC 31.03(e)(4)(A)   \n",
       "401136                                   23990067  PC 31.03(e)(2)(Ai)   \n",
       "389215                                   99999999          No Offense   \n",
       "\n",
       "                 UCR Offense Name      UCR Offense Description   UCR Code  \\\n",
       "366796         ROBBERY-INDIVIDUAL                      ROBBERY      300.0   \n",
       "392806               OTHER THEFTS                        THEFT      690.0   \n",
       "237597                ACCIDENT MV       MOTOR VEHICLE ACCIDENT     3200.0   \n",
       "364286  VANDALISM & CRIM MISCHIEF  CRIMINAL MISCHIEF/VANDALISM     1400.0   \n",
       "306911          AGG ASSAULT - NFV           AGGRAVATED ASSAULT      400.0   \n",
       "...                           ...                          ...        ...   \n",
       "262959                ACCIDENT MV       MOTOR VEHICLE ACCIDENT     3200.0   \n",
       "366551               EMBEZZLEMENT                 EMBEZZLEMENT     1200.0   \n",
       "389246               EMBEZZLEMENT                 EMBEZZLEMENT     1200.0   \n",
       "401136             THEFT/SHOPLIFT                        THEFT      630.0   \n",
       "389215                       LOST                LOST PROPERTY     4200.0   \n",
       "\n",
       "       Offense Type NIBRS Crime NIBRS Crime Category NIBRS Crime Against  \\\n",
       "366796        PART1         NaN                  NaN                 NaN   \n",
       "392806        PART1         NaN                  NaN                 NaN   \n",
       "237597        PART2         NaN                  NaN                 NaN   \n",
       "364286        PART2         NaN                  NaN                 NaN   \n",
       "306911        PART1         NaN                  NaN                 NaN   \n",
       "...             ...         ...                  ...                 ...   \n",
       "262959        PART2         NaN                  NaN                 NaN   \n",
       "366551        PART2         NaN                  NaN                 NaN   \n",
       "389246        PART2         NaN                  NaN                 NaN   \n",
       "401136        PART1         NaN                  NaN                 NaN   \n",
       "389215    NOT CODED         NaN                  NaN                 NaN   \n",
       "\n",
       "       NIBRS Code NIBRS Group NIBRS Type created_date_format  \n",
       "366796        NaN         NaN        NaN 2017-01-01 00:41:05  \n",
       "392806        NaN         NaN        NaN 2017-01-01 00:57:31  \n",
       "237597        NaN         NaN        NaN 2017-01-01 01:05:44  \n",
       "364286        NaN         NaN        NaN 2017-01-01 01:22:17  \n",
       "306911        NaN         NaN        NaN 2017-01-01 01:48:04  \n",
       "...           ...         ...        ...                 ...  \n",
       "262959        NaN         NaN        NaN 2017-03-27 21:23:15  \n",
       "366551        NaN         NaN        NaN 2017-05-18 08:47:29  \n",
       "389246        NaN         NaN        NaN 2017-06-09 07:33:43  \n",
       "401136        NaN         NaN        NaN 2017-07-10 13:45:22  \n",
       "389215        NaN         NaN        NaN 2018-02-11 02:29:23  \n",
       "\n",
       "[67 rows x 16 columns]"
      ]
     },
     "execution_count": 105,
     "metadata": {},
     "output_type": "execute_result"
    }
   ],
   "source": [
    "df_crime_cat[\\\n",
    "             (df_crime_cat['created_date_format']>='2017-01-01T00:00:00')\\\n",
    "             & (df_crime_cat['created_date_format']<='2018-02-11T03:00:00') &(df_crime_cat['NIBRS Crime'].isnull())]\\\n",
    ".sort_values(by=['created_date_format'])"
   ]
  },
  {
   "cell_type": "code",
   "execution_count": 108,
   "metadata": {},
   "outputs": [
    {
     "data": {
      "text/html": [
       "<div>\n",
       "<style scoped>\n",
       "    .dataframe tbody tr th:only-of-type {\n",
       "        vertical-align: middle;\n",
       "    }\n",
       "\n",
       "    .dataframe tbody tr th {\n",
       "        vertical-align: top;\n",
       "    }\n",
       "\n",
       "    .dataframe thead th {\n",
       "        text-align: right;\n",
       "    }\n",
       "</style>\n",
       "<table border=\"1\" class=\"dataframe\">\n",
       "  <thead>\n",
       "    <tr style=\"text-align: right;\">\n",
       "      <th></th>\n",
       "      <th>Service Number ID</th>\n",
       "      <th>Date incident created</th>\n",
       "      <th>RMS Code</th>\n",
       "      <th>Criminal Justice Information Service Code</th>\n",
       "      <th>Penal Code</th>\n",
       "      <th>UCR Offense Name</th>\n",
       "      <th>UCR Offense Description</th>\n",
       "      <th>UCR Code</th>\n",
       "      <th>Offense Type</th>\n",
       "      <th>NIBRS Crime</th>\n",
       "      <th>NIBRS Crime Category</th>\n",
       "      <th>NIBRS Crime Against</th>\n",
       "      <th>NIBRS Code</th>\n",
       "      <th>NIBRS Group</th>\n",
       "      <th>NIBRS Type</th>\n",
       "      <th>created_date_format</th>\n",
       "    </tr>\n",
       "  </thead>\n",
       "  <tbody>\n",
       "    <tr>\n",
       "      <td>372766</td>\n",
       "      <td>000003-2017-03</td>\n",
       "      <td>2017-01-01 00:04:20.0000000</td>\n",
       "      <td>NA-99999999-L65</td>\n",
       "      <td>99999999</td>\n",
       "      <td>UCR</td>\n",
       "      <td>VANDALISM &amp; CRIM MISCHIEF</td>\n",
       "      <td>CRIMINAL MISCHIEF/VANDALISM</td>\n",
       "      <td>1400.0</td>\n",
       "      <td>PART2</td>\n",
       "      <td>DESTRUCTION/ DAMAGE/ VANDALISM OF PROPERTY</td>\n",
       "      <td>DESTRUCTION/ DAMAGE/ VANDALISM OF PROPERTY</td>\n",
       "      <td>PROPERTY</td>\n",
       "      <td>290</td>\n",
       "      <td>A</td>\n",
       "      <td>No Coded</td>\n",
       "      <td>2017-01-01 00:04:20</td>\n",
       "    </tr>\n",
       "    <tr>\n",
       "      <td>275666</td>\n",
       "      <td>000003-2017-02</td>\n",
       "      <td>2017-01-01 00:04:20.0000000</td>\n",
       "      <td>NA-99999999-L65</td>\n",
       "      <td>99999999</td>\n",
       "      <td>UCR</td>\n",
       "      <td>VANDALISM &amp; CRIM MISCHIEF</td>\n",
       "      <td>CRIMINAL MISCHIEF/VANDALISM</td>\n",
       "      <td>1400.0</td>\n",
       "      <td>PART2</td>\n",
       "      <td>DESTRUCTION/ DAMAGE/ VANDALISM OF PROPERTY</td>\n",
       "      <td>DESTRUCTION/ DAMAGE/ VANDALISM OF PROPERTY</td>\n",
       "      <td>PROPERTY</td>\n",
       "      <td>290</td>\n",
       "      <td>A</td>\n",
       "      <td>No Coded</td>\n",
       "      <td>2017-01-01 00:04:20</td>\n",
       "    </tr>\n",
       "    <tr>\n",
       "      <td>230534</td>\n",
       "      <td>000003-2017-01</td>\n",
       "      <td>2017-01-01 00:04:20.0000000</td>\n",
       "      <td>NA-99999999-L65</td>\n",
       "      <td>99999999</td>\n",
       "      <td>UCR</td>\n",
       "      <td>VANDALISM &amp; CRIM MISCHIEF</td>\n",
       "      <td>CRIMINAL MISCHIEF/VANDALISM</td>\n",
       "      <td>1400.0</td>\n",
       "      <td>PART2</td>\n",
       "      <td>DESTRUCTION/ DAMAGE/ VANDALISM OF PROPERTY</td>\n",
       "      <td>DESTRUCTION/ DAMAGE/ VANDALISM OF PROPERTY</td>\n",
       "      <td>PROPERTY</td>\n",
       "      <td>290</td>\n",
       "      <td>A</td>\n",
       "      <td>Coded</td>\n",
       "      <td>2017-01-01 00:04:20</td>\n",
       "    </tr>\n",
       "    <tr>\n",
       "      <td>406583</td>\n",
       "      <td>000004-2017-01</td>\n",
       "      <td>2017-01-01 00:08:21.0000000</td>\n",
       "      <td>MA-13990001-H1</td>\n",
       "      <td>13990001</td>\n",
       "      <td>PC 22.01(a)(1)</td>\n",
       "      <td>ASSAULT</td>\n",
       "      <td>ASSAULT</td>\n",
       "      <td>450.0</td>\n",
       "      <td>PART2</td>\n",
       "      <td>SIMPLE ASSAULT</td>\n",
       "      <td>ASSAULT OFFENSES</td>\n",
       "      <td>PERSON</td>\n",
       "      <td>13B</td>\n",
       "      <td>A</td>\n",
       "      <td>Coded</td>\n",
       "      <td>2017-01-01 00:08:21</td>\n",
       "    </tr>\n",
       "    <tr>\n",
       "      <td>231642</td>\n",
       "      <td>000016-2017-01</td>\n",
       "      <td>2017-01-01 00:36:58.0000000</td>\n",
       "      <td>NA-99999999-W4</td>\n",
       "      <td>99999999</td>\n",
       "      <td>No Offense</td>\n",
       "      <td>INJURED FIREARM</td>\n",
       "      <td>FIREARMS ACCIDENT</td>\n",
       "      <td>3600.0</td>\n",
       "      <td>NOT CODED</td>\n",
       "      <td>MISCELLANEOUS</td>\n",
       "      <td>MISCELLANEOUS</td>\n",
       "      <td>MISCELLANEOUS</td>\n",
       "      <td>999</td>\n",
       "      <td>C</td>\n",
       "      <td>999 - No Coded</td>\n",
       "      <td>2017-01-01 00:36:58</td>\n",
       "    </tr>\n",
       "    <tr>\n",
       "      <td>...</td>\n",
       "      <td>...</td>\n",
       "      <td>...</td>\n",
       "      <td>...</td>\n",
       "      <td>...</td>\n",
       "      <td>...</td>\n",
       "      <td>...</td>\n",
       "      <td>...</td>\n",
       "      <td>...</td>\n",
       "      <td>...</td>\n",
       "      <td>...</td>\n",
       "      <td>...</td>\n",
       "      <td>...</td>\n",
       "      <td>...</td>\n",
       "      <td>...</td>\n",
       "      <td>...</td>\n",
       "      <td>...</td>\n",
       "    </tr>\n",
       "    <tr>\n",
       "      <td>202997</td>\n",
       "      <td>030859-2018-01</td>\n",
       "      <td>2018-02-11 02:40:11.0000000</td>\n",
       "      <td>MC-99999999-NC54</td>\n",
       "      <td>99999999</td>\n",
       "      <td>PC 49.02</td>\n",
       "      <td>DRUNK &amp; DISORDERLY</td>\n",
       "      <td>DRUNK &amp; DISORDERLY</td>\n",
       "      <td>2300.0</td>\n",
       "      <td>PART2</td>\n",
       "      <td>PUBLIC INTOXICATION</td>\n",
       "      <td>PUBLIC INTOXICATION</td>\n",
       "      <td>SOCIETY</td>\n",
       "      <td>90E</td>\n",
       "      <td>B</td>\n",
       "      <td>90E - No Coded</td>\n",
       "      <td>2018-02-11 02:40:11</td>\n",
       "    </tr>\n",
       "    <tr>\n",
       "      <td>261523</td>\n",
       "      <td>030862-2018-01</td>\n",
       "      <td>2018-02-11 02:48:20.0000000</td>\n",
       "      <td>MB-54040009-R1</td>\n",
       "      <td>54040009</td>\n",
       "      <td>PC 49.04</td>\n",
       "      <td>DWI</td>\n",
       "      <td>DWI</td>\n",
       "      <td>2100.0</td>\n",
       "      <td>PART2</td>\n",
       "      <td>DUI</td>\n",
       "      <td>DRIVING UNDER THE INFLUENCE</td>\n",
       "      <td>SOCIETY</td>\n",
       "      <td>90D</td>\n",
       "      <td>B</td>\n",
       "      <td>90D - No Coded</td>\n",
       "      <td>2018-02-11 02:48:20</td>\n",
       "    </tr>\n",
       "    <tr>\n",
       "      <td>212494</td>\n",
       "      <td>030871-2018-01</td>\n",
       "      <td>2018-02-11 02:56:30.0000000</td>\n",
       "      <td>NA-99999999-X6</td>\n",
       "      <td>99999999</td>\n",
       "      <td>No Violation</td>\n",
       "      <td>FOUND</td>\n",
       "      <td>FOUND PROPERTY</td>\n",
       "      <td>4300.0</td>\n",
       "      <td>NOT CODED</td>\n",
       "      <td>MISCELLANEOUS</td>\n",
       "      <td>MISCELLANEOUS</td>\n",
       "      <td>MISCELLANEOUS</td>\n",
       "      <td>999</td>\n",
       "      <td>C</td>\n",
       "      <td>999 - No Coded</td>\n",
       "      <td>2018-02-11 02:56:30</td>\n",
       "    </tr>\n",
       "    <tr>\n",
       "      <td>198924</td>\n",
       "      <td>030870-2018-01</td>\n",
       "      <td>2018-02-11 02:56:30.0000000</td>\n",
       "      <td>F2-22990002-E6</td>\n",
       "      <td>22990002</td>\n",
       "      <td>PC 30.02(c)(2)</td>\n",
       "      <td>BURGLARY-RESIDENCE</td>\n",
       "      <td>BURGLARY</td>\n",
       "      <td>521.0</td>\n",
       "      <td>PART1</td>\n",
       "      <td>BURGLARY-RESIDENCE</td>\n",
       "      <td>BURGLARY/ BREAKING &amp; ENTERING</td>\n",
       "      <td>PROPERTY</td>\n",
       "      <td>220</td>\n",
       "      <td>A</td>\n",
       "      <td>Coded</td>\n",
       "      <td>2018-02-11 02:56:30</td>\n",
       "    </tr>\n",
       "    <tr>\n",
       "      <td>261328</td>\n",
       "      <td>030872-2018-01</td>\n",
       "      <td>2018-02-11 02:57:51.0000000</td>\n",
       "      <td>MC-99999999-NC54</td>\n",
       "      <td>99999999</td>\n",
       "      <td>PC 49.02</td>\n",
       "      <td>DRUNK &amp; DISORDERLY</td>\n",
       "      <td>DRUNK &amp; DISORDERLY</td>\n",
       "      <td>2300.0</td>\n",
       "      <td>PART2</td>\n",
       "      <td>PUBLIC INTOXICATION</td>\n",
       "      <td>PUBLIC INTOXICATION</td>\n",
       "      <td>SOCIETY</td>\n",
       "      <td>90E</td>\n",
       "      <td>B</td>\n",
       "      <td>90E - No Coded</td>\n",
       "      <td>2018-02-11 02:57:51</td>\n",
       "    </tr>\n",
       "  </tbody>\n",
       "</table>\n",
       "<p>105814 rows × 16 columns</p>\n",
       "</div>"
      ],
      "text/plain": [
       "       Service Number ID        Date incident created          RMS Code  \\\n",
       "372766    000003-2017-03  2017-01-01 00:04:20.0000000   NA-99999999-L65   \n",
       "275666    000003-2017-02  2017-01-01 00:04:20.0000000   NA-99999999-L65   \n",
       "230534    000003-2017-01  2017-01-01 00:04:20.0000000   NA-99999999-L65   \n",
       "406583    000004-2017-01  2017-01-01 00:08:21.0000000    MA-13990001-H1   \n",
       "231642    000016-2017-01  2017-01-01 00:36:58.0000000    NA-99999999-W4   \n",
       "...                  ...                          ...               ...   \n",
       "202997    030859-2018-01  2018-02-11 02:40:11.0000000  MC-99999999-NC54   \n",
       "261523    030862-2018-01  2018-02-11 02:48:20.0000000    MB-54040009-R1   \n",
       "212494    030871-2018-01  2018-02-11 02:56:30.0000000    NA-99999999-X6   \n",
       "198924    030870-2018-01  2018-02-11 02:56:30.0000000    F2-22990002-E6   \n",
       "261328    030872-2018-01  2018-02-11 02:57:51.0000000  MC-99999999-NC54   \n",
       "\n",
       "        Criminal Justice Information Service Code      Penal Code  \\\n",
       "372766                                   99999999             UCR   \n",
       "275666                                   99999999             UCR   \n",
       "230534                                   99999999             UCR   \n",
       "406583                                   13990001  PC 22.01(a)(1)   \n",
       "231642                                   99999999      No Offense   \n",
       "...                                           ...             ...   \n",
       "202997                                   99999999        PC 49.02   \n",
       "261523                                   54040009        PC 49.04   \n",
       "212494                                   99999999    No Violation   \n",
       "198924                                   22990002  PC 30.02(c)(2)   \n",
       "261328                                   99999999        PC 49.02   \n",
       "\n",
       "                 UCR Offense Name      UCR Offense Description   UCR Code  \\\n",
       "372766  VANDALISM & CRIM MISCHIEF  CRIMINAL MISCHIEF/VANDALISM     1400.0   \n",
       "275666  VANDALISM & CRIM MISCHIEF  CRIMINAL MISCHIEF/VANDALISM     1400.0   \n",
       "230534  VANDALISM & CRIM MISCHIEF  CRIMINAL MISCHIEF/VANDALISM     1400.0   \n",
       "406583                    ASSAULT                      ASSAULT      450.0   \n",
       "231642            INJURED FIREARM            FIREARMS ACCIDENT     3600.0   \n",
       "...                           ...                          ...        ...   \n",
       "202997         DRUNK & DISORDERLY           DRUNK & DISORDERLY     2300.0   \n",
       "261523                        DWI                          DWI     2100.0   \n",
       "212494                      FOUND               FOUND PROPERTY     4300.0   \n",
       "198924         BURGLARY-RESIDENCE                     BURGLARY      521.0   \n",
       "261328         DRUNK & DISORDERLY           DRUNK & DISORDERLY     2300.0   \n",
       "\n",
       "       Offense Type                                 NIBRS Crime  \\\n",
       "372766        PART2  DESTRUCTION/ DAMAGE/ VANDALISM OF PROPERTY   \n",
       "275666        PART2  DESTRUCTION/ DAMAGE/ VANDALISM OF PROPERTY   \n",
       "230534        PART2  DESTRUCTION/ DAMAGE/ VANDALISM OF PROPERTY   \n",
       "406583        PART2                              SIMPLE ASSAULT   \n",
       "231642    NOT CODED                               MISCELLANEOUS   \n",
       "...             ...                                         ...   \n",
       "202997        PART2                         PUBLIC INTOXICATION   \n",
       "261523        PART2                                         DUI   \n",
       "212494    NOT CODED                               MISCELLANEOUS   \n",
       "198924        PART1                          BURGLARY-RESIDENCE   \n",
       "261328        PART2                         PUBLIC INTOXICATION   \n",
       "\n",
       "                              NIBRS Crime Category NIBRS Crime Against  \\\n",
       "372766  DESTRUCTION/ DAMAGE/ VANDALISM OF PROPERTY            PROPERTY   \n",
       "275666  DESTRUCTION/ DAMAGE/ VANDALISM OF PROPERTY            PROPERTY   \n",
       "230534  DESTRUCTION/ DAMAGE/ VANDALISM OF PROPERTY            PROPERTY   \n",
       "406583                            ASSAULT OFFENSES              PERSON   \n",
       "231642                               MISCELLANEOUS       MISCELLANEOUS   \n",
       "...                                            ...                 ...   \n",
       "202997                         PUBLIC INTOXICATION             SOCIETY   \n",
       "261523                 DRIVING UNDER THE INFLUENCE             SOCIETY   \n",
       "212494                               MISCELLANEOUS       MISCELLANEOUS   \n",
       "198924               BURGLARY/ BREAKING & ENTERING            PROPERTY   \n",
       "261328                         PUBLIC INTOXICATION             SOCIETY   \n",
       "\n",
       "       NIBRS Code NIBRS Group      NIBRS Type created_date_format  \n",
       "372766        290           A        No Coded 2017-01-01 00:04:20  \n",
       "275666        290           A        No Coded 2017-01-01 00:04:20  \n",
       "230534        290           A           Coded 2017-01-01 00:04:20  \n",
       "406583        13B           A           Coded 2017-01-01 00:08:21  \n",
       "231642        999           C  999 - No Coded 2017-01-01 00:36:58  \n",
       "...           ...         ...             ...                 ...  \n",
       "202997        90E           B  90E - No Coded 2018-02-11 02:40:11  \n",
       "261523        90D           B  90D - No Coded 2018-02-11 02:48:20  \n",
       "212494        999           C  999 - No Coded 2018-02-11 02:56:30  \n",
       "198924        220           A           Coded 2018-02-11 02:56:30  \n",
       "261328        90E           B  90E - No Coded 2018-02-11 02:57:51  \n",
       "\n",
       "[105814 rows x 16 columns]"
      ]
     },
     "execution_count": 108,
     "metadata": {},
     "output_type": "execute_result"
    }
   ],
   "source": [
    "# Get the UCR records after 2017-01-01\n",
    "df_crime_cat[\\\n",
    "             (df_crime_cat['created_date_format']>='2017-01-01T00:00:00')\\\n",
    "             & (df_crime_cat['created_date_format']<='2018-02-11T03:00:00')\\\n",
    "             & (~df_crime_cat[' UCR Code'].isnull())]\\\n",
    ".sort_values(by=['created_date_format'])"
   ]
  },
  {
   "cell_type": "code",
   "execution_count": 112,
   "metadata": {},
   "outputs": [
    {
     "data": {
      "text/plain": [
       "<matplotlib.axes._subplots.AxesSubplot at 0x1fc20aa50>"
      ]
     },
     "execution_count": 112,
     "metadata": {},
     "output_type": "execute_result"
    },
    {
     "data": {
      "image/png": "[encoded data removed]",
      "text/plain": [
       "<Figure size 1080x720 with 1 Axes>"
      ]
     },
     "metadata": {
      "needs_background": "light"
     },
     "output_type": "display_data"
    }
   ],
   "source": [
    "# UCR Counts after 2017-01-01\n",
    "df_crime_cat[\\\n",
    "             (df_crime_cat['created_date_format']>='2017-01-01T00:00:00')\\\n",
    "             & (df_crime_cat['created_date_format']<='2018-03-11T03:00:00')\\\n",
    "             & (~df_crime_cat[' UCR Code'].isnull())]\\\n",
    ".groupby(df_crime_cat['created_date_format'].dt.normalize())['Service Number ID'].count()\\\n",
    ".plot(kind='area',figsize=(15,10))"
   ]
  },
  {
   "cell_type": "code",
   "execution_count": null,
   "metadata": {},
   "outputs": [],
   "source": []
  },
  {
   "cell_type": "code",
   "execution_count": null,
   "metadata": {},
   "outputs": [],
   "source": []
  },
  {
   "cell_type": "code",
   "execution_count": 100,
   "metadata": {},
   "outputs": [
    {
     "data": {
      "text/plain": [
       "NIBRS Crime Category\n",
       "MISCELLANEOUS                                 89912\n",
       "LARCENY/ THEFT OFFENSES                       85342\n",
       "DESTRUCTION/ DAMAGE/ VANDALISM OF PROPERTY    34531\n",
       "ASSAULT OFFENSES                              33171\n",
       "BURGLARY/ BREAKING & ENTERING                 31157\n",
       "MOTOR VEHICLE THEFT                           31033\n",
       "ROBBERY                                       15777\n",
       "PUBLIC INTOXICATION                           13479\n",
       "ALL OTHER OFFENSES                            12190\n",
       "TRAFFIC VIOLATION - HAZARDOUS                 10591\n",
       "DRUG/ NARCOTIC VIOLATIONS                      7261\n",
       "FRAUD OFFENSES                                 4868\n",
       "DRIVING UNDER THE INFLUENCE                    4192\n",
       "TRESPASS OF REAL PROPERTY                      3569\n",
       "FAMILY OFFENSES, NONVIOLENT                    2269\n",
       "COUNTERFEITING / FORGERY                       2197\n",
       "WEAPON LAW VIOLATIONS                          2185\n",
       "EMBEZZELMENT                                   1518\n",
       "TRAFFIC VIOLATION - NON HAZARDOUS               978\n",
       "DISORDERLY CONDUCT                              822\n",
       "ANIMAL OFFENSES                                 640\n",
       "ARSON                                           606\n",
       "HOMICIDE OFFENSES                               322\n",
       "PORNOGRAPHY/ OBSCENE MATERIAL                   144\n",
       "GAMBLING OFFENSES                                76\n",
       "KIDNAPPING/ ABDUCTION                            62\n",
       "EXTORTION/ BLACKMAIL                             31\n",
       "LIQUOR LAW VIOLATIONS                            10\n",
       "STOLEN PROPERTY OFFENSES                          8\n",
       "BRIBERY                                           8\n",
       "HUMAN TRAFFICKING                                 7\n",
       "SEX OFFENSES, FORCIBLE                            6\n",
       "PEEPING TOM                                       2\n",
       "Name: Service Number ID, dtype: int64"
      ]
     },
     "execution_count": 100,
     "metadata": {},
     "output_type": "execute_result"
    }
   ],
   "source": [
    "df[df['Offense Entered Year']>=2014]\\\n",
    ".groupby('NIBRS Crime Category')['Service Number ID']\\\n",
    ".count()\\\n",
    ".sort_values(ascending=False)"
   ]
  },
  {
   "cell_type": "code",
   "execution_count": 82,
   "metadata": {},
   "outputs": [
    {
     "data": {
      "text/plain": [
       "Offense Entered Year\n",
       "2014      4302\n",
       "2015      7186\n",
       "2016      7231\n",
       "2017     95000\n",
       "2018    120286\n",
       "2019    129874\n",
       "2020     43871\n",
       "Name: Service Number ID, dtype: int64"
      ]
     },
     "execution_count": 82,
     "metadata": {},
     "output_type": "execute_result"
    }
   ],
   "source": [
    "df.groupby('Offense Entered Year')['Service Number ID'].count()"
   ]
  },
  {
   "cell_type": "code",
   "execution_count": null,
   "metadata": {},
   "outputs": [],
   "source": []
  },
  {
   "cell_type": "code",
   "execution_count": null,
   "metadata": {},
   "outputs": [],
   "source": []
  },
  {
   "cell_type": "markdown",
   "metadata": {},
   "source": [
    "## Explore the Call (911) Problem field"
   ]
  },
  {
   "cell_type": "code",
   "execution_count": 69,
   "metadata": {},
   "outputs": [
    {
     "data": {
      "text/plain": [
       "Call (911) Problem\n",
       "58 - ROUTINE INVESTIGATION     51143\n",
       "09V - UUMV                     35354\n",
       "11V - BURG MOTOR VEH           35327\n",
       "6X - MAJOR DIST (VIOLENCE)     30974\n",
       "11R - BURG OF RES              17932\n",
       "                               ...  \n",
       "6F - FIRE WORKS DISTURBANCE        5\n",
       "PSE/11B - BURG OF BUS              4\n",
       "6X/01 WOMEN'S SHELTER DIST         3\n",
       "62 - PUBLIC SERVICE                2\n",
       "12N - BURGLAR ALARM NONDISP        1\n",
       "Name: Service Number ID, Length: 114, dtype: int64"
      ]
     },
     "execution_count": 69,
     "metadata": {},
     "output_type": "execute_result"
    }
   ],
   "source": [
    "df.groupby('Call (911) Problem')['Service Number ID'].count().sort_values(ascending=False)"
   ]
  },
  {
   "cell_type": "code",
   "execution_count": null,
   "metadata": {},
   "outputs": [],
   "source": []
  },
  {
   "cell_type": "code",
   "execution_count": null,
   "metadata": {},
   "outputs": [],
   "source": []
  },
  {
   "cell_type": "markdown",
   "metadata": {},
   "source": [
    "## Pull Badge Numbers and Names for Export"
   ]
  },
  {
   "cell_type": "code",
   "execution_count": null,
   "metadata": {},
   "outputs": [],
   "source": []
  },
  {
   "cell_type": "code",
   "execution_count": null,
   "metadata": {},
   "outputs": [],
   "source": []
  },
  {
   "cell_type": "code",
   "execution_count": null,
   "metadata": {},
   "outputs": [],
   "source": []
  }
 ],
 "metadata": {
  "kernelspec": {
   "display_name": "Python 3",
   "language": "python",
   "name": "python3"
  },
  "language_info": {
   "codemirror_mode": {
    "name": "ipython",
    "version": 3
   },
   "file_extension": ".py",
   "mimetype": "text/x-python",
   "name": "python",
   "nbconvert_exporter": "python",
   "pygments_lexer": "ipython3",
   "version": "3.7.4"
  }
 },
 "nbformat": 4,
 "nbformat_minor": 2
}
