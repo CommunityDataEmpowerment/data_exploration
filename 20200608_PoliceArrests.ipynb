{
 "cells": [
  {
   "cell_type": "code",
   "execution_count": 1,
   "metadata": {},
   "outputs": [],
   "source": [
    "import pandas as pd\n",
    "import matplotlib.pyplot as plt\n",
    "%matplotlib inline"
   ]
  },
  {
   "cell_type": "code",
   "execution_count": 2,
   "metadata": {},
   "outputs": [
    {
     "name": "stderr",
     "output_type": "stream",
     "text": [
      "/opt/anaconda3/lib/python3.7/site-packages/IPython/core/interactiveshell.py:3058: DtypeWarning: Columns (14,30,45,46) have mixed types. Specify dtype option on import or set low_memory=False.\n",
      "  interactivity=interactivity, compiler=compiler, result=result)\n"
     ]
    }
   ],
   "source": [
    "df = pd.read_csv('../../Dallas/data/DPD/20200608_Police_Arrests.csv')"
   ]
  },
  {
   "cell_type": "code",
   "execution_count": 3,
   "metadata": {},
   "outputs": [
    {
     "data": {
      "text/plain": [
       "(85670, 65)"
      ]
     },
     "execution_count": 3,
     "metadata": {},
     "output_type": "execute_result"
    }
   ],
   "source": [
    "df.shape"
   ]
  },
  {
   "cell_type": "code",
   "execution_count": 4,
   "metadata": {},
   "outputs": [
    {
     "data": {
      "text/html": [
       "<div>\n",
       "<style scoped>\n",
       "    .dataframe tbody tr th:only-of-type {\n",
       "        vertical-align: middle;\n",
       "    }\n",
       "\n",
       "    .dataframe tbody tr th {\n",
       "        vertical-align: top;\n",
       "    }\n",
       "\n",
       "    .dataframe thead th {\n",
       "        text-align: right;\n",
       "    }\n",
       "</style>\n",
       "<table border=\"1\" class=\"dataframe\">\n",
       "  <thead>\n",
       "    <tr style=\"text-align: right;\">\n",
       "      <th></th>\n",
       "      <th>IncidentNum</th>\n",
       "      <th>ArrestYr</th>\n",
       "      <th>ArrestNumber</th>\n",
       "      <th>ArArrestDate</th>\n",
       "      <th>ArArrestTime</th>\n",
       "      <th>ArBkDate</th>\n",
       "      <th>ArLAddress</th>\n",
       "      <th>ArLApt</th>\n",
       "      <th>ArLZip</th>\n",
       "      <th>ArLCity</th>\n",
       "      <th>...</th>\n",
       "      <th>TatooComment</th>\n",
       "      <th>Occupation</th>\n",
       "      <th>JobSchStatus</th>\n",
       "      <th>Employer</th>\n",
       "      <th>Drug</th>\n",
       "      <th>DrugRelated</th>\n",
       "      <th>DrugType</th>\n",
       "      <th>ClothingWorn</th>\n",
       "      <th>Expunged</th>\n",
       "      <th>UpZDate</th>\n",
       "    </tr>\n",
       "  </thead>\n",
       "  <tbody>\n",
       "    <tr>\n",
       "      <td>0</td>\n",
       "      <td>052503-2018</td>\n",
       "      <td>2018</td>\n",
       "      <td>18-008234</td>\n",
       "      <td>03/12/2018 12:00:00 AM</td>\n",
       "      <td>12:02</td>\n",
       "      <td>03/12/2018 01:28:34 PM</td>\n",
       "      <td>2809 E LEDBETTER DR</td>\n",
       "      <td>NaN</td>\n",
       "      <td>75216.0</td>\n",
       "      <td>DALLAS</td>\n",
       "      <td>...</td>\n",
       "      <td>NaN</td>\n",
       "      <td>NaN</td>\n",
       "      <td>NaN</td>\n",
       "      <td>NaN</td>\n",
       "      <td>NaN</td>\n",
       "      <td>No</td>\n",
       "      <td>NaN</td>\n",
       "      <td>WHITE SHIRT, BLUE JEANS, GRAY HOODIE, TAN SHOES</td>\n",
       "      <td>NaN</td>\n",
       "      <td>2018-03-14 12:40:08</td>\n",
       "    </tr>\n",
       "    <tr>\n",
       "      <td>1</td>\n",
       "      <td>055105-2016</td>\n",
       "      <td>2016</td>\n",
       "      <td>16-009843</td>\n",
       "      <td>03/06/2016 12:00:00 AM</td>\n",
       "      <td>22:13</td>\n",
       "      <td>03/06/2016 11:42:15 PM</td>\n",
       "      <td>6500 STARKEY ST</td>\n",
       "      <td>NaN</td>\n",
       "      <td>75232.0</td>\n",
       "      <td>DALLAS</td>\n",
       "      <td>...</td>\n",
       "      <td>NaN</td>\n",
       "      <td>NaN</td>\n",
       "      <td>NaN</td>\n",
       "      <td>NaN</td>\n",
       "      <td>NaN</td>\n",
       "      <td>No</td>\n",
       "      <td>NaN</td>\n",
       "      <td>Shirt: BLACK T SHIRT Jacket: GREY AND BLACK HO...</td>\n",
       "      <td>NaN</td>\n",
       "      <td>2016-03-24 11:36:19</td>\n",
       "    </tr>\n",
       "    <tr>\n",
       "      <td>2</td>\n",
       "      <td>095586-2019</td>\n",
       "      <td>2019</td>\n",
       "      <td>19-016816</td>\n",
       "      <td>05/14/2019 12:00:00 AM</td>\n",
       "      <td>01:25</td>\n",
       "      <td>05/14/2019 04:06:27 AM</td>\n",
       "      <td>9731 TREVOR DR</td>\n",
       "      <td>NaN</td>\n",
       "      <td>75243.0</td>\n",
       "      <td>DALLAS</td>\n",
       "      <td>...</td>\n",
       "      <td>NaN</td>\n",
       "      <td>NaN</td>\n",
       "      <td>NaN</td>\n",
       "      <td>NaN</td>\n",
       "      <td>NaN</td>\n",
       "      <td>Uknown</td>\n",
       "      <td>NaN</td>\n",
       "      <td>WHITE TSHIRT, BLACK SWEATPANTS, BLACK SOCKS, N...</td>\n",
       "      <td>NaN</td>\n",
       "      <td>2019-05-14 11:55:41</td>\n",
       "    </tr>\n",
       "    <tr>\n",
       "      <td>3</td>\n",
       "      <td>139944-2017</td>\n",
       "      <td>2017</td>\n",
       "      <td>17-025468</td>\n",
       "      <td>06/20/2017 12:00:00 AM</td>\n",
       "      <td>19:00</td>\n",
       "      <td>06/20/2017 08:27:02 PM</td>\n",
       "      <td>4002 MARSHALL ST</td>\n",
       "      <td>NaN</td>\n",
       "      <td>75210.0</td>\n",
       "      <td>DALLAS</td>\n",
       "      <td>...</td>\n",
       "      <td>NaN</td>\n",
       "      <td>NaN</td>\n",
       "      <td>NaN</td>\n",
       "      <td>NaN</td>\n",
       "      <td>NaN</td>\n",
       "      <td>No</td>\n",
       "      <td>NaN</td>\n",
       "      <td>Shirt: GREEN SHIRT Jacket: N/A Pants: CAMO PAN...</td>\n",
       "      <td>NaN</td>\n",
       "      <td>2017-06-22 13:07:30</td>\n",
       "    </tr>\n",
       "    <tr>\n",
       "      <td>4</td>\n",
       "      <td>224251-2017</td>\n",
       "      <td>2017</td>\n",
       "      <td>17-040194</td>\n",
       "      <td>10/01/2017 12:00:00 AM</td>\n",
       "      <td>03:13</td>\n",
       "      <td>10/01/2017 07:12:46 AM</td>\n",
       "      <td>800 S ZANG BLVD</td>\n",
       "      <td>NaN</td>\n",
       "      <td>75208.0</td>\n",
       "      <td>DALLAS</td>\n",
       "      <td>...</td>\n",
       "      <td>NaN</td>\n",
       "      <td>NaN</td>\n",
       "      <td>NaN</td>\n",
       "      <td>NaN</td>\n",
       "      <td>NaN</td>\n",
       "      <td>NaN</td>\n",
       "      <td>NaN</td>\n",
       "      <td>Shirt: BLUE Jacket: NONE Pants: BLUE JEANS Sho...</td>\n",
       "      <td>NaN</td>\n",
       "      <td>2017-10-03 13:26:55</td>\n",
       "    </tr>\n",
       "  </tbody>\n",
       "</table>\n",
       "<p>5 rows × 65 columns</p>\n",
       "</div>"
      ],
      "text/plain": [
       "   IncidentNum  ArrestYr ArrestNumber            ArArrestDate ArArrestTime  \\\n",
       "0  052503-2018      2018    18-008234  03/12/2018 12:00:00 AM        12:02   \n",
       "1  055105-2016      2016    16-009843  03/06/2016 12:00:00 AM        22:13   \n",
       "2  095586-2019      2019    19-016816  05/14/2019 12:00:00 AM        01:25   \n",
       "3  139944-2017      2017    17-025468  06/20/2017 12:00:00 AM        19:00   \n",
       "4  224251-2017      2017    17-040194  10/01/2017 12:00:00 AM        03:13   \n",
       "\n",
       "                 ArBkDate           ArLAddress ArLApt   ArLZip ArLCity  ...  \\\n",
       "0  03/12/2018 01:28:34 PM  2809 E LEDBETTER DR    NaN  75216.0  DALLAS  ...   \n",
       "1  03/06/2016 11:42:15 PM      6500 STARKEY ST    NaN  75232.0  DALLAS  ...   \n",
       "2  05/14/2019 04:06:27 AM       9731 TREVOR DR    NaN  75243.0  DALLAS  ...   \n",
       "3  06/20/2017 08:27:02 PM     4002 MARSHALL ST    NaN  75210.0  DALLAS  ...   \n",
       "4  10/01/2017 07:12:46 AM      800 S ZANG BLVD    NaN  75208.0  DALLAS  ...   \n",
       "\n",
       "  TatooComment Occupation  JobSchStatus  Employer Drug  DrugRelated DrugType  \\\n",
       "0          NaN        NaN           NaN       NaN  NaN           No      NaN   \n",
       "1          NaN        NaN           NaN       NaN  NaN           No      NaN   \n",
       "2          NaN        NaN           NaN       NaN  NaN       Uknown      NaN   \n",
       "3          NaN        NaN           NaN       NaN  NaN           No      NaN   \n",
       "4          NaN        NaN           NaN       NaN  NaN          NaN      NaN   \n",
       "\n",
       "                                        ClothingWorn Expunged  \\\n",
       "0    WHITE SHIRT, BLUE JEANS, GRAY HOODIE, TAN SHOES      NaN   \n",
       "1  Shirt: BLACK T SHIRT Jacket: GREY AND BLACK HO...      NaN   \n",
       "2  WHITE TSHIRT, BLACK SWEATPANTS, BLACK SOCKS, N...      NaN   \n",
       "3  Shirt: GREEN SHIRT Jacket: N/A Pants: CAMO PAN...      NaN   \n",
       "4  Shirt: BLUE Jacket: NONE Pants: BLUE JEANS Sho...      NaN   \n",
       "\n",
       "               UpZDate  \n",
       "0  2018-03-14 12:40:08  \n",
       "1  2016-03-24 11:36:19  \n",
       "2  2019-05-14 11:55:41  \n",
       "3  2017-06-22 13:07:30  \n",
       "4  2017-10-03 13:26:55  \n",
       "\n",
       "[5 rows x 65 columns]"
      ]
     },
     "execution_count": 4,
     "metadata": {},
     "output_type": "execute_result"
    }
   ],
   "source": [
    "df.head()"
   ]
  },
  {
   "cell_type": "markdown",
   "metadata": {},
   "source": [
    "## grab the NIBRS Categories and counts\n"
   ]
  },
  {
   "cell_type": "code",
   "execution_count": 5,
   "metadata": {},
   "outputs": [
    {
     "data": {
      "text/plain": [
       "Index(['IncidentNum', 'ArrestYr', 'ArrestNumber', 'ArArrestDate',\n",
       "       'ArArrestTime', 'ArBkDate', 'ArLAddress', 'ArLApt', 'ArLZip', 'ArLCity',\n",
       "       'ArState', 'ArLCounty', 'ArLRA', 'ArLBeat', 'ArLDistrict', 'ArLSector',\n",
       "       'ArADOW', 'ArPremises', 'CFS_Number', 'ArOfcr1', 'ArOfcr2',\n",
       "       'Transport1', 'Transport2', 'Transport3', 'Search1', 'ArAction',\n",
       "       'ArWeapon', 'ArOSR', 'ArResisted', 'ArCurrLoc', 'ArCond', 'ArMedFlag',\n",
       "       'ArMedLoc', 'ArOpComm', 'ArresteeName', 'NickName', 'AliasName',\n",
       "       'BirthPlace', 'Age', 'AgeAtArrestTime', 'HAddress', 'HApt', 'HZIP',\n",
       "       'HCity', 'HState', 'HRA', 'HBeat', 'Height', 'Weight', 'Hair', 'Eyes',\n",
       "       'Race', 'Ethnic', 'Sex', 'Tatoo', 'TatooComment', 'Occupation',\n",
       "       'JobSchStatus', 'Employer', 'Drug', 'DrugRelated', 'DrugType',\n",
       "       'ClothingWorn', 'Expunged', 'UpZDate'],\n",
       "      dtype='object')"
      ]
     },
     "execution_count": 5,
     "metadata": {},
     "output_type": "execute_result"
    }
   ],
   "source": [
    "df.columns"
   ]
  },
  {
   "cell_type": "code",
   "execution_count": 9,
   "metadata": {},
   "outputs": [
    {
     "data": {
      "text/plain": [
       "str"
      ]
     },
     "execution_count": 9,
     "metadata": {},
     "output_type": "execute_result"
    }
   ],
   "source": [
    "type(df['ArArrestDate'][0])"
   ]
  },
  {
   "cell_type": "code",
   "execution_count": 10,
   "metadata": {},
   "outputs": [],
   "source": [
    "df['arrest_date'] = pd.to_datetime(df['ArArrestDate'])"
   ]
  },
  {
   "cell_type": "code",
   "execution_count": 12,
   "metadata": {},
   "outputs": [],
   "source": [
    "# look at arrest dates between 1 June 2020 and 2 June 2020 for the bridge arrests\n",
    "bridge_arr = df[(df['arrest_date'] >= '2020-06-01T00:00:00') & (df['arrest_date']<= '2020-06-02T00:00:00')]"
   ]
  },
  {
   "cell_type": "code",
   "execution_count": 13,
   "metadata": {},
   "outputs": [
    {
     "data": {
      "text/plain": [
       "Index(['IncidentNum', 'ArrestYr', 'ArrestNumber', 'ArArrestDate',\n",
       "       'ArArrestTime', 'ArBkDate', 'ArLAddress', 'ArLApt', 'ArLZip', 'ArLCity',\n",
       "       'ArState', 'ArLCounty', 'ArLRA', 'ArLBeat', 'ArLDistrict', 'ArLSector',\n",
       "       'ArADOW', 'ArPremises', 'CFS_Number', 'ArOfcr1', 'ArOfcr2',\n",
       "       'Transport1', 'Transport2', 'Transport3', 'Search1', 'ArAction',\n",
       "       'ArWeapon', 'ArOSR', 'ArResisted', 'ArCurrLoc', 'ArCond', 'ArMedFlag',\n",
       "       'ArMedLoc', 'ArOpComm', 'ArresteeName', 'NickName', 'AliasName',\n",
       "       'BirthPlace', 'Age', 'AgeAtArrestTime', 'HAddress', 'HApt', 'HZIP',\n",
       "       'HCity', 'HState', 'HRA', 'HBeat', 'Height', 'Weight', 'Hair', 'Eyes',\n",
       "       'Race', 'Ethnic', 'Sex', 'Tatoo', 'TatooComment', 'Occupation',\n",
       "       'JobSchStatus', 'Employer', 'Drug', 'DrugRelated', 'DrugType',\n",
       "       'ClothingWorn', 'Expunged', 'UpZDate', 'arrest_date'],\n",
       "      dtype='object')"
      ]
     },
     "execution_count": 13,
     "metadata": {},
     "output_type": "execute_result"
    }
   ],
   "source": [
    "bridge_arr.columns"
   ]
  },
  {
   "cell_type": "code",
   "execution_count": 15,
   "metadata": {},
   "outputs": [
    {
     "data": {
      "text/plain": [
       "ArLDistrict\n",
       "2.0      4\n",
       "14.0     1\n",
       "1        1\n",
       "10       3\n",
       "11       2\n",
       "12       3\n",
       "13       2\n",
       "14      10\n",
       "2       16\n",
       "3        1\n",
       "4        5\n",
       "5        5\n",
       "6        7\n",
       "7        6\n",
       "8        3\n",
       "9        1\n",
       "Name: IncidentNum, dtype: int64"
      ]
     },
     "execution_count": 15,
     "metadata": {},
     "output_type": "execute_result"
    }
   ],
   "source": [
    "bridge_arr.groupby('ArLDistrict')['IncidentNum'].count()"
   ]
  },
  {
   "cell_type": "code",
   "execution_count": 33,
   "metadata": {},
   "outputs": [],
   "source": [
    "bridge_incident = bridge_arr.IncidentNum.to_list()"
   ]
  },
  {
   "cell_type": "code",
   "execution_count": 35,
   "metadata": {},
   "outputs": [],
   "source": [
    "in_list = '\",\"'.join(bridge_incident)"
   ]
  },
  {
   "cell_type": "code",
   "execution_count": 30,
   "metadata": {},
   "outputs": [
    {
     "ename": "AttributeError",
     "evalue": "'list' object has no attribute 'map'",
     "output_type": "error",
     "traceback": [
      "\u001b[0;31m---------------------------------------------------------------------------\u001b[0m",
      "\u001b[0;31mAttributeError\u001b[0m                            Traceback (most recent call last)",
      "\u001b[0;32m<ipython-input-30-06df4caf4955>\u001b[0m in \u001b[0;36m<module>\u001b[0;34m\u001b[0m\n\u001b[0;32m----> 1\u001b[0;31m \u001b[0mbridge_incident\u001b[0m \u001b[0;34m=\u001b[0m \u001b[0mbridge_incident\u001b[0m\u001b[0;34m.\u001b[0m\u001b[0mmap\u001b[0m\u001b[0;34m(\u001b[0m\u001b[0;32mlambda\u001b[0m \u001b[0mx\u001b[0m\u001b[0;34m:\u001b[0m\u001b[0mstr\u001b[0m\u001b[0;34m(\u001b[0m\u001b[0mx\u001b[0m\u001b[0;34m)\u001b[0m\u001b[0;34m)\u001b[0m\u001b[0;34m\u001b[0m\u001b[0;34m\u001b[0m\u001b[0m\n\u001b[0m",
      "\u001b[0;31mAttributeError\u001b[0m: 'list' object has no attribute 'map'"
     ]
    }
   ],
   "source": [
    "bridge_incident = bridge_incident.map(lambda x:str(x))"
   ]
  },
  {
   "cell_type": "code",
   "execution_count": null,
   "metadata": {},
   "outputs": [],
   "source": []
  },
  {
   "cell_type": "code",
   "execution_count": 17,
   "metadata": {},
   "outputs": [],
   "source": [
    "import requests"
   ]
  },
  {
   "cell_type": "code",
   "execution_count": 20,
   "metadata": {},
   "outputs": [],
   "source": [
    "url = 'https://www.dallasopendata.com/resource/qv6i-rri7.json?'"
   ]
  },
  {
   "cell_type": "code",
   "execution_count": 38,
   "metadata": {},
   "outputs": [],
   "source": [
    "select = 'incidentnum,division,nibrs_crime,nibrs_crime_category'"
   ]
  },
  {
   "cell_type": "code",
   "execution_count": 44,
   "metadata": {},
   "outputs": [],
   "source": [
    "where = f'incidentnum in(\"{in_list}\") AND (division=\"CENTRAL\" OR division = \"Central\")'"
   ]
  },
  {
   "cell_type": "code",
   "execution_count": 40,
   "metadata": {},
   "outputs": [],
   "source": [
    "r = requests.get(url + '$select=' + select + '&$where=' + where)"
   ]
  },
  {
   "cell_type": "code",
   "execution_count": 41,
   "metadata": {},
   "outputs": [
    {
     "data": {
      "text/plain": [
       "[{'incidentnum': '096314-2020',\n",
       "  'division': 'Central',\n",
       "  'nibrs_crime': 'ALL OTHER OFFENSES',\n",
       "  'nibrs_crime_category': 'ALL OTHER OFFENSES'},\n",
       " {'incidentnum': '096361-2020',\n",
       "  'division': 'Central',\n",
       "  'nibrs_crime': 'ALL OTHER OFFENSES',\n",
       "  'nibrs_crime_category': 'ALL OTHER OFFENSES'},\n",
       " {'incidentnum': '096490-2020',\n",
       "  'division': 'North Central',\n",
       "  'nibrs_crime': 'PUBLIC INTOXICATION',\n",
       "  'nibrs_crime_category': 'PUBLIC INTOXICATION'},\n",
       " {'incidentnum': '096491-2020',\n",
       "  'division': 'South Central',\n",
       "  'nibrs_crime': 'DUI',\n",
       "  'nibrs_crime_category': 'DRIVING UNDER THE INFLUENCE'},\n",
       " {'incidentnum': '096499-2020',\n",
       "  'division': 'NorthWest',\n",
       "  'nibrs_crime': 'DUI',\n",
       "  'nibrs_crime_category': 'DRIVING UNDER THE INFLUENCE'},\n",
       " {'incidentnum': '096499-2020',\n",
       "  'division': 'NorthWest',\n",
       "  'nibrs_crime': 'MISCELLANEOUS',\n",
       "  'nibrs_crime_category': 'MISCELLANEOUS'},\n",
       " {'incidentnum': '096505-2020',\n",
       "  'division': 'SouthWest',\n",
       "  'nibrs_crime': 'MISCELLANEOUS',\n",
       "  'nibrs_crime_category': 'MISCELLANEOUS'},\n",
       " {'incidentnum': '096510-2020',\n",
       "  'division': 'South Central',\n",
       "  'nibrs_crime': 'PUBLIC INTOXICATION',\n",
       "  'nibrs_crime_category': 'PUBLIC INTOXICATION'},\n",
       " {'incidentnum': '096524-2020',\n",
       "  'division': 'NorthWest',\n",
       "  'nibrs_crime': 'DUI',\n",
       "  'nibrs_crime_category': 'DRIVING UNDER THE INFLUENCE'},\n",
       " {'incidentnum': '096524-2020',\n",
       "  'division': 'NorthWest',\n",
       "  'nibrs_crime': 'DUI',\n",
       "  'nibrs_crime_category': 'DRIVING UNDER THE INFLUENCE'},\n",
       " {'incidentnum': '096602-2020',\n",
       "  'division': 'North Central',\n",
       "  'nibrs_crime': 'PUBLIC INTOXICATION',\n",
       "  'nibrs_crime_category': 'PUBLIC INTOXICATION'},\n",
       " {'incidentnum': '096606-2020',\n",
       "  'division': 'North Central',\n",
       "  'nibrs_crime': 'MISCELLANEOUS',\n",
       "  'nibrs_crime_category': 'MISCELLANEOUS'},\n",
       " {'incidentnum': '096610-2020',\n",
       "  'division': 'SouthEast',\n",
       "  'nibrs_crime': 'MISCELLANEOUS',\n",
       "  'nibrs_crime_category': 'MISCELLANEOUS'},\n",
       " {'incidentnum': '096614-2020',\n",
       "  'division': 'Central',\n",
       "  'nibrs_crime': 'PUBLIC INTOXICATION',\n",
       "  'nibrs_crime_category': 'PUBLIC INTOXICATION'},\n",
       " {'incidentnum': '096648-2020',\n",
       "  'division': 'SouthEast',\n",
       "  'nibrs_crime': 'ALL OTHER OFFENSES',\n",
       "  'nibrs_crime_category': 'ALL OTHER OFFENSES'},\n",
       " {'incidentnum': '096657-2020',\n",
       "  'division': 'CENTRAL',\n",
       "  'nibrs_crime': 'UUMV',\n",
       "  'nibrs_crime_category': 'MOTOR VEHICLE THEFT'},\n",
       " {'incidentnum': '096664-2020',\n",
       "  'division': 'NorthEast',\n",
       "  'nibrs_crime': 'MISCELLANEOUS',\n",
       "  'nibrs_crime_category': 'MISCELLANEOUS'},\n",
       " {'incidentnum': '096693-2020',\n",
       "  'division': 'NORTHEAST',\n",
       "  'nibrs_crime': 'DRUG/ NARCOTIC VIOLATIONS',\n",
       "  'nibrs_crime_category': 'DRUG/ NARCOTIC VIOLATIONS'},\n",
       " {'incidentnum': '096769-2020',\n",
       "  'division': 'South Central',\n",
       "  'nibrs_crime': 'MISCELLANEOUS',\n",
       "  'nibrs_crime_category': 'MISCELLANEOUS'},\n",
       " {'incidentnum': '096841-2020',\n",
       "  'division': 'NorthEast',\n",
       "  'nibrs_crime': 'MISCELLANEOUS',\n",
       "  'nibrs_crime_category': 'MISCELLANEOUS'},\n",
       " {'incidentnum': '096888-2020',\n",
       "  'division': 'Central',\n",
       "  'nibrs_crime': 'PUBLIC INTOXICATION',\n",
       "  'nibrs_crime_category': 'PUBLIC INTOXICATION'},\n",
       " {'incidentnum': '096899-2020',\n",
       "  'division': 'Central',\n",
       "  'nibrs_crime': 'PUBLIC INTOXICATION',\n",
       "  'nibrs_crime_category': 'PUBLIC INTOXICATION'},\n",
       " {'incidentnum': '096899-2020',\n",
       "  'division': 'Central',\n",
       "  'nibrs_crime': 'MISCELLANEOUS',\n",
       "  'nibrs_crime_category': 'MISCELLANEOUS'},\n",
       " {'incidentnum': '096912-2020',\n",
       "  'division': 'South Central',\n",
       "  'nibrs_crime': 'MISCELLANEOUS',\n",
       "  'nibrs_crime_category': 'MISCELLANEOUS'},\n",
       " {'incidentnum': '096963-2020',\n",
       "  'division': 'NORTHEAST',\n",
       "  'nibrs_crime': 'SIMPLE ASSAULT',\n",
       "  'nibrs_crime_category': 'ASSAULT OFFENSES'},\n",
       " {'incidentnum': '096973-2020',\n",
       "  'division': 'North Central',\n",
       "  'nibrs_crime': 'PUBLIC INTOXICATION',\n",
       "  'nibrs_crime_category': 'PUBLIC INTOXICATION'},\n",
       " {'incidentnum': '097004-2020',\n",
       "  'division': 'NorthWest',\n",
       "  'nibrs_crime': 'MISCELLANEOUS',\n",
       "  'nibrs_crime_category': 'MISCELLANEOUS'},\n",
       " {'incidentnum': '097020-2020',\n",
       "  'division': 'SouthWest',\n",
       "  'nibrs_crime': 'DUI',\n",
       "  'nibrs_crime_category': 'DRIVING UNDER THE INFLUENCE'},\n",
       " {'incidentnum': '097045-2020',\n",
       "  'division': 'Central',\n",
       "  'nibrs_crime': 'MISCELLANEOUS',\n",
       "  'nibrs_crime_category': 'MISCELLANEOUS'},\n",
       " {'incidentnum': '097076-2020',\n",
       "  'division': 'SouthEast',\n",
       "  'nibrs_crime': 'MISCELLANEOUS',\n",
       "  'nibrs_crime_category': 'MISCELLANEOUS'},\n",
       " {'incidentnum': '097078-2020',\n",
       "  'division': 'SOUTH CENTRAL',\n",
       "  'nibrs_crime': 'DRUG/ NARCOTIC VIOLATIONS',\n",
       "  'nibrs_crime_category': 'DRUG/ NARCOTIC VIOLATIONS'},\n",
       " {'incidentnum': '097078-2020',\n",
       "  'division': 'SOUTH CENTRAL',\n",
       "  'nibrs_crime': 'DUI',\n",
       "  'nibrs_crime_category': 'DRIVING UNDER THE INFLUENCE'},\n",
       " {'incidentnum': '097079-2020',\n",
       "  'division': 'SOUTHEAST',\n",
       "  'nibrs_crime': 'THEFT FROM MOTOR VEHICLE',\n",
       "  'nibrs_crime_category': 'LARCENY/ THEFT OFFENSES'},\n",
       " {'incidentnum': '097079-2020',\n",
       "  'division': 'SOUTHEAST',\n",
       "  'nibrs_crime': 'THEFT FROM MOTOR VEHICLE',\n",
       "  'nibrs_crime_category': 'LARCENY/ THEFT OFFENSES'},\n",
       " {'incidentnum': '097079-2020',\n",
       "  'division': 'SOUTHEAST',\n",
       "  'nibrs_crime': 'THEFT FROM MOTOR VEHICLE',\n",
       "  'nibrs_crime_category': 'LARCENY/ THEFT OFFENSES'},\n",
       " {'incidentnum': '097079-2020',\n",
       "  'division': 'SOUTHEAST',\n",
       "  'nibrs_crime': 'THEFT FROM MOTOR VEHICLE',\n",
       "  'nibrs_crime_category': 'LARCENY/ THEFT OFFENSES'},\n",
       " {'incidentnum': '097079-2020',\n",
       "  'division': 'SOUTHEAST',\n",
       "  'nibrs_crime': 'THEFT FROM MOTOR VEHICLE',\n",
       "  'nibrs_crime_category': 'LARCENY/ THEFT OFFENSES'},\n",
       " {'incidentnum': '097092-2020',\n",
       "  'division': 'SOUTHWEST',\n",
       "  'nibrs_crime': 'DISORDERLY CONDUCT',\n",
       "  'nibrs_crime_category': 'DISORDERLY CONDUCT'},\n",
       " {'incidentnum': '097092-2020',\n",
       "  'division': 'SOUTHWEST',\n",
       "  'nibrs_crime': 'WEAPON LAW VIOLATIONS',\n",
       "  'nibrs_crime_category': 'WEAPON LAW VIOLATIONS'},\n",
       " {'incidentnum': '097094-2020',\n",
       "  'division': 'Central',\n",
       "  'nibrs_crime': 'MISCELLANEOUS',\n",
       "  'nibrs_crime_category': 'MISCELLANEOUS'},\n",
       " {'incidentnum': '097103-2020',\n",
       "  'division': 'SOUTHEAST',\n",
       "  'nibrs_crime': 'AGG ASSAULT - NFV',\n",
       "  'nibrs_crime_category': 'ASSAULT OFFENSES'},\n",
       " {'incidentnum': '097103-2020',\n",
       "  'division': 'SOUTHEAST',\n",
       "  'nibrs_crime': 'AGG ASSAULT - NFV',\n",
       "  'nibrs_crime_category': 'ASSAULT OFFENSES'},\n",
       " {'incidentnum': '097103-2020',\n",
       "  'division': 'SOUTHEAST',\n",
       "  'nibrs_crime': 'AGG ASSAULT - NFV',\n",
       "  'nibrs_crime_category': 'ASSAULT OFFENSES'},\n",
       " {'incidentnum': '097119-2020',\n",
       "  'division': 'Central',\n",
       "  'nibrs_crime': 'MISCELLANEOUS',\n",
       "  'nibrs_crime_category': 'MISCELLANEOUS'},\n",
       " {'incidentnum': '097156-2020',\n",
       "  'division': 'NorthWest',\n",
       "  'nibrs_crime': 'PUBLIC INTOXICATION',\n",
       "  'nibrs_crime_category': 'PUBLIC INTOXICATION'},\n",
       " {'incidentnum': '097180-2020',\n",
       "  'division': 'South Central',\n",
       "  'nibrs_crime': 'MISCELLANEOUS',\n",
       "  'nibrs_crime_category': 'MISCELLANEOUS'},\n",
       " {'incidentnum': '097194-2020',\n",
       "  'division': 'NORTHWEST',\n",
       "  'nibrs_crime': 'BURGLARY-BUSINESS',\n",
       "  'nibrs_crime_category': 'BURGLARY/ BREAKING & ENTERING'},\n",
       " {'incidentnum': '097202-2020',\n",
       "  'division': 'NORTHWEST',\n",
       "  'nibrs_crime': 'BURGLARY-BUSINESS',\n",
       "  'nibrs_crime_category': 'BURGLARY/ BREAKING & ENTERING'},\n",
       " {'incidentnum': '097215-2020',\n",
       "  'division': 'North Central',\n",
       "  'nibrs_crime': 'DUI',\n",
       "  'nibrs_crime_category': 'DRIVING UNDER THE INFLUENCE'},\n",
       " {'incidentnum': '097313-2020',\n",
       "  'division': 'South Central',\n",
       "  'nibrs_crime': 'MISCELLANEOUS',\n",
       "  'nibrs_crime_category': 'MISCELLANEOUS'},\n",
       " {'incidentnum': '097367-2020',\n",
       "  'division': 'CENTRAL',\n",
       "  'nibrs_crime': 'DESTRUCTION/ DAMAGE/ VANDALISM OF PROPERTY',\n",
       "  'nibrs_crime_category': 'DESTRUCTION/ DAMAGE/ VANDALISM OF PROPERTY'},\n",
       " {'incidentnum': '097386-2020',\n",
       "  'division': 'North Central',\n",
       "  'nibrs_crime': 'PUBLIC INTOXICATION',\n",
       "  'nibrs_crime_category': 'PUBLIC INTOXICATION'},\n",
       " {'incidentnum': '097405-2020',\n",
       "  'division': 'NorthWest',\n",
       "  'nibrs_crime': 'MISCELLANEOUS',\n",
       "  'nibrs_crime_category': 'MISCELLANEOUS'},\n",
       " {'incidentnum': '097419-2020',\n",
       "  'division': 'NorthWest',\n",
       "  'nibrs_crime': 'MISCELLANEOUS',\n",
       "  'nibrs_crime_category': 'MISCELLANEOUS'},\n",
       " {'incidentnum': '097455-2020',\n",
       "  'division': 'NORTHEAST',\n",
       "  'nibrs_crime': 'AGG ASSAULT - NFV',\n",
       "  'nibrs_crime_category': 'ASSAULT OFFENSES'},\n",
       " {'incidentnum': '097486-2020',\n",
       "  'division': 'SOUTH CENTRAL',\n",
       "  'nibrs_crime': 'SIMPLE ASSAULT',\n",
       "  'nibrs_crime_category': 'ASSAULT OFFENSES'},\n",
       " {'incidentnum': '097486-2020',\n",
       "  'division': 'SOUTH CENTRAL',\n",
       "  'nibrs_crime': 'ALL OTHER OFFENSES',\n",
       "  'nibrs_crime_category': 'ALL OTHER OFFENSES'},\n",
       " {'incidentnum': '097486-2020',\n",
       "  'division': 'SOUTH CENTRAL',\n",
       "  'nibrs_crime': 'WEAPON LAW VIOLATIONS',\n",
       "  'nibrs_crime_category': 'WEAPON LAW VIOLATIONS'},\n",
       " {'incidentnum': '097491-2020',\n",
       "  'division': 'Central',\n",
       "  'nibrs_crime': 'MISCELLANEOUS',\n",
       "  'nibrs_crime_category': 'MISCELLANEOUS'},\n",
       " {'incidentnum': '097493-2020',\n",
       "  'division': 'South Central',\n",
       "  'nibrs_crime': 'MISCELLANEOUS',\n",
       "  'nibrs_crime_category': 'MISCELLANEOUS'},\n",
       " {'incidentnum': '097517-2020',\n",
       "  'division': 'SouthEast',\n",
       "  'nibrs_crime': 'MISCELLANEOUS',\n",
       "  'nibrs_crime_category': 'MISCELLANEOUS'},\n",
       " {'incidentnum': '097552-2020',\n",
       "  'division': 'NorthWest',\n",
       "  'nibrs_crime': 'MISCELLANEOUS',\n",
       "  'nibrs_crime_category': 'MISCELLANEOUS'},\n",
       " {'incidentnum': '097555-2020',\n",
       "  'division': 'NorthWest',\n",
       "  'nibrs_crime': 'MISCELLANEOUS',\n",
       "  'nibrs_crime_category': 'MISCELLANEOUS'},\n",
       " {'incidentnum': '097575-2020',\n",
       "  'division': 'SOUTHEAST',\n",
       "  'nibrs_crime': 'DRUG/ NARCOTIC VIOLATIONS',\n",
       "  'nibrs_crime_category': 'DRUG/ NARCOTIC VIOLATIONS'},\n",
       " {'incidentnum': '097575-2020',\n",
       "  'division': 'SOUTHEAST',\n",
       "  'nibrs_crime': 'DUI',\n",
       "  'nibrs_crime_category': 'DRIVING UNDER THE INFLUENCE'},\n",
       " {'incidentnum': '097576-2020',\n",
       "  'division': 'Central',\n",
       "  'nibrs_crime': 'PUBLIC INTOXICATION',\n",
       "  'nibrs_crime_category': 'PUBLIC INTOXICATION'},\n",
       " {'incidentnum': '097581-2020',\n",
       "  'division': 'SOUTH CENTRAL',\n",
       "  'nibrs_crime': 'SIMPLE ASSAULT',\n",
       "  'nibrs_crime_category': 'ASSAULT OFFENSES'},\n",
       " {'incidentnum': '097586-2020',\n",
       "  'division': 'NorthWest',\n",
       "  'nibrs_crime': 'MISCELLANEOUS',\n",
       "  'nibrs_crime_category': 'MISCELLANEOUS'},\n",
       " {'incidentnum': '097594-2020',\n",
       "  'division': 'Central',\n",
       "  'nibrs_crime': 'MISCELLANEOUS',\n",
       "  'nibrs_crime_category': 'MISCELLANEOUS'},\n",
       " {'incidentnum': '097619-2020',\n",
       "  'division': 'CENTRAL',\n",
       "  'nibrs_crime': 'BURGLARY-BUSINESS',\n",
       "  'nibrs_crime_category': 'BURGLARY/ BREAKING & ENTERING'},\n",
       " {'incidentnum': '097625-2020',\n",
       "  'division': 'SOUTHEAST',\n",
       "  'nibrs_crime': 'SIMPLE ASSAULT',\n",
       "  'nibrs_crime_category': 'ASSAULT OFFENSES'}]"
      ]
     },
     "execution_count": 41,
     "metadata": {},
     "output_type": "execute_result"
    }
   ],
   "source": [
    "r.json()"
   ]
  },
  {
   "cell_type": "code",
   "execution_count": 45,
   "metadata": {},
   "outputs": [
    {
     "name": "stdout",
     "output_type": "stream",
     "text": [
      "https://www.dallasopendata.com/resource/qv6i-rri7.json?$select=incidentnum,division,nibrs_crime,nibrs_crime_category&$where=incidentnum in(\"097004-2020\",\"096648-2020\",\"096918-2020\",\"096926-2020\",\"097180-2020\",\"097455-2020\",\"096499-2020\",\"096361-2020\",\"097092-2020\",\"096923-2020\",\"096888-2020\",\"096924-2020\",\"096917-2020\",\"097555-2020\",\"097045-2020\",\"097313-2020\",\"096925-2020\",\"096915-2020\",\"096614-2020\",\"096919-2020\",\"097619-2020\",\"097552-2020\",\"097076-2020\",\"097586-2020\",\"097020-2020\",\"097517-2020\",\"096973-2020\",\"096491-2020\",\"097419-2020\",\"097493-2020\",\"096610-2020\",\"097576-2020\",\"096606-2020\",\"096490-2020\",\"096314-2020\",\"096912-2020\",\"096505-2020\",\"097594-2020\",\"096664-2020\",\"096841-2020\",\"096602-2020\",\"096769-2020\",\"096922-2020\",\"097491-2020\",\"097386-2020\",\"097094-2020\",\"096920-2020\",\"096657-2020\",\"096927-2020\",\"097119-2020\",\"096921-2020\",\"097103-2020\",\"096510-2020\",\"096916-2020\",\"097215-2020\",\"097405-2020\",\"097625-2020\",\"097575-2020\",\"096693-2020\",\"097486-2020\",\"097202-2020\",\"097156-2020\",\"096899-2020\",\"096524-2020\",\"097194-2020\",\"097581-2020\",\"097367-2020\",\"097078-2020\",\"096963-2020\",\"097079-2020\") AND (division=\"CENTRAL\" OR division = \"Central\")\n"
     ]
    }
   ],
   "source": [
    "print(url + '$select=' + select + '&$where=' + where)"
   ]
  },
  {
   "cell_type": "code",
   "execution_count": 31,
   "metadata": {},
   "outputs": [
    {
     "data": {
      "text/plain": [
       "'097004-2020'"
      ]
     },
     "execution_count": 31,
     "metadata": {},
     "output_type": "execute_result"
    }
   ],
   "source": [
    "bridge_incident[0]"
   ]
  },
  {
   "cell_type": "code",
   "execution_count": null,
   "metadata": {},
   "outputs": [],
   "source": []
  }
 ],
 "metadata": {
  "kernelspec": {
   "display_name": "Python 3",
   "language": "python",
   "name": "python3"
  },
  "language_info": {
   "codemirror_mode": {
    "name": "ipython",
    "version": 3
   },
   "file_extension": ".py",
   "mimetype": "text/x-python",
   "name": "python",
   "nbconvert_exporter": "python",
   "pygments_lexer": "ipython3",
   "version": "3.7.4"
  }
 },
 "nbformat": 4,
 "nbformat_minor": 2
}
