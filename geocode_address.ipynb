{
 "cells": [
  {
   "cell_type": "code",
   "execution_count": 1,
   "metadata": {},
   "outputs": [],
   "source": [
    "from cdep_db import get_con"
   ]
  },
  {
   "cell_type": "code",
   "execution_count": 3,
   "metadata": {},
   "outputs": [],
   "source": [
    "import requests"
   ]
  },
  {
   "cell_type": "code",
   "execution_count": 4,
   "metadata": {},
   "outputs": [],
   "source": [
    "from time import sleep"
   ]
  },
  {
   "cell_type": "code",
   "execution_count": 5,
   "metadata": {},
   "outputs": [],
   "source": [
    "url = 'https://nominatim.openstreetmap.org/search?street={}&city=Dallas&county=Dallas&state=TX&country=USA&addressdetails=1&format=geojson'"
   ]
  },
  {
   "cell_type": "code",
   "execution_count": 6,
   "metadata": {},
   "outputs": [],
   "source": [
    "update = \"UPDATE cdep.address_lookup SET zip = %s, lat = %s, lon = %s WHERE address = %s;\""
   ]
  },
  {
   "cell_type": "code",
   "execution_count": 7,
   "metadata": {},
   "outputs": [],
   "source": [
    "query = 'SELECT address FROM cdep.address_lookup WHERE queried IS False LIMIT 100;'"
   ]
  },
  {
   "cell_type": "code",
   "execution_count": 2,
   "metadata": {},
   "outputs": [],
   "source": [
    "con = get_con()\n",
    "cur = con.cursor()"
   ]
  },
  {
   "cell_type": "code",
   "execution_count": 8,
   "metadata": {},
   "outputs": [],
   "source": [
    "cur.execute(query)"
   ]
  },
  {
   "cell_type": "code",
   "execution_count": 9,
   "metadata": {},
   "outputs": [],
   "source": [
    "q = cur.fetchall()"
   ]
  },
  {
   "cell_type": "code",
   "execution_count": 18,
   "metadata": {
    "scrolled": true
   },
   "outputs": [],
   "source": [
    "for addr in q:\n",
    "    r = requests.get(url.format(addr[0]))\n",
    "    if r.json()['features']:\n",
    "        zc = r.json()['features'][0]['properties']['address']['postcode'] if 'postcode' in r.json()['features'][0]['properties']['address'].keys() and r.json()['features'][0]['properties']['address']['postcode'].find(':') == -1 else None\n",
    "        lon, lat = r.json()['features'][0]['geometry']['coordinates']\n",
    "        cur.execute(update,(zc,lat,lon,addr[0]))\n",
    "    cur.execute(f\"UPDATE cdep.address_lookup SET queried = True WHERE address = '{addr[0]}';\")\n",
    "    con.commit()\n",
    "    sleep(1)"
   ]
  },
  {
   "cell_type": "code",
   "execution_count": 83,
   "metadata": {},
   "outputs": [],
   "source": [
    "con.rollback() ## for the transaction errors in the database"
   ]
  },
  {
   "cell_type": "code",
   "execution_count": null,
   "metadata": {},
   "outputs": [],
   "source": []
  },
  {
   "cell_type": "code",
   "execution_count": null,
   "metadata": {},
   "outputs": [],
   "source": []
  },
  {
   "cell_type": "code",
   "execution_count": null,
   "metadata": {},
   "outputs": [],
   "source": []
  },
  {
   "cell_type": "code",
   "execution_count": null,
   "metadata": {},
   "outputs": [],
   "source": []
  },
  {
   "cell_type": "markdown",
   "metadata": {},
   "source": [
    "## figuring out the missing postcode issue"
   ]
  },
  {
   "cell_type": "code",
   "execution_count": 14,
   "metadata": {},
   "outputs": [
    {
     "ename": "KeyError",
     "evalue": "'postcode'",
     "output_type": "error",
     "traceback": [
      "\u001b[0;31m---------------------------------------------------------------------------\u001b[0m",
      "\u001b[0;31mKeyError\u001b[0m                                  Traceback (most recent call last)",
      "\u001b[0;32m<ipython-input-14-544ea7e961bb>\u001b[0m in \u001b[0;36m<module>\u001b[0;34m\u001b[0m\n\u001b[0;32m----> 1\u001b[0;31m \u001b[0;32mif\u001b[0m \u001b[0mr\u001b[0m\u001b[0;34m.\u001b[0m\u001b[0mjson\u001b[0m\u001b[0;34m(\u001b[0m\u001b[0;34m)\u001b[0m\u001b[0;34m[\u001b[0m\u001b[0;34m'features'\u001b[0m\u001b[0;34m]\u001b[0m\u001b[0;34m[\u001b[0m\u001b[0;36m0\u001b[0m\u001b[0;34m]\u001b[0m\u001b[0;34m[\u001b[0m\u001b[0;34m'properties'\u001b[0m\u001b[0;34m]\u001b[0m\u001b[0;34m[\u001b[0m\u001b[0;34m'address'\u001b[0m\u001b[0;34m]\u001b[0m\u001b[0;34m[\u001b[0m\u001b[0;34m'postcode'\u001b[0m\u001b[0;34m]\u001b[0m\u001b[0;34m:\u001b[0m\u001b[0;34m\u001b[0m\u001b[0;34m\u001b[0m\u001b[0m\n\u001b[0m\u001b[1;32m      2\u001b[0m     \u001b[0mprint\u001b[0m\u001b[0;34m(\u001b[0m\u001b[0;34m'true'\u001b[0m\u001b[0;34m)\u001b[0m\u001b[0;34m\u001b[0m\u001b[0;34m\u001b[0m\u001b[0m\n",
      "\u001b[0;31mKeyError\u001b[0m: 'postcode'"
     ]
    }
   ],
   "source": [
    "if r.json()['features'][0]['properties']['address']['postcode']:\n",
    "    print('true')"
   ]
  },
  {
   "cell_type": "code",
   "execution_count": 15,
   "metadata": {},
   "outputs": [
    {
     "data": {
      "text/plain": [
       "dict"
      ]
     },
     "execution_count": 15,
     "metadata": {},
     "output_type": "execute_result"
    }
   ],
   "source": [
    "type(r.json()['features'][0]['properties']['address'])"
   ]
  },
  {
   "cell_type": "code",
   "execution_count": 17,
   "metadata": {},
   "outputs": [
    {
     "name": "stdout",
     "output_type": "stream",
     "text": [
      "false\n"
     ]
    }
   ],
   "source": [
    "if 'postcode' in r.json()['features'][0]['properties']['address'].keys():\n",
    "    print('true')\n",
    "else:\n",
    "    print('false')"
   ]
  },
  {
   "cell_type": "markdown",
   "metadata": {},
   "source": [
    "## Figuring out the combo ZIP"
   ]
  },
  {
   "cell_type": "code",
   "execution_count": 85,
   "metadata": {},
   "outputs": [],
   "source": [
    "zc = r.json()['features'][0]['properties']['address']['postcode'] if r.json()['features'][0]['properties']['address']['postcode'].find(':') == -1 else None"
   ]
  },
  {
   "cell_type": "code",
   "execution_count": 70,
   "metadata": {},
   "outputs": [
    {
     "data": {
      "text/plain": [
       "'75231:75238'"
      ]
     },
     "execution_count": 70,
     "metadata": {},
     "output_type": "execute_result"
    }
   ],
   "source": [
    "r.json()['features'][0]['properties']['address']['postcode'].find(':') = -1"
   ]
  },
  {
   "cell_type": "code",
   "execution_count": 57,
   "metadata": {},
   "outputs": [],
   "source": [
    "if r.json()['features']:\n",
    "    print('true')"
   ]
  },
  {
   "cell_type": "code",
   "execution_count": 10,
   "metadata": {},
   "outputs": [],
   "source": [
    "addr = q[0]"
   ]
  },
  {
   "cell_type": "code",
   "execution_count": 17,
   "metadata": {},
   "outputs": [],
   "source": [
    "r = requests.get(url.format(addr[0]))"
   ]
  },
  {
   "cell_type": "code",
   "execution_count": 62,
   "metadata": {},
   "outputs": [
    {
     "data": {
      "text/plain": [
       "{'type': 'FeatureCollection',\n",
       " 'licence': 'Data © OpenStreetMap contributors, ODbL 1.0. https://osm.org/copyright',\n",
       " 'features': [{'type': 'Feature',\n",
       "   'properties': {'place_id': 188304218,\n",
       "    'osm_type': 'way',\n",
       "    'osm_id': 468104999,\n",
       "    'display_name': '10062, Royal Lane, Lake Highlands, Dallas, Dallas County, Texas, 75231:75238, United States of America',\n",
       "    'place_rank': 30,\n",
       "    'category': 'building',\n",
       "    'type': 'apartments',\n",
       "    'importance': 0.431,\n",
       "    'address': {'house_number': '10062',\n",
       "     'road': 'Royal Lane',\n",
       "     'quarter': 'Lake Highlands',\n",
       "     'city': 'Dallas',\n",
       "     'county': 'Dallas County',\n",
       "     'state': 'Texas',\n",
       "     'postcode': '75231:75238',\n",
       "     'country': 'United States of America',\n",
       "     'country_code': 'us'}},\n",
       "   'bbox': [-96.714778, 32.89388, -96.7144269, 32.8939651],\n",
       "   'geometry': {'type': 'Point', 'coordinates': [-96.71460245, 32.89392255]}},\n",
       "  {'type': 'Feature',\n",
       "   'properties': {'place_id': 190306420,\n",
       "    'osm_type': 'way',\n",
       "    'osm_id': 468103186,\n",
       "    'display_name': '10062, Royal Lane, Lake Highlands, Dallas, Dallas County, Texas, 75238, United States of America',\n",
       "    'place_rank': 30,\n",
       "    'category': 'building',\n",
       "    'type': 'apartments',\n",
       "    'importance': 0.431,\n",
       "    'address': {'house_number': '10062',\n",
       "     'road': 'Royal Lane',\n",
       "     'quarter': 'Lake Highlands',\n",
       "     'city': 'Dallas',\n",
       "     'county': 'Dallas County',\n",
       "     'state': 'Texas',\n",
       "     'postcode': '75238',\n",
       "     'country': 'United States of America',\n",
       "     'country_code': 'us'}},\n",
       "   'bbox': [-96.7147604, 32.8928186, -96.7146126, 32.8931169],\n",
       "   'geometry': {'type': 'Point',\n",
       "    'coordinates': [-96.7146864754699, 32.8929677]}},\n",
       "  {'type': 'Feature',\n",
       "   'properties': {'place_id': 236403747,\n",
       "    'osm_type': 'relation',\n",
       "    'osm_id': 6904517,\n",
       "    'display_name': '10062, Royal Lane, Lake Highlands, Dallas, Dallas County, Texas, 75238, United States of America',\n",
       "    'place_rank': 30,\n",
       "    'category': 'building',\n",
       "    'type': 'apartments',\n",
       "    'importance': 0.431,\n",
       "    'address': {'house_number': '10062',\n",
       "     'road': 'Royal Lane',\n",
       "     'quarter': 'Lake Highlands',\n",
       "     'city': 'Dallas',\n",
       "     'county': 'Dallas County',\n",
       "     'state': 'Texas',\n",
       "     'postcode': '75238',\n",
       "     'country': 'United States of America',\n",
       "     'country_code': 'us'}},\n",
       "   'bbox': [-96.7148269, 32.8935947, -96.7144456, 32.8938405],\n",
       "   'geometry': {'type': 'Point',\n",
       "    'coordinates': [-96.71456622175, 32.89370605]}}]}"
      ]
     },
     "execution_count": 62,
     "metadata": {},
     "output_type": "execute_result"
    }
   ],
   "source": [
    "r.json()"
   ]
  },
  {
   "cell_type": "code",
   "execution_count": null,
   "metadata": {},
   "outputs": [],
   "source": [
    "## Initial parsing of JSON response for UPDATE stateme"
   ]
  },
  {
   "cell_type": "code",
   "execution_count": 26,
   "metadata": {},
   "outputs": [],
   "source": [
    "zc = r.json()['features'][0]['properties']['address']['postcode']"
   ]
  },
  {
   "cell_type": "code",
   "execution_count": 33,
   "metadata": {},
   "outputs": [],
   "source": [
    "lon, lat = r.json()['features'][0]['geometry']['coordinates']"
   ]
  },
  {
   "cell_type": "code",
   "execution_count": 47,
   "metadata": {},
   "outputs": [],
   "source": [
    "cur.execute(update.format(zc,lat,lon,addr[0]))"
   ]
  },
  {
   "cell_type": "code",
   "execution_count": 48,
   "metadata": {},
   "outputs": [],
   "source": [
    "con.commit()"
   ]
  },
  {
   "cell_type": "code",
   "execution_count": 46,
   "metadata": {},
   "outputs": [],
   "source": [
    "con.rollback()"
   ]
  },
  {
   "cell_type": "code",
   "execution_count": 39,
   "metadata": {},
   "outputs": [],
   "source": [
    "cur.execute('SELECT * FROM cdep.address_lookup LIMIT 10;')\n",
    "q = cur.fetchall()"
   ]
  },
  {
   "cell_type": "code",
   "execution_count": 40,
   "metadata": {},
   "outputs": [
    {
     "data": {
      "text/plain": [
       "[(1,\n",
       "  None,\n",
       "  '10000 BRUTON RD',\n",
       "  None,\n",
       "  None,\n",
       "  None,\n",
       "  None,\n",
       "  None,\n",
       "  None,\n",
       "  None,\n",
       "  None,\n",
       "  None,\n",
       "  None),\n",
       " (2,\n",
       "  None,\n",
       "  '10000 CHECOTA DR',\n",
       "  None,\n",
       "  None,\n",
       "  None,\n",
       "  None,\n",
       "  None,\n",
       "  None,\n",
       "  None,\n",
       "  None,\n",
       "  None,\n",
       "  None),\n",
       " (3,\n",
       "  None,\n",
       "  '10000 EDGECOVE DR',\n",
       "  None,\n",
       "  None,\n",
       "  None,\n",
       "  None,\n",
       "  None,\n",
       "  None,\n",
       "  None,\n",
       "  None,\n",
       "  None,\n",
       "  None),\n",
       " (4,\n",
       "  None,\n",
       "  '10000 HARRY HINES BLVD',\n",
       "  None,\n",
       "  None,\n",
       "  None,\n",
       "  None,\n",
       "  None,\n",
       "  None,\n",
       "  None,\n",
       "  None,\n",
       "  None,\n",
       "  None),\n",
       " (5,\n",
       "  None,\n",
       "  '10000 LAKE JUNE RD',\n",
       "  None,\n",
       "  None,\n",
       "  None,\n",
       "  None,\n",
       "  None,\n",
       "  None,\n",
       "  None,\n",
       "  None,\n",
       "  None,\n",
       "  None),\n",
       " (6,\n",
       "  None,\n",
       "  '10000 L B J FWY',\n",
       "  None,\n",
       "  None,\n",
       "  None,\n",
       "  None,\n",
       "  None,\n",
       "  None,\n",
       "  None,\n",
       "  None,\n",
       "  None,\n",
       "  None),\n",
       " (7,\n",
       "  None,\n",
       "  '10000 MARSH LN',\n",
       "  None,\n",
       "  None,\n",
       "  None,\n",
       "  None,\n",
       "  None,\n",
       "  None,\n",
       "  None,\n",
       "  None,\n",
       "  None,\n",
       "  None),\n",
       " (8,\n",
       "  None,\n",
       "  '10000 MESITA DR',\n",
       "  None,\n",
       "  None,\n",
       "  None,\n",
       "  None,\n",
       "  None,\n",
       "  None,\n",
       "  None,\n",
       "  None,\n",
       "  None,\n",
       "  None),\n",
       " (9,\n",
       "  None,\n",
       "  '10000 N CENTRAL EXPY',\n",
       "  None,\n",
       "  None,\n",
       "  None,\n",
       "  None,\n",
       "  None,\n",
       "  None,\n",
       "  None,\n",
       "  None,\n",
       "  None,\n",
       "  None),\n",
       " (10,\n",
       "  None,\n",
       "  '10000 OVERLAKE DR',\n",
       "  None,\n",
       "  None,\n",
       "  None,\n",
       "  None,\n",
       "  None,\n",
       "  None,\n",
       "  None,\n",
       "  None,\n",
       "  None,\n",
       "  None)]"
      ]
     },
     "execution_count": 40,
     "metadata": {},
     "output_type": "execute_result"
    }
   ],
   "source": [
    "q"
   ]
  },
  {
   "cell_type": "code",
   "execution_count": 41,
   "metadata": {},
   "outputs": [
    {
     "data": {
      "text/plain": [
       "(Column(name='id', type_code=23),\n",
       " Column(name='id_correct', type_code=23),\n",
       " Column(name='address', type_code=25),\n",
       " Column(name='zip', type_code=1043),\n",
       " Column(name='lat', type_code=1700),\n",
       " Column(name='lon', type_code=1700),\n",
       " Column(name='x', type_code=1700),\n",
       " Column(name='y', type_code=1700),\n",
       " Column(name='beat', type_code=1700),\n",
       " Column(name='ra', type_code=1700),\n",
       " Column(name='division', type_code=25),\n",
       " Column(name='sector', type_code=1700),\n",
       " Column(name='council_dist', type_code=1043))"
      ]
     },
     "execution_count": 41,
     "metadata": {},
     "output_type": "execute_result"
    }
   ],
   "source": [
    "cur.description"
   ]
  },
  {
   "cell_type": "code",
   "execution_count": null,
   "metadata": {},
   "outputs": [],
   "source": [
    "cur.execute"
   ]
  }
 ],
 "metadata": {
  "kernelspec": {
   "display_name": "Python 3",
   "language": "python",
   "name": "python3"
  },
  "language_info": {
   "codemirror_mode": {
    "name": "ipython",
    "version": 3
   },
   "file_extension": ".py",
   "mimetype": "text/x-python",
   "name": "python",
   "nbconvert_exporter": "python",
   "pygments_lexer": "ipython3",
   "version": "3.7.4"
  }
 },
 "nbformat": 4,
 "nbformat_minor": 2
}
