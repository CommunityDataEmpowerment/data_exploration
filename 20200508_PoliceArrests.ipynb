{
 "cells": [
  {
   "cell_type": "code",
   "execution_count": 1,
   "metadata": {},
   "outputs": [
    {
     "name": "stderr",
     "output_type": "stream",
     "text": [
      "/opt/anaconda3/lib/python3.7/importlib/_bootstrap.py:219: RuntimeWarning: numpy.ufunc size changed, may indicate binary incompatibility. Expected 192 from C header, got 216 from PyObject\n",
      "  return f(*args, **kwds)\n"
     ]
    }
   ],
   "source": [
    "import pandas as pd\n",
    "import matplotlib.pyplot as plt\n",
    "%matplotlib inline"
   ]
  },
  {
   "cell_type": "code",
   "execution_count": 2,
   "metadata": {},
   "outputs": [
    {
     "name": "stderr",
     "output_type": "stream",
     "text": [
      "/opt/anaconda3/lib/python3.7/site-packages/IPython/core/interactiveshell.py:3058: DtypeWarning: Columns (14,30,45,46) have mixed types. Specify dtype option on import or set low_memory=False.\n",
      "  interactivity=interactivity, compiler=compiler, result=result)\n"
     ]
    }
   ],
   "source": [
    "df = pd.read_csv('https://datapolitan-training-files.s3.amazonaws.com/20200508_Police_Arrests.csv')"
   ]
  },
  {
   "cell_type": "code",
   "execution_count": 6,
   "metadata": {},
   "outputs": [
    {
     "data": {
      "text/plain": [
       "(84364, 65)"
      ]
     },
     "execution_count": 6,
     "metadata": {},
     "output_type": "execute_result"
    }
   ],
   "source": [
    "df.shape"
   ]
  },
  {
   "cell_type": "code",
   "execution_count": 3,
   "metadata": {},
   "outputs": [
    {
     "data": {
      "text/html": [
       "<div>\n",
       "<style scoped>\n",
       "    .dataframe tbody tr th:only-of-type {\n",
       "        vertical-align: middle;\n",
       "    }\n",
       "\n",
       "    .dataframe tbody tr th {\n",
       "        vertical-align: top;\n",
       "    }\n",
       "\n",
       "    .dataframe thead th {\n",
       "        text-align: right;\n",
       "    }\n",
       "</style>\n",
       "<table border=\"1\" class=\"dataframe\">\n",
       "  <thead>\n",
       "    <tr style=\"text-align: right;\">\n",
       "      <th></th>\n",
       "      <th>IncidentNum</th>\n",
       "      <th>ArrestYr</th>\n",
       "      <th>ArrestNumber</th>\n",
       "      <th>ArArrestDate</th>\n",
       "      <th>ArArrestTime</th>\n",
       "      <th>ArBkDate</th>\n",
       "      <th>ArLAddress</th>\n",
       "      <th>ArLApt</th>\n",
       "      <th>ArLZip</th>\n",
       "      <th>ArLCity</th>\n",
       "      <th>...</th>\n",
       "      <th>TatooComment</th>\n",
       "      <th>Occupation</th>\n",
       "      <th>JobSchStatus</th>\n",
       "      <th>Employer</th>\n",
       "      <th>Drug</th>\n",
       "      <th>DrugRelated</th>\n",
       "      <th>DrugType</th>\n",
       "      <th>ClothingWorn</th>\n",
       "      <th>Expunged</th>\n",
       "      <th>UpZDate</th>\n",
       "    </tr>\n",
       "  </thead>\n",
       "  <tbody>\n",
       "    <tr>\n",
       "      <td>0</td>\n",
       "      <td>052503-2018</td>\n",
       "      <td>2018</td>\n",
       "      <td>18-008234</td>\n",
       "      <td>03/12/2018 12:00:00 AM</td>\n",
       "      <td>12:02</td>\n",
       "      <td>03/12/2018 01:28:34 PM</td>\n",
       "      <td>2809 E LEDBETTER DR</td>\n",
       "      <td>NaN</td>\n",
       "      <td>75216.0</td>\n",
       "      <td>DALLAS</td>\n",
       "      <td>...</td>\n",
       "      <td>NaN</td>\n",
       "      <td>NaN</td>\n",
       "      <td>NaN</td>\n",
       "      <td>NaN</td>\n",
       "      <td>NaN</td>\n",
       "      <td>No</td>\n",
       "      <td>NaN</td>\n",
       "      <td>WHITE SHIRT, BLUE JEANS, GRAY HOODIE, TAN SHOES</td>\n",
       "      <td>NaN</td>\n",
       "      <td>2018-03-14 12:40:08</td>\n",
       "    </tr>\n",
       "    <tr>\n",
       "      <td>1</td>\n",
       "      <td>055105-2016</td>\n",
       "      <td>2016</td>\n",
       "      <td>16-009843</td>\n",
       "      <td>03/06/2016 12:00:00 AM</td>\n",
       "      <td>22:13</td>\n",
       "      <td>03/06/2016 11:42:15 PM</td>\n",
       "      <td>6500 STARKEY ST</td>\n",
       "      <td>NaN</td>\n",
       "      <td>75232.0</td>\n",
       "      <td>DALLAS</td>\n",
       "      <td>...</td>\n",
       "      <td>NaN</td>\n",
       "      <td>NaN</td>\n",
       "      <td>NaN</td>\n",
       "      <td>NaN</td>\n",
       "      <td>NaN</td>\n",
       "      <td>No</td>\n",
       "      <td>NaN</td>\n",
       "      <td>Shirt: BLACK T SHIRT Jacket: GREY AND BLACK HO...</td>\n",
       "      <td>NaN</td>\n",
       "      <td>2016-03-24 11:36:19</td>\n",
       "    </tr>\n",
       "    <tr>\n",
       "      <td>2</td>\n",
       "      <td>095586-2019</td>\n",
       "      <td>2019</td>\n",
       "      <td>19-016816</td>\n",
       "      <td>05/14/2019 12:00:00 AM</td>\n",
       "      <td>01:25</td>\n",
       "      <td>05/14/2019 04:06:27 AM</td>\n",
       "      <td>9731 TREVOR DR</td>\n",
       "      <td>NaN</td>\n",
       "      <td>75243.0</td>\n",
       "      <td>DALLAS</td>\n",
       "      <td>...</td>\n",
       "      <td>NaN</td>\n",
       "      <td>NaN</td>\n",
       "      <td>NaN</td>\n",
       "      <td>NaN</td>\n",
       "      <td>NaN</td>\n",
       "      <td>Uknown</td>\n",
       "      <td>NaN</td>\n",
       "      <td>WHITE TSHIRT, BLACK SWEATPANTS, BLACK SOCKS, N...</td>\n",
       "      <td>NaN</td>\n",
       "      <td>2019-05-14 11:55:41</td>\n",
       "    </tr>\n",
       "    <tr>\n",
       "      <td>3</td>\n",
       "      <td>139944-2017</td>\n",
       "      <td>2017</td>\n",
       "      <td>17-025468</td>\n",
       "      <td>06/20/2017 12:00:00 AM</td>\n",
       "      <td>19:00</td>\n",
       "      <td>06/20/2017 08:27:02 PM</td>\n",
       "      <td>4002 MARSHALL ST</td>\n",
       "      <td>NaN</td>\n",
       "      <td>75210.0</td>\n",
       "      <td>DALLAS</td>\n",
       "      <td>...</td>\n",
       "      <td>NaN</td>\n",
       "      <td>NaN</td>\n",
       "      <td>NaN</td>\n",
       "      <td>NaN</td>\n",
       "      <td>NaN</td>\n",
       "      <td>No</td>\n",
       "      <td>NaN</td>\n",
       "      <td>Shirt: GREEN SHIRT Jacket: N/A Pants: CAMO PAN...</td>\n",
       "      <td>NaN</td>\n",
       "      <td>2017-06-22 13:07:30</td>\n",
       "    </tr>\n",
       "    <tr>\n",
       "      <td>4</td>\n",
       "      <td>261465-2018</td>\n",
       "      <td>2018</td>\n",
       "      <td>18-042785</td>\n",
       "      <td>12/06/2018 12:00:00 AM</td>\n",
       "      <td>12:27</td>\n",
       "      <td>12/06/2018 02:46:14 PM</td>\n",
       "      <td>3940 ROSEMEADE PKWY</td>\n",
       "      <td>NaN</td>\n",
       "      <td>75287.0</td>\n",
       "      <td>DALLAS</td>\n",
       "      <td>...</td>\n",
       "      <td>NaN</td>\n",
       "      <td>NaN</td>\n",
       "      <td>NaN</td>\n",
       "      <td>NaN</td>\n",
       "      <td>NaN</td>\n",
       "      <td>No</td>\n",
       "      <td>NaN</td>\n",
       "      <td>JACKET, SHIRT, JEANS, SHOES</td>\n",
       "      <td>NaN</td>\n",
       "      <td>2018-12-19 17:36:58</td>\n",
       "    </tr>\n",
       "  </tbody>\n",
       "</table>\n",
       "<p>5 rows × 65 columns</p>\n",
       "</div>"
      ],
      "text/plain": [
       "   IncidentNum  ArrestYr ArrestNumber            ArArrestDate ArArrestTime  \\\n",
       "0  052503-2018      2018    18-008234  03/12/2018 12:00:00 AM        12:02   \n",
       "1  055105-2016      2016    16-009843  03/06/2016 12:00:00 AM        22:13   \n",
       "2  095586-2019      2019    19-016816  05/14/2019 12:00:00 AM        01:25   \n",
       "3  139944-2017      2017    17-025468  06/20/2017 12:00:00 AM        19:00   \n",
       "4  261465-2018      2018    18-042785  12/06/2018 12:00:00 AM        12:27   \n",
       "\n",
       "                 ArBkDate           ArLAddress ArLApt   ArLZip ArLCity  ...  \\\n",
       "0  03/12/2018 01:28:34 PM  2809 E LEDBETTER DR    NaN  75216.0  DALLAS  ...   \n",
       "1  03/06/2016 11:42:15 PM      6500 STARKEY ST    NaN  75232.0  DALLAS  ...   \n",
       "2  05/14/2019 04:06:27 AM       9731 TREVOR DR    NaN  75243.0  DALLAS  ...   \n",
       "3  06/20/2017 08:27:02 PM     4002 MARSHALL ST    NaN  75210.0  DALLAS  ...   \n",
       "4  12/06/2018 02:46:14 PM  3940 ROSEMEADE PKWY    NaN  75287.0  DALLAS  ...   \n",
       "\n",
       "  TatooComment Occupation  JobSchStatus  Employer Drug  DrugRelated DrugType  \\\n",
       "0          NaN        NaN           NaN       NaN  NaN           No      NaN   \n",
       "1          NaN        NaN           NaN       NaN  NaN           No      NaN   \n",
       "2          NaN        NaN           NaN       NaN  NaN       Uknown      NaN   \n",
       "3          NaN        NaN           NaN       NaN  NaN           No      NaN   \n",
       "4          NaN        NaN           NaN       NaN  NaN           No      NaN   \n",
       "\n",
       "                                        ClothingWorn Expunged  \\\n",
       "0    WHITE SHIRT, BLUE JEANS, GRAY HOODIE, TAN SHOES      NaN   \n",
       "1  Shirt: BLACK T SHIRT Jacket: GREY AND BLACK HO...      NaN   \n",
       "2  WHITE TSHIRT, BLACK SWEATPANTS, BLACK SOCKS, N...      NaN   \n",
       "3  Shirt: GREEN SHIRT Jacket: N/A Pants: CAMO PAN...      NaN   \n",
       "4                        JACKET, SHIRT, JEANS, SHOES      NaN   \n",
       "\n",
       "               UpZDate  \n",
       "0  2018-03-14 12:40:08  \n",
       "1  2016-03-24 11:36:19  \n",
       "2  2019-05-14 11:55:41  \n",
       "3  2017-06-22 13:07:30  \n",
       "4  2018-12-19 17:36:58  \n",
       "\n",
       "[5 rows x 65 columns]"
      ]
     },
     "execution_count": 3,
     "metadata": {},
     "output_type": "execute_result"
    }
   ],
   "source": [
    "df.head()"
   ]
  },
  {
   "cell_type": "code",
   "execution_count": 4,
   "metadata": {},
   "outputs": [
    {
     "data": {
      "text/plain": [
       "Index(['IncidentNum', 'ArrestYr', 'ArrestNumber', 'ArArrestDate',\n",
       "       'ArArrestTime', 'ArBkDate', 'ArLAddress', 'ArLApt', 'ArLZip', 'ArLCity',\n",
       "       'ArState', 'ArLCounty', 'ArLRA', 'ArLBeat', 'ArLDistrict', 'ArLSector',\n",
       "       'ArADOW', 'ArPremises', 'CFS_Number', 'ArOfcr1', 'ArOfcr2',\n",
       "       'Transport1', 'Transport2', 'Transport3', 'Search1', 'ArAction',\n",
       "       'ArWeapon', 'ArOSR', 'ArResisted', 'ArCurrLoc', 'ArCond', 'ArMedFlag',\n",
       "       'ArMedLoc', 'ArOpComm', 'ArresteeName', 'NickName', 'AliasName',\n",
       "       'BirthPlace', 'Age', 'AgeAtArrestTime', 'HAddress', 'HApt', 'HZIP',\n",
       "       'HCity', 'HState', 'HRA', 'HBeat', 'Height', 'Weight', 'Hair', 'Eyes',\n",
       "       'Race', 'Ethnic', 'Sex', 'Tatoo', 'TatooComment', 'Occupation',\n",
       "       'JobSchStatus', 'Employer', 'Drug', 'DrugRelated', 'DrugType',\n",
       "       'ClothingWorn', 'Expunged', 'UpZDate'],\n",
       "      dtype='object')"
      ]
     },
     "execution_count": 4,
     "metadata": {},
     "output_type": "execute_result"
    }
   ],
   "source": [
    "df.columns"
   ]
  },
  {
   "cell_type": "code",
   "execution_count": 17,
   "metadata": {},
   "outputs": [
    {
     "data": {
      "text/plain": [
       "ArLAddress\n",
       "1818 CORSICANA ST          492\n",
       "9301 FOREST LN             432\n",
       "500 PARK AVE               424\n",
       "1521 N COCKRELL HILL RD    348\n",
       "200 SHORT BLVD             336\n",
       "Name: ArrestNumber, dtype: int64"
      ]
     },
     "execution_count": 17,
     "metadata": {},
     "output_type": "execute_result"
    }
   ],
   "source": [
    "df.groupby('ArLAddress')['ArrestNumber'].count().sort_values(ascending=False).head()"
   ]
  },
  {
   "cell_type": "code",
   "execution_count": null,
   "metadata": {},
   "outputs": [],
   "source": []
  },
  {
   "cell_type": "code",
   "execution_count": null,
   "metadata": {},
   "outputs": [],
   "source": []
  }
 ],
 "metadata": {
  "kernelspec": {
   "display_name": "Python 3",
   "language": "python",
   "name": "python3"
  },
  "language_info": {
   "codemirror_mode": {
    "name": "ipython",
    "version": 3
   },
   "file_extension": ".py",
   "mimetype": "text/x-python",
   "name": "python",
   "nbconvert_exporter": "python",
   "pygments_lexer": "ipython3",
   "version": "3.7.4"
  }
 },
 "nbformat": 4,
 "nbformat_minor": 2
}
