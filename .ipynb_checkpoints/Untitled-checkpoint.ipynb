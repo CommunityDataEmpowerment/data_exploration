{
 "cells": [
  {
   "cell_type": "code",
   "execution_count": 67,
   "metadata": {},
   "outputs": [],
   "source": [
    "import pandas as pd\n",
    "import matplotlib.pyplot as plt\n",
    "import datetime\n",
    "import numpy as np"
   ]
  },
  {
   "cell_type": "code",
   "execution_count": 3,
   "metadata": {},
   "outputs": [],
   "source": [
    "df = pd.read_csv(\"Police_Response_to_Resistance___2019.csv\")"
   ]
  },
  {
   "cell_type": "code",
   "execution_count": 15,
   "metadata": {},
   "outputs": [
    {
     "name": "stdout",
     "output_type": "stream",
     "text": [
      "<class 'pandas.core.frame.DataFrame'>\n",
      "RangeIndex: 2944 entries, 0 to 2943\n",
      "Data columns (total 39 columns):\n",
      "OBJECTID            2944 non-null int64\n",
      "ZIP                 2943 non-null float64\n",
      "FILENUM             2944 non-null object\n",
      "UOFNum              2944 non-null object\n",
      "OCCURRED_D          2944 non-null object\n",
      "OCCURRED_T          2931 non-null object\n",
      "CURRENT_BA          2944 non-null int64\n",
      "OffSex              2944 non-null object\n",
      "OffRace             2944 non-null object\n",
      "HIRE_DT             2944 non-null object\n",
      "OFF_INJURE          2944 non-null bool\n",
      "OffCondTyp          2944 non-null object\n",
      "OFF_HOSPIT          2944 non-null bool\n",
      "SERVICE_TY          2937 non-null object\n",
      "ForceType           2944 non-null object\n",
      "UOF_REASON          2937 non-null object\n",
      "Cycles_Num          174 non-null object\n",
      "ForceEffec          2944 non-null object\n",
      "STREET_N            2944 non-null int64\n",
      "STREET              2944 non-null object\n",
      "street_g            751 non-null object\n",
      "street_t            2905 non-null object\n",
      "Address             2942 non-null object\n",
      "CitNum              2944 non-null object\n",
      "CitRace             2906 non-null object\n",
      "CitSex              2934 non-null object\n",
      "CIT_INJURE          2944 non-null bool\n",
      "CitCondTyp          2944 non-null object\n",
      "CIT_ARREST          2944 non-null bool\n",
      "CIT_INFL_A          2865 non-null object\n",
      "CitChargeT          2944 non-null object\n",
      "Council District    2930 non-null object\n",
      "RA                  2930 non-null float64\n",
      "BEAT                2930 non-null float64\n",
      "SECTOR              2930 non-null float64\n",
      "DIVISION            2930 non-null object\n",
      "X                   2944 non-null float64\n",
      "Y                   2944 non-null float64\n",
      "GeoLocation         2758 non-null object\n",
      "dtypes: bool(4), float64(6), int64(3), object(26)\n",
      "memory usage: 816.6+ KB\n"
     ]
    }
   ],
   "source": [
    "df.info()"
   ]
  },
  {
   "cell_type": "code",
   "execution_count": 11,
   "metadata": {},
   "outputs": [
    {
     "data": {
      "text/plain": [
       "Black           0.539917\n",
       "Hispanic        0.226084\n",
       "White           0.220234\n",
       "Asian           0.006194\n",
       "Other           0.003785\n",
       "American Ind    0.002409\n",
       "Unknown         0.001376\n",
       "Name: CitRace, dtype: float64"
      ]
     },
     "execution_count": 11,
     "metadata": {},
     "output_type": "execute_result"
    }
   ],
   "source": [
    "df.CitRace.value_counts(normalize=True)"
   ]
  },
  {
   "cell_type": "code",
   "execution_count": 10,
   "metadata": {},
   "outputs": [
    {
     "data": {
      "text/plain": [
       "False    2259\n",
       "True      685\n",
       "Name: CIT_INJURE, dtype: int64"
      ]
     },
     "execution_count": 10,
     "metadata": {},
     "output_type": "execute_result"
    }
   ],
   "source": [
    "df.CIT_INJURE.value_counts()"
   ]
  },
  {
   "cell_type": "code",
   "execution_count": 59,
   "metadata": {},
   "outputs": [],
   "source": [
    "freq = []\n",
    "for x in df.ForceType:\n",
    "    if \",\" in x:\n",
    "        y = x.split(\",\")\n",
    "        for z in y:\n",
    "            freq.append(z)\n",
    "    else:\n",
    "        freq.append(x)"
   ]
  },
  {
   "cell_type": "code",
   "execution_count": 90,
   "metadata": {},
   "outputs": [],
   "source": [
    "freq_dict = (pd.Series(freq).value_counts()).to_dict()"
   ]
  },
  {
   "cell_type": "code",
   "execution_count": 118,
   "metadata": {},
   "outputs": [
    {
     "data": {
      "text/html": [
       "<div>\n",
       "<style scoped>\n",
       "    .dataframe tbody tr th:only-of-type {\n",
       "        vertical-align: middle;\n",
       "    }\n",
       "\n",
       "    .dataframe tbody tr th {\n",
       "        vertical-align: top;\n",
       "    }\n",
       "\n",
       "    .dataframe thead th {\n",
       "        text-align: right;\n",
       "    }\n",
       "</style>\n",
       "<table border=\"1\" class=\"dataframe\">\n",
       "  <thead>\n",
       "    <tr style=\"text-align: right;\">\n",
       "      <th></th>\n",
       "      <th>0</th>\n",
       "      <th>1</th>\n",
       "      <th>2</th>\n",
       "      <th>3</th>\n",
       "      <th>4</th>\n",
       "      <th>5</th>\n",
       "      <th>6</th>\n",
       "      <th>7</th>\n",
       "      <th>8</th>\n",
       "      <th>9</th>\n",
       "      <th>...</th>\n",
       "      <th>51</th>\n",
       "      <th>52</th>\n",
       "      <th>53</th>\n",
       "      <th>54</th>\n",
       "      <th>55</th>\n",
       "      <th>56</th>\n",
       "      <th>57</th>\n",
       "      <th>58</th>\n",
       "      <th>59</th>\n",
       "      <th>60</th>\n",
       "    </tr>\n",
       "  </thead>\n",
       "  <tbody>\n",
       "    <tr>\n",
       "      <td>0</td>\n",
       "      <td>Verbal Command</td>\n",
       "      <td>Held Suspect Down</td>\n",
       "      <td>Verbal Command</td>\n",
       "      <td>Foot Pursuit</td>\n",
       "      <td>Weapon display at Person</td>\n",
       "      <td>BD - Grabbed</td>\n",
       "      <td>Held Suspect Down</td>\n",
       "      <td>Foot Pursuit</td>\n",
       "      <td>BD - Grabbed</td>\n",
       "      <td>Joint Locks</td>\n",
       "      <td>...</td>\n",
       "      <td>40mm Less Lethal</td>\n",
       "      <td>Head Butt</td>\n",
       "      <td>Pepperball Impact</td>\n",
       "      <td>Pepperball Saturation</td>\n",
       "      <td>LVNR</td>\n",
       "      <td>Vehicle Pursuit</td>\n",
       "      <td>Vehicle Pursuit</td>\n",
       "      <td>Pepperball Impact</td>\n",
       "      <td>Other Impact Weapon</td>\n",
       "      <td>Baton Strike/Open Mode</td>\n",
       "    </tr>\n",
       "    <tr>\n",
       "      <td>1</td>\n",
       "      <td>678</td>\n",
       "      <td>592</td>\n",
       "      <td>557</td>\n",
       "      <td>471</td>\n",
       "      <td>396</td>\n",
       "      <td>275</td>\n",
       "      <td>256</td>\n",
       "      <td>222</td>\n",
       "      <td>206</td>\n",
       "      <td>192</td>\n",
       "      <td>...</td>\n",
       "      <td>1</td>\n",
       "      <td>1</td>\n",
       "      <td>1</td>\n",
       "      <td>1</td>\n",
       "      <td>1</td>\n",
       "      <td>1</td>\n",
       "      <td>1</td>\n",
       "      <td>1</td>\n",
       "      <td>1</td>\n",
       "      <td>1</td>\n",
       "    </tr>\n",
       "  </tbody>\n",
       "</table>\n",
       "<p>2 rows × 61 columns</p>\n",
       "</div>"
      ],
      "text/plain": [
       "               0                   1                2             3   \\\n",
       "0  Verbal Command   Held Suspect Down   Verbal Command  Foot Pursuit   \n",
       "1             678                 592              557           471   \n",
       "\n",
       "                         4              5                  6              7   \\\n",
       "0  Weapon display at Person   BD - Grabbed  Held Suspect Down   Foot Pursuit   \n",
       "1                       396            275                256            222   \n",
       "\n",
       "             8             9   ...                 51          52  \\\n",
       "0  BD - Grabbed   Joint Locks  ...   40mm Less Lethal   Head Butt   \n",
       "1           206           192  ...                  1           1   \n",
       "\n",
       "                  53                      54    55                56  \\\n",
       "0  Pepperball Impact   Pepperball Saturation  LVNR   Vehicle Pursuit   \n",
       "1                  1                       1     1                 1   \n",
       "\n",
       "                57                  58                   59  \\\n",
       "0  Vehicle Pursuit   Pepperball Impact  Other Impact Weapon   \n",
       "1                1                   1                    1   \n",
       "\n",
       "                       60  \n",
       "0  Baton Strike/Open Mode  \n",
       "1                       1  \n",
       "\n",
       "[2 rows x 61 columns]"
      ]
     },
     "execution_count": 118,
     "metadata": {},
     "output_type": "execute_result"
    }
   ],
   "source": [
    "pd.DataFrame([freq_dict.keys(),freq_dict.values()])"
   ]
  },
  {
   "cell_type": "code",
   "execution_count": null,
   "metadata": {},
   "outputs": [],
   "source": []
  },
  {
   "cell_type": "code",
   "execution_count": null,
   "metadata": {},
   "outputs": [],
   "source": []
  },
  {
   "cell_type": "code",
   "execution_count": null,
   "metadata": {},
   "outputs": [],
   "source": []
  },
  {
   "cell_type": "code",
   "execution_count": 23,
   "metadata": {},
   "outputs": [
    {
     "data": {
      "text/plain": [
       "Arrest                      0.496765\n",
       "Active Aggression           0.129384\n",
       "Detention/Frisk             0.123936\n",
       "Danger to self or others    0.090909\n",
       "Weapon Display              0.071161\n",
       "Other                       0.060947\n",
       "Assault to Other Person     0.017024\n",
       "Crowd Disbursement          0.005448\n",
       "Barricaded Person           0.003064\n",
       "Property Destruction        0.001362\n",
       "Name: UOF_REASON, dtype: float64"
      ]
     },
     "execution_count": 23,
     "metadata": {},
     "output_type": "execute_result"
    }
   ],
   "source": [
    "df.UOF_REASON.value_counts(normalize=True)"
   ]
  },
  {
   "cell_type": "code",
   "execution_count": 22,
   "metadata": {},
   "outputs": [
    {
     "data": {
      "text/plain": [
       "D2     0.131741\n",
       "D7     0.121160\n",
       "D14    0.113993\n",
       "D6     0.078498\n",
       "D1     0.074403\n",
       "D10    0.071672\n",
       "D4     0.065188\n",
       "D9     0.065188\n",
       "D8     0.057679\n",
       "D11    0.056997\n",
       "D5     0.049147\n",
       "D12    0.041297\n",
       "D13    0.040956\n",
       "D3     0.032082\n",
       "Name: Council District, dtype: float64"
      ]
     },
     "execution_count": 22,
     "metadata": {},
     "output_type": "execute_result"
    }
   ],
   "source": [
    "df['Council District'].value_counts(normalize=True)"
   ]
  },
  {
   "cell_type": "code",
   "execution_count": 24,
   "metadata": {},
   "outputs": [
    {
     "data": {
      "text/plain": [
       "White           1703\n",
       "Hispanic         737\n",
       "Black            351\n",
       "Asian            107\n",
       "Other             27\n",
       "American Ind      19\n",
       "Name: OffRace, dtype: int64"
      ]
     },
     "execution_count": 24,
     "metadata": {},
     "output_type": "execute_result"
    }
   ],
   "source": [
    "df.OffRace.value_counts()"
   ]
  },
  {
   "cell_type": "code",
   "execution_count": 43,
   "metadata": {},
   "outputs": [],
   "source": [
    "df.HIRE_DT = pd.to_datetime(df.HIRE_DT)"
   ]
  },
  {
   "cell_type": "code",
   "execution_count": 49,
   "metadata": {},
   "outputs": [
    {
     "data": {
      "text/html": [
       "<div>\n",
       "<style scoped>\n",
       "    .dataframe tbody tr th:only-of-type {\n",
       "        vertical-align: middle;\n",
       "    }\n",
       "\n",
       "    .dataframe tbody tr th {\n",
       "        vertical-align: top;\n",
       "    }\n",
       "\n",
       "    .dataframe thead th {\n",
       "        text-align: right;\n",
       "    }\n",
       "</style>\n",
       "<table border=\"1\" class=\"dataframe\">\n",
       "  <thead>\n",
       "    <tr style=\"text-align: right;\">\n",
       "      <th></th>\n",
       "      <th>HIRE_DT</th>\n",
       "      <th>OffRace</th>\n",
       "    </tr>\n",
       "  </thead>\n",
       "  <tbody>\n",
       "    <tr>\n",
       "      <td>0</td>\n",
       "      <td>2017-03-08</td>\n",
       "      <td>White</td>\n",
       "    </tr>\n",
       "    <tr>\n",
       "      <td>1</td>\n",
       "      <td>2016-08-24</td>\n",
       "      <td>White</td>\n",
       "    </tr>\n",
       "    <tr>\n",
       "      <td>2</td>\n",
       "      <td>2008-04-02</td>\n",
       "      <td>White</td>\n",
       "    </tr>\n",
       "    <tr>\n",
       "      <td>3</td>\n",
       "      <td>2009-06-10</td>\n",
       "      <td>Hispanic</td>\n",
       "    </tr>\n",
       "    <tr>\n",
       "      <td>4</td>\n",
       "      <td>2012-09-26</td>\n",
       "      <td>Hispanic</td>\n",
       "    </tr>\n",
       "    <tr>\n",
       "      <td>...</td>\n",
       "      <td>...</td>\n",
       "      <td>...</td>\n",
       "    </tr>\n",
       "    <tr>\n",
       "      <td>2939</td>\n",
       "      <td>1990-11-26</td>\n",
       "      <td>White</td>\n",
       "    </tr>\n",
       "    <tr>\n",
       "      <td>2940</td>\n",
       "      <td>1991-07-29</td>\n",
       "      <td>Black</td>\n",
       "    </tr>\n",
       "    <tr>\n",
       "      <td>2941</td>\n",
       "      <td>2003-08-18</td>\n",
       "      <td>White</td>\n",
       "    </tr>\n",
       "    <tr>\n",
       "      <td>2942</td>\n",
       "      <td>2004-06-04</td>\n",
       "      <td>White</td>\n",
       "    </tr>\n",
       "    <tr>\n",
       "      <td>2943</td>\n",
       "      <td>2012-06-20</td>\n",
       "      <td>White</td>\n",
       "    </tr>\n",
       "  </tbody>\n",
       "</table>\n",
       "<p>2944 rows × 2 columns</p>\n",
       "</div>"
      ],
      "text/plain": [
       "        HIRE_DT   OffRace\n",
       "0    2017-03-08     White\n",
       "1    2016-08-24     White\n",
       "2    2008-04-02     White\n",
       "3    2009-06-10  Hispanic\n",
       "4    2012-09-26  Hispanic\n",
       "...         ...       ...\n",
       "2939 1990-11-26     White\n",
       "2940 1991-07-29     Black\n",
       "2941 2003-08-18     White\n",
       "2942 2004-06-04     White\n",
       "2943 2012-06-20     White\n",
       "\n",
       "[2944 rows x 2 columns]"
      ]
     },
     "execution_count": 49,
     "metadata": {},
     "output_type": "execute_result"
    }
   ],
   "source": [
    "df[['HIRE_DT', 'OffRace']]"
   ]
  },
  {
   "cell_type": "code",
   "execution_count": 50,
   "metadata": {},
   "outputs": [
    {
     "data": {
      "image/png": "[encoded data removed]",
      "text/plain": [
       "<Figure size 432x288 with 1 Axes>"
      ]
     },
     "metadata": {
      "needs_background": "light"
     },
     "output_type": "display_data"
    }
   ],
   "source": [
    "df.HIRE_DT.hist();"
   ]
  },
  {
   "cell_type": "code",
   "execution_count": null,
   "metadata": {},
   "outputs": [],
   "source": []
  }
 ],
 "metadata": {
  "kernelspec": {
   "display_name": "Python 3",
   "language": "python",
   "name": "python3"
  },
  "language_info": {
   "codemirror_mode": {
    "name": "ipython",
    "version": 3
   },
   "file_extension": ".py",
   "mimetype": "text/x-python",
   "name": "python",
   "nbconvert_exporter": "python",
   "pygments_lexer": "ipython3",
   "version": "3.7.4"
  }
 },
 "nbformat": 4,
 "nbformat_minor": 2
}
