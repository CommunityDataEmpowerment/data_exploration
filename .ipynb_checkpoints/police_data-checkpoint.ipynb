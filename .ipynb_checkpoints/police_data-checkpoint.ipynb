{
 "cells": [
  {
   "cell_type": "code",
   "execution_count": 3,
   "metadata": {},
   "outputs": [],
   "source": [
    "import pandas as pd\n",
    "import matplotlib.pyplot as plt\n",
    "import datetime\n",
    "import numpy as np\n",
    "from sodapy import Socrata\n",
    "import police_data as popo"
   ]
  },
  {
   "cell_type": "markdown",
   "metadata": {},
   "source": [
    "### API "
   ]
  },
  {
   "cell_type": "code",
   "execution_count": 4,
   "metadata": {},
   "outputs": [],
   "source": [
    "client = Socrata(\"www.dallasopendata.com\", app_token=popo.creds['app_token'])"
   ]
  },
  {
   "cell_type": "code",
   "execution_count": 46,
   "metadata": {},
   "outputs": [],
   "source": [
    "resist_2019_call = client.get('46zb-7qgj', limit=4000)\n",
    "resist_2018_call = client.get('33un-ry4j', limit=4000)\n",
    "resist_2017_call = client.get('tsu5-ca6k', limit=4000)\n",
    "resist_2016_call = client.get('99fn-pvaf', limit=4000)\n",
    "resist_2015_call = client.get('594v-2cnd', limit=4000)\n",
    "resist_2014_call = client.get('xiv3-e8g7', limit=4000)\n",
    "resist_2013_call = client.get('6gnu-avpf', limit=5000)"
   ]
  },
  {
   "cell_type": "code",
   "execution_count": 178,
   "metadata": {},
   "outputs": [],
   "source": [
    "df_2019 = pd.DataFrame(resist_2019_call)\n",
    "df_2018 = pd.DataFrame(resist_2018_call)\n",
    "df_2017 = pd.DataFrame(resist_2017_call)\n",
    "df_2016 = pd.DataFrame(resist_2016_call)\n",
    "df_2015 = pd.DataFrame(resist_2015_call)\n",
    "df_2014 = pd.DataFrame(resist_2014_call)\n",
    "df_2013 = pd.DataFrame(resist_2013_call)"
   ]
  },
  {
   "cell_type": "code",
   "execution_count": 179,
   "metadata": {},
   "outputs": [
    {
     "data": {
      "text/plain": [
       "Index(['objectid_1', 'filenum', 'uofnum', 'address', 'occurred_d',\n",
       "       'occurred_t', 'current_ba', 'offsex', 'offrace', 'hire_dt',\n",
       "       'off_injure', 'offcondtyp', 'off_hospit', 'service_ty', 'forcetype',\n",
       "       'uof_reason', 'cycles_num', 'forceeffec', 'street_n', 'street',\n",
       "       'street_g', 'street_t', 'citnum', 'citrace', 'citsex', 'cit_injure',\n",
       "       'citcondtyp', 'cit_arrest', 'cit_infl_a', 'citcharget', 'ra', 'beat',\n",
       "       'sector', 'division', 'dist_name', 'x', 'y', 'geolocation',\n",
       "       ':@computed_region_sjyw_rtbm', ':@computed_region_2f7u_b5gs',\n",
       "       'taag_name'],\n",
       "      dtype='object')"
      ]
     },
     "execution_count": 179,
     "metadata": {},
     "output_type": "execute_result"
    }
   ],
   "source": [
    "df_2017.columns"
   ]
  },
  {
   "cell_type": "markdown",
   "metadata": {},
   "source": [
    "### Table for database"
   ]
  },
  {
   "cell_type": "code",
   "execution_count": 180,
   "metadata": {},
   "outputs": [
    {
     "name": "stdout",
     "output_type": "stream",
     "text": [
      "objectid not in df_2018\n",
      "objectid not in df_2017\n",
      "objectid not in df_2015\n",
      "forceeffec not in df_2015\n"
     ]
    }
   ],
   "source": [
    "# seeing if all dfs have same columns we're looking for\n",
    "\n",
    "dfs = [df_2019,df_2018,df_2017,df_2016,df_2015,df_2014,df_2013]\n",
    "years = ['df_2019','df_2018','df_2017','df_2016','df_2015','df_2014','df_2013']\n",
    "headers = ['objectid','filenum', 'uofnum', 'forceeffec', 'forcetype']\n",
    "for n, x in enumerate(dfs):\n",
    "    for y in headers:\n",
    "        if y in x.columns:\n",
    "            pass\n",
    "        else:\n",
    "            print(f\"{y} not in {years[n]}\")"
   ]
  },
  {
   "cell_type": "code",
   "execution_count": 181,
   "metadata": {},
   "outputs": [],
   "source": [
    "df_2015.rename(columns={'forceeffective':'forceeffec'}, inplace=True)\n",
    "df_2017.rename(columns={'objectid_1':'objectid'}, inplace=True)\n",
    "df_2015.rename(columns={'id':'objectid'}, inplace=True)\n",
    "#2018 does not have an id column, but it is just a numerical increment\n",
    "df_2018['objectid'] = [str(x+1) for x in range(len(df_2018))]"
   ]
  },
  {
   "cell_type": "code",
   "execution_count": 182,
   "metadata": {},
   "outputs": [
    {
     "name": "stdout",
     "output_type": "stream",
     "text": [
      "df_2013: 0,Yes, No,Other, Verbal Command\n",
      "df_2013: 0,Yes, Yes,Weapon display at Person, BD - Pushed\n",
      "df_2013: 0,Yes, Yes, Yes,Hand/Arm Strike, Arm Bar, Team Take Down\n",
      "df_2013: 0,No, Yes, Yes,Verbal Command, Hand/Arm Strike, Handcuffing\n",
      "df_2013: 0,No, Yes,Verbal Command, Handcuffing\n",
      "df_2013: 0,No, No, No,Attempted Take Down, Feet/Legs, Hands/Arms\n",
      "df_2013: 0,Yes, Yes,Weapon display at Person, Arm Bar\n",
      "df_2013: 0,Yes, Yes,Weapon display at Person, Verbal Command\n",
      "df_2013: 0,Yes, Yes,Verbal Command, Weapon display at Person\n",
      "df_2013: 0,Yes, Yes,Arm Bar, Hand/Arm Strike\n",
      "df_2013: 0,Yes, Yes,Arm Bar, Handcuffing\n",
      "df_2013: 0,No, Yes,Verbal Command, Weapon display at Person\n",
      "df_2013: 0,No, Yes,Arm Bar, OC Spray\n",
      "df_2013: 0,Yes, Yes,Team Take Down, Stacked Weight\n",
      "df_2013: 0,No, Yes, Yes,BD - Grabbed, Take Down - Head, Feet/Leg/Knee Strike\n",
      "df_2013: 0,Yes, Yes, Yes,Arm Take Down, Balance Displacement, Feet/Legs\n",
      "df_2013: 0,No, No, Yes,Verbal Command, Verbal Command, Arm Bar\n",
      "df_2013: 0,No, Yes,Verbal Command, Handcuffing\n"
     ]
    }
   ],
   "source": [
    "# seeing if length of comma-separated values in records are the same across fields\n",
    "for n, df in enumerate(dfs):\n",
    "    for x, y, z in zip(df.uofnum, df.forceeffec, df.forcetype):\n",
    "        if len(str(x).split(\",\")) == len(str(y).split(\",\")) and len(str(y).split(\",\")) == len(str(z).split(\",\")):\n",
    "            pass\n",
    "        else:\n",
    "            print(f\"{years[n]}: {x},{y},{z}\")"
   ]
  },
  {
   "cell_type": "markdown",
   "metadata": {},
   "source": [
    "<br>So we're good across all dataframes with the exception of these records from 2013 where the UOFnum equals 0. Perhaps these should be dropped since they are a relatively insignificant number?"
   ]
  },
  {
   "cell_type": "code",
   "execution_count": 183,
   "metadata": {},
   "outputs": [],
   "source": [
    "df_2013 = df_2013[df_2013.uofnum != \"0\"]\n",
    "df_2013.reset_index(drop=True, inplace=True)"
   ]
  },
  {
   "cell_type": "code",
   "execution_count": 184,
   "metadata": {},
   "outputs": [],
   "source": [
    "# 2014 has one value at the very end of uofnum that is nan; removing it\n",
    "df_2014.drop(index=3395, inplace=True)"
   ]
  },
  {
   "cell_type": "code",
   "execution_count": 191,
   "metadata": {},
   "outputs": [],
   "source": [
    "def expand_record(record, lst_appnd):\n",
    "    global commas\n",
    "    global n\n",
    "    commas = False\n",
    "    if \",\" in record:\n",
    "        x = record.split(\",\")\n",
    "        for y in x:\n",
    "            lst_appnd.append(y.lstrip())\n",
    "        commas = True\n",
    "        n = len(x)\n",
    "    else:\n",
    "        lst_appnd.append(record.lstrip())"
   ]
  },
  {
   "cell_type": "code",
   "execution_count": 199,
   "metadata": {
    "scrolled": true
   },
   "outputs": [],
   "source": [
    "dfs = [df_2019,df_2018,df_2017,df_2016,df_2015,df_2014,df_2013] #dfs have been changed\n",
    "objectid = []\n",
    "filenum = []\n",
    "uofnum = []\n",
    "forceeffec = []\n",
    "forcetype = []\n",
    "for df in dfs:\n",
    "    for objid, fno, uof, foreffc, fortyp in zip(df.objectid, df.filenum, df.uofnum, \n",
    "                                               df.forceeffec, df.forcetype):\n",
    "        expand_record(uof, uofnum)\n",
    "        if commas == True:\n",
    "            for nn in range(n):\n",
    "                objectid.append(objid)\n",
    "                filenum.append(fno)\n",
    "            commas = False\n",
    "        else:\n",
    "            filenum.append(fno)\n",
    "            objectid.append(objid)\n",
    "        expand_record(foreffc, forceeffec)\n",
    "        expand_record(fortyp, forcetype)"
   ]
  },
  {
   "cell_type": "code",
   "execution_count": 200,
   "metadata": {},
   "outputs": [
    {
     "data": {
      "text/html": [
       "<div>\n",
       "<style scoped>\n",
       "    .dataframe tbody tr th:only-of-type {\n",
       "        vertical-align: middle;\n",
       "    }\n",
       "\n",
       "    .dataframe tbody tr th {\n",
       "        vertical-align: top;\n",
       "    }\n",
       "\n",
       "    .dataframe thead th {\n",
       "        text-align: right;\n",
       "    }\n",
       "</style>\n",
       "<table border=\"1\" class=\"dataframe\">\n",
       "  <thead>\n",
       "    <tr style=\"text-align: right;\">\n",
       "      <th></th>\n",
       "      <th>objectid</th>\n",
       "      <th>filenum</th>\n",
       "      <th>uofnum</th>\n",
       "      <th>forceeffec</th>\n",
       "      <th>forcetype</th>\n",
       "    </tr>\n",
       "  </thead>\n",
       "  <tbody>\n",
       "    <tr>\n",
       "      <td>0</td>\n",
       "      <td>2817</td>\n",
       "      <td>UF2019-1702</td>\n",
       "      <td>62295</td>\n",
       "      <td>Yes</td>\n",
       "      <td>BD - Tripped</td>\n",
       "    </tr>\n",
       "    <tr>\n",
       "      <td>1</td>\n",
       "      <td>2817</td>\n",
       "      <td>UF2019-1702</td>\n",
       "      <td>63542</td>\n",
       "      <td>Yes</td>\n",
       "      <td>BD - Grabbed</td>\n",
       "    </tr>\n",
       "    <tr>\n",
       "      <td>2</td>\n",
       "      <td>2234</td>\n",
       "      <td>UF2019-1344</td>\n",
       "      <td>61093</td>\n",
       "      <td>Yes</td>\n",
       "      <td>Held Suspect Down</td>\n",
       "    </tr>\n",
       "    <tr>\n",
       "      <td>3</td>\n",
       "      <td>2755</td>\n",
       "      <td>UF2019-1665</td>\n",
       "      <td>62820</td>\n",
       "      <td>Yes</td>\n",
       "      <td>K-9 Deployment</td>\n",
       "    </tr>\n",
       "    <tr>\n",
       "      <td>4</td>\n",
       "      <td>2110</td>\n",
       "      <td>UF2019-1314</td>\n",
       "      <td>60990</td>\n",
       "      <td>Yes</td>\n",
       "      <td>Joint Locks</td>\n",
       "    </tr>\n",
       "    <tr>\n",
       "      <td>...</td>\n",
       "      <td>...</td>\n",
       "      <td>...</td>\n",
       "      <td>...</td>\n",
       "      <td>...</td>\n",
       "      <td>...</td>\n",
       "    </tr>\n",
       "    <tr>\n",
       "      <td>43043</td>\n",
       "      <td>4015</td>\n",
       "      <td>UF2013-02851</td>\n",
       "      <td>5354</td>\n",
       "      <td>No</td>\n",
       "      <td>Weapon display at Person</td>\n",
       "    </tr>\n",
       "    <tr>\n",
       "      <td>43044</td>\n",
       "      <td>4015</td>\n",
       "      <td>UF2013-02851</td>\n",
       "      <td>5357</td>\n",
       "      <td>Yes</td>\n",
       "      <td>Joint Locks</td>\n",
       "    </tr>\n",
       "    <tr>\n",
       "      <td>43045</td>\n",
       "      <td>4015</td>\n",
       "      <td>UF2013-02851</td>\n",
       "      <td>5359</td>\n",
       "      <td>Yes</td>\n",
       "      <td>Handcuffing</td>\n",
       "    </tr>\n",
       "    <tr>\n",
       "      <td>43046</td>\n",
       "      <td>4015</td>\n",
       "      <td>UF2013-02851</td>\n",
       "      <td>5361</td>\n",
       "      <td>No</td>\n",
       "      <td>Verbal Command</td>\n",
       "    </tr>\n",
       "    <tr>\n",
       "      <td>43047</td>\n",
       "      <td>4155</td>\n",
       "      <td>UF2014-0678</td>\n",
       "      <td>10786</td>\n",
       "      <td>Yes</td>\n",
       "      <td>Pressure Points</td>\n",
       "    </tr>\n",
       "  </tbody>\n",
       "</table>\n",
       "<p>43048 rows × 5 columns</p>\n",
       "</div>"
      ],
      "text/plain": [
       "      objectid       filenum uofnum forceeffec                 forcetype\n",
       "0         2817   UF2019-1702  62295        Yes              BD - Tripped\n",
       "1         2817   UF2019-1702  63542        Yes              BD - Grabbed\n",
       "2         2234   UF2019-1344  61093        Yes         Held Suspect Down\n",
       "3         2755   UF2019-1665  62820        Yes            K-9 Deployment\n",
       "4         2110   UF2019-1314  60990        Yes               Joint Locks\n",
       "...        ...           ...    ...        ...                       ...\n",
       "43043     4015  UF2013-02851   5354         No  Weapon display at Person\n",
       "43044     4015  UF2013-02851   5357        Yes               Joint Locks\n",
       "43045     4015  UF2013-02851   5359        Yes               Handcuffing\n",
       "43046     4015  UF2013-02851   5361         No            Verbal Command\n",
       "43047     4155   UF2014-0678  10786        Yes           Pressure Points\n",
       "\n",
       "[43048 rows x 5 columns]"
      ]
     },
     "execution_count": 200,
     "metadata": {},
     "output_type": "execute_result"
    }
   ],
   "source": [
    "data = {'objectid':objectid, 'filenum':filenum, 'uofnum':uofnum, \n",
    "        'forceeffec':forceeffec, 'forcetype':forcetype}\n",
    "table1 = pd.DataFrame(data)\n",
    "table1"
   ]
  },
  {
   "cell_type": "code",
   "execution_count": 201,
   "metadata": {},
   "outputs": [
    {
     "data": {
      "text/plain": [
       "Verbal Command              8922\n",
       "Held Suspect Down           4846\n",
       "Weapon display at Person    4779\n",
       "BD - Grabbed                2606\n",
       "Joint Locks                 2499\n",
       "Take Down - Arm             1960\n",
       "Hand Controlled Escort      1702\n",
       "Take Down - Body            1539\n",
       "Taser                       1369\n",
       "Handcuffing Take Down       1021\n",
       "BD - Pushed                 1001\n",
       "Taser Display at Person      924\n",
       "Hand/Arm/Elbow Strike        875\n",
       "Foot Pursuit                 814\n",
       "Pressure Points              795\n",
       "Balance Displacement         724\n",
       "Handcuffing                  701\n",
       "Feet/Leg/Knee Strike         609\n",
       "OC Spray                     567\n",
       "Hand Control Technique       523\n",
       "Stacked Weight               459\n",
       "Arm Bar                      439\n",
       "Hands/Arms                   389\n",
       "BD - Tripped                 373\n",
       "Take Down - Group            331\n",
       "Take Down - Head             299\n",
       "Leg Restraint System         269\n",
       "Other                        238\n",
       "Feet/Legs Strike             237\n",
       "Hand/Arm Strike              209\n",
       "Team Take Down               196\n",
       "Arm Take Down                190\n",
       "Feet/Legs                    112\n",
       "K-9 Deployment               104\n",
       "Body Take Down                71\n",
       "Baton Strike/Open Mode        54\n",
       "Attempted Take Down           45\n",
       "Combat Stance                 33\n",
       "40mm Less Lethal              30\n",
       "Iron Wrist Take down          26\n",
       "Other Impact Weapon           25\n",
       "Baton Display                 25\n",
       "Bar Hammer                    20\n",
       "Pepperball Saturation         18\n",
       "Mach 1                        17\n",
       "Head Take Down                14\n",
       "Baton Strike/Closed Mode      13\n",
       "LVNR                           9\n",
       "Mach 2                         7\n",
       "Pepperball Impact              6\n",
       "Mach 3                         4\n",
       "Vehicle Pursuit                3\n",
       "Head Butt                      3\n",
       "Deadly Force/Firearm           2\n",
       "Mach 4                         1\n",
       "Hand/Arm/Elbow S               1\n",
       "Name: forcetype, dtype: int64"
      ]
     },
     "execution_count": 201,
     "metadata": {},
     "output_type": "execute_result"
    }
   ],
   "source": [
    "table1.forcetype.value_counts()"
   ]
  },
  {
   "cell_type": "code",
   "execution_count": null,
   "metadata": {},
   "outputs": [],
   "source": []
  },
  {
   "cell_type": "code",
   "execution_count": null,
   "metadata": {},
   "outputs": [],
   "source": []
  },
  {
   "cell_type": "markdown",
   "metadata": {},
   "source": [
    "### Misc. exploration"
   ]
  },
  {
   "cell_type": "code",
   "execution_count": 4,
   "metadata": {},
   "outputs": [
    {
     "data": {
      "text/plain": [
       "Black           0.539917\n",
       "Hispanic        0.226084\n",
       "White           0.220234\n",
       "Asian           0.006194\n",
       "Other           0.003785\n",
       "American Ind    0.002409\n",
       "Unknown         0.001376\n",
       "Name: CitRace, dtype: float64"
      ]
     },
     "execution_count": 4,
     "metadata": {},
     "output_type": "execute_result"
    }
   ],
   "source": [
    "df_2019.CitRace.value_counts(normalize=True)"
   ]
  },
  {
   "cell_type": "code",
   "execution_count": 5,
   "metadata": {},
   "outputs": [
    {
     "data": {
      "text/plain": [
       "False    2259\n",
       "True      685\n",
       "Name: CIT_INJURE, dtype: int64"
      ]
     },
     "execution_count": 5,
     "metadata": {},
     "output_type": "execute_result"
    }
   ],
   "source": [
    "df_2019.CIT_INJURE.value_counts()"
   ]
  },
  {
   "cell_type": "code",
   "execution_count": 6,
   "metadata": {},
   "outputs": [],
   "source": [
    "freq = []\n",
    "for x in df_2019.forcetype:\n",
    "    if \",\" in x:\n",
    "        y = x.split(\",\")\n",
    "        for z in y:\n",
    "            freq.append(z.lstrip())\n",
    "    else:\n",
    "        freq.append(x)"
   ]
  },
  {
   "cell_type": "code",
   "execution_count": 7,
   "metadata": {},
   "outputs": [],
   "source": [
    "freq_dict = (pd.Series(freq).value_counts()).to_dict()"
   ]
  },
  {
   "cell_type": "code",
   "execution_count": 8,
   "metadata": {},
   "outputs": [
    {
     "data": {
      "text/plain": [
       "{'Verbal Command': 1235,\n",
       " 'Held Suspect Down': 848,\n",
       " 'Foot Pursuit': 693,\n",
       " 'Weapon display at Person': 548,\n",
       " 'BD - Grabbed': 481,\n",
       " 'Take Down - Body': 303,\n",
       " 'Joint Locks': 297,\n",
       " 'Hand Controlled Escort': 268,\n",
       " 'Take Down - Arm': 262,\n",
       " 'Taser': 195,\n",
       " 'BD - Pushed': 168,\n",
       " 'Hand/Arm/Elbow Strike': 161,\n",
       " 'Taser Display at Person': 159,\n",
       " 'Handcuffing Take Down': 145,\n",
       " 'Feet/Leg/Knee Strike': 105,\n",
       " 'Pressure Points': 79,\n",
       " 'BD - Tripped': 77,\n",
       " 'Take Down - Head': 53,\n",
       " 'Take Down - Group': 49,\n",
       " 'OC Spray': 40,\n",
       " 'Leg Restraint System': 33,\n",
       " 'K-9 Deployment': 20,\n",
       " '40mm Less Lethal': 11,\n",
       " 'Other Impact Weapon': 5,\n",
       " 'Combat Stance': 5,\n",
       " 'LVNR': 4,\n",
       " 'Baton Strike/Open Mode': 3,\n",
       " 'Baton Display': 3,\n",
       " 'Pepperball Impact': 2,\n",
       " 'Vehicle Pursuit': 2,\n",
       " 'Pepperball Saturation': 1,\n",
       " 'Head Butt': 1}"
      ]
     },
     "execution_count": 8,
     "metadata": {},
     "output_type": "execute_result"
    }
   ],
   "source": [
    "freq_dict"
   ]
  },
  {
   "cell_type": "code",
   "execution_count": 23,
   "metadata": {},
   "outputs": [
    {
     "data": {
      "text/plain": [
       "Arrest                      0.496765\n",
       "Active Aggression           0.129384\n",
       "Detention/Frisk             0.123936\n",
       "Danger to self or others    0.090909\n",
       "Weapon Display              0.071161\n",
       "Other                       0.060947\n",
       "Assault to Other Person     0.017024\n",
       "Crowd Disbursement          0.005448\n",
       "Barricaded Person           0.003064\n",
       "Property Destruction        0.001362\n",
       "Name: UOF_REASON, dtype: float64"
      ]
     },
     "execution_count": 23,
     "metadata": {},
     "output_type": "execute_result"
    }
   ],
   "source": [
    "df_2019.UOF_REASON.value_counts(normalize=True)"
   ]
  },
  {
   "cell_type": "code",
   "execution_count": 22,
   "metadata": {},
   "outputs": [
    {
     "data": {
      "text/plain": [
       "D2     0.131741\n",
       "D7     0.121160\n",
       "D14    0.113993\n",
       "D6     0.078498\n",
       "D1     0.074403\n",
       "D10    0.071672\n",
       "D4     0.065188\n",
       "D9     0.065188\n",
       "D8     0.057679\n",
       "D11    0.056997\n",
       "D5     0.049147\n",
       "D12    0.041297\n",
       "D13    0.040956\n",
       "D3     0.032082\n",
       "Name: Council District, dtype: float64"
      ]
     },
     "execution_count": 22,
     "metadata": {},
     "output_type": "execute_result"
    }
   ],
   "source": [
    "df_2019['Council District'].value_counts(normalize=True)"
   ]
  },
  {
   "cell_type": "code",
   "execution_count": 24,
   "metadata": {},
   "outputs": [
    {
     "data": {
      "text/plain": [
       "White           1703\n",
       "Hispanic         737\n",
       "Black            351\n",
       "Asian            107\n",
       "Other             27\n",
       "American Ind      19\n",
       "Name: OffRace, dtype: int64"
      ]
     },
     "execution_count": 24,
     "metadata": {},
     "output_type": "execute_result"
    }
   ],
   "source": [
    "df_2019.OffRace.value_counts()"
   ]
  },
  {
   "cell_type": "code",
   "execution_count": 43,
   "metadata": {},
   "outputs": [],
   "source": [
    "df_2019.HIRE_DT = pd_2019.to_datetime(df.HIRE_DT)"
   ]
  },
  {
   "cell_type": "code",
   "execution_count": 49,
   "metadata": {},
   "outputs": [
    {
     "data": {
      "text/html": [
       "<div>\n",
       "<style scoped>\n",
       "    .dataframe tbody tr th:only-of-type {\n",
       "        vertical-align: middle;\n",
       "    }\n",
       "\n",
       "    .dataframe tbody tr th {\n",
       "        vertical-align: top;\n",
       "    }\n",
       "\n",
       "    .dataframe thead th {\n",
       "        text-align: right;\n",
       "    }\n",
       "</style>\n",
       "<table border=\"1\" class=\"dataframe\">\n",
       "  <thead>\n",
       "    <tr style=\"text-align: right;\">\n",
       "      <th></th>\n",
       "      <th>HIRE_DT</th>\n",
       "      <th>OffRace</th>\n",
       "    </tr>\n",
       "  </thead>\n",
       "  <tbody>\n",
       "    <tr>\n",
       "      <td>0</td>\n",
       "      <td>2017-03-08</td>\n",
       "      <td>White</td>\n",
       "    </tr>\n",
       "    <tr>\n",
       "      <td>1</td>\n",
       "      <td>2016-08-24</td>\n",
       "      <td>White</td>\n",
       "    </tr>\n",
       "    <tr>\n",
       "      <td>2</td>\n",
       "      <td>2008-04-02</td>\n",
       "      <td>White</td>\n",
       "    </tr>\n",
       "    <tr>\n",
       "      <td>3</td>\n",
       "      <td>2009-06-10</td>\n",
       "      <td>Hispanic</td>\n",
       "    </tr>\n",
       "    <tr>\n",
       "      <td>4</td>\n",
       "      <td>2012-09-26</td>\n",
       "      <td>Hispanic</td>\n",
       "    </tr>\n",
       "    <tr>\n",
       "      <td>...</td>\n",
       "      <td>...</td>\n",
       "      <td>...</td>\n",
       "    </tr>\n",
       "    <tr>\n",
       "      <td>2939</td>\n",
       "      <td>1990-11-26</td>\n",
       "      <td>White</td>\n",
       "    </tr>\n",
       "    <tr>\n",
       "      <td>2940</td>\n",
       "      <td>1991-07-29</td>\n",
       "      <td>Black</td>\n",
       "    </tr>\n",
       "    <tr>\n",
       "      <td>2941</td>\n",
       "      <td>2003-08-18</td>\n",
       "      <td>White</td>\n",
       "    </tr>\n",
       "    <tr>\n",
       "      <td>2942</td>\n",
       "      <td>2004-06-04</td>\n",
       "      <td>White</td>\n",
       "    </tr>\n",
       "    <tr>\n",
       "      <td>2943</td>\n",
       "      <td>2012-06-20</td>\n",
       "      <td>White</td>\n",
       "    </tr>\n",
       "  </tbody>\n",
       "</table>\n",
       "<p>2944 rows × 2 columns</p>\n",
       "</div>"
      ],
      "text/plain": [
       "        HIRE_DT   OffRace\n",
       "0    2017-03-08     White\n",
       "1    2016-08-24     White\n",
       "2    2008-04-02     White\n",
       "3    2009-06-10  Hispanic\n",
       "4    2012-09-26  Hispanic\n",
       "...         ...       ...\n",
       "2939 1990-11-26     White\n",
       "2940 1991-07-29     Black\n",
       "2941 2003-08-18     White\n",
       "2942 2004-06-04     White\n",
       "2943 2012-06-20     White\n",
       "\n",
       "[2944 rows x 2 columns]"
      ]
     },
     "execution_count": 49,
     "metadata": {},
     "output_type": "execute_result"
    }
   ],
   "source": [
    "df_2019[['HIRE_DT', 'OffRace']]"
   ]
  },
  {
   "cell_type": "code",
   "execution_count": 50,
   "metadata": {},
   "outputs": [
    {
     "data": {
      "image/png": "[encoded data removed]",
      "text/plain": [
       "<Figure size 432x288 with 1 Axes>"
      ]
     },
     "metadata": {
      "needs_background": "light"
     },
     "output_type": "display_data"
    }
   ],
   "source": [
    "df_2019.HIRE_DT.hist();"
   ]
  },
  {
   "cell_type": "code",
   "execution_count": null,
   "metadata": {},
   "outputs": [],
   "source": []
  }
 ],
 "metadata": {
  "kernelspec": {
   "display_name": "Python 3",
   "language": "python",
   "name": "python3"
  },
  "language_info": {
   "codemirror_mode": {
    "name": "ipython",
    "version": 3
   },
   "file_extension": ".py",
   "mimetype": "text/x-python",
   "name": "python",
   "nbconvert_exporter": "python",
   "pygments_lexer": "ipython3",
   "version": "3.7.4"
  }
 },
 "nbformat": 4,
 "nbformat_minor": 2
}
