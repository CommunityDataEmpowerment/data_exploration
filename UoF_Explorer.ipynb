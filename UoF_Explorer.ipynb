{
 "cells": [
  {
   "cell_type": "code",
   "execution_count": 1,
   "metadata": {},
   "outputs": [
    {
     "name": "stderr",
     "output_type": "stream",
     "text": [
      "/opt/anaconda3/lib/python3.7/importlib/_bootstrap.py:219: RuntimeWarning: numpy.ufunc size changed, may indicate binary incompatibility. Expected 192 from C header, got 216 from PyObject\n",
      "  return f(*args, **kwds)\n"
     ]
    }
   ],
   "source": [
    "import pandas as pd\n",
    "import matplotlib.pyplot as plt\n",
    "%matplotlib inline"
   ]
  },
  {
   "cell_type": "code",
   "execution_count": 2,
   "metadata": {},
   "outputs": [],
   "source": [
    "df = pd.read_csv('data/Police_Response_to_Resistance_-_2016.csv')"
   ]
  },
  {
   "cell_type": "code",
   "execution_count": 18,
   "metadata": {},
   "outputs": [
    {
     "data": {
      "text/html": [
       "<div>\n",
       "<style scoped>\n",
       "    .dataframe tbody tr th:only-of-type {\n",
       "        vertical-align: middle;\n",
       "    }\n",
       "\n",
       "    .dataframe tbody tr th {\n",
       "        vertical-align: top;\n",
       "    }\n",
       "\n",
       "    .dataframe thead th {\n",
       "        text-align: right;\n",
       "    }\n",
       "</style>\n",
       "<table border=\"1\" class=\"dataframe\">\n",
       "  <thead>\n",
       "    <tr style=\"text-align: right;\">\n",
       "      <th></th>\n",
       "      <th>OBJECTID</th>\n",
       "      <th>FILENUM</th>\n",
       "      <th>UOFNum</th>\n",
       "      <th>Address</th>\n",
       "      <th>OCCURRED_D</th>\n",
       "      <th>OCCURRED_T</th>\n",
       "      <th>CURRENT_BA</th>\n",
       "      <th>OffSex</th>\n",
       "      <th>OffRace</th>\n",
       "      <th>HIRE_DT</th>\n",
       "      <th>...</th>\n",
       "      <th>CitChargeT</th>\n",
       "      <th>RA</th>\n",
       "      <th>BEAT</th>\n",
       "      <th>SECTOR</th>\n",
       "      <th>DIVISION</th>\n",
       "      <th>DIST_NAME</th>\n",
       "      <th>TAAG_Name</th>\n",
       "      <th>X</th>\n",
       "      <th>Y</th>\n",
       "      <th>GeoLocation</th>\n",
       "    </tr>\n",
       "  </thead>\n",
       "  <tbody>\n",
       "    <tr>\n",
       "      <td>0</td>\n",
       "      <td>609</td>\n",
       "      <td>UF2016-1185</td>\n",
       "      <td>[37702]</td>\n",
       "      <td>211 N ERVAY ST</td>\n",
       "      <td>09/03/2016</td>\n",
       "      <td>4:14:00 AM</td>\n",
       "      <td>10810</td>\n",
       "      <td>Male</td>\n",
       "      <td>Black</td>\n",
       "      <td>05/07/2014</td>\n",
       "      <td>...</td>\n",
       "      <td>APOWW</td>\n",
       "      <td>2062</td>\n",
       "      <td>134</td>\n",
       "      <td>130</td>\n",
       "      <td>CENTRAL</td>\n",
       "      <td>D14</td>\n",
       "      <td></td>\n",
       "      <td>NaN</td>\n",
       "      <td>NaN</td>\n",
       "      <td>211 N ERVAY ST\\nDallas, TX\\n(32.782205, -96.79...</td>\n",
       "    </tr>\n",
       "    <tr>\n",
       "      <td>1</td>\n",
       "      <td>1,705</td>\n",
       "      <td>UF2016-0418</td>\n",
       "      <td>[33413]</td>\n",
       "      <td>7647 FERGUSON RD</td>\n",
       "      <td>03/22/2016</td>\n",
       "      <td>11:00:00 PM</td>\n",
       "      <td>7706</td>\n",
       "      <td>Male</td>\n",
       "      <td>White</td>\n",
       "      <td>01/08/1999</td>\n",
       "      <td>...</td>\n",
       "      <td>APOWW</td>\n",
       "      <td>1197</td>\n",
       "      <td>237</td>\n",
       "      <td>230</td>\n",
       "      <td>NORTHEAST</td>\n",
       "      <td>D9</td>\n",
       "      <td>Ferguson Highland*</td>\n",
       "      <td>NaN</td>\n",
       "      <td>NaN</td>\n",
       "      <td>7647 FERGUSON RD\\nDallas, TX\\n(32.798978, -96....</td>\n",
       "    </tr>\n",
       "    <tr>\n",
       "      <td>2</td>\n",
       "      <td>1,239</td>\n",
       "      <td>UF2016-0616</td>\n",
       "      <td>[34567]</td>\n",
       "      <td>716 BIMEBELLA LN</td>\n",
       "      <td>05/22/2016</td>\n",
       "      <td>1:29:00 PM</td>\n",
       "      <td>11014</td>\n",
       "      <td>Male</td>\n",
       "      <td>Black</td>\n",
       "      <td>05/20/2015</td>\n",
       "      <td>...</td>\n",
       "      <td>APOWW</td>\n",
       "      <td>4153</td>\n",
       "      <td>432</td>\n",
       "      <td>430</td>\n",
       "      <td>SOUTHWEST</td>\n",
       "      <td>D6</td>\n",
       "      <td></td>\n",
       "      <td>NaN</td>\n",
       "      <td>NaN</td>\n",
       "      <td>716 BIMEBELLA LN\\nDallas, TX\\n(32.73971, -96.9...</td>\n",
       "    </tr>\n",
       "    <tr>\n",
       "      <td>3</td>\n",
       "      <td>2,320</td>\n",
       "      <td>UF2016-1349</td>\n",
       "      <td>[31460]</td>\n",
       "      <td>5600 L B J FWY</td>\n",
       "      <td>01/10/2016</td>\n",
       "      <td>8:55:00 PM</td>\n",
       "      <td>6692</td>\n",
       "      <td>Male</td>\n",
       "      <td>Black</td>\n",
       "      <td>07/29/1991</td>\n",
       "      <td>...</td>\n",
       "      <td>Evading Arrest</td>\n",
       "      <td>4523</td>\n",
       "      <td>641</td>\n",
       "      <td>640</td>\n",
       "      <td>NORTH CENTRAL</td>\n",
       "      <td>D11</td>\n",
       "      <td></td>\n",
       "      <td>NaN</td>\n",
       "      <td>NaN</td>\n",
       "      <td>5600 L B J FWY\\nDallas, TX</td>\n",
       "    </tr>\n",
       "    <tr>\n",
       "      <td>4</td>\n",
       "      <td>221</td>\n",
       "      <td>UF2016-1303</td>\n",
       "      <td>[37879,  37898]</td>\n",
       "      <td>4600 S MALCOLM X BLVD</td>\n",
       "      <td>11/08/2016</td>\n",
       "      <td>2:30:00 AM</td>\n",
       "      <td>9844</td>\n",
       "      <td>Male</td>\n",
       "      <td>White</td>\n",
       "      <td>10/04/2009</td>\n",
       "      <td>...</td>\n",
       "      <td>Other Misdemeanor Arrest</td>\n",
       "      <td>2167</td>\n",
       "      <td>346</td>\n",
       "      <td>340</td>\n",
       "      <td>SOUTHEAST</td>\n",
       "      <td>D7</td>\n",
       "      <td>Hatcher Scyene*</td>\n",
       "      <td>NaN</td>\n",
       "      <td>NaN</td>\n",
       "      <td>4600 S MALCOLM X BLVD\\nDallas, TX</td>\n",
       "    </tr>\n",
       "  </tbody>\n",
       "</table>\n",
       "<p>5 rows × 39 columns</p>\n",
       "</div>"
      ],
      "text/plain": [
       "  OBJECTID      FILENUM           UOFNum                Address  OCCURRED_D  \\\n",
       "0      609  UF2016-1185          [37702]         211 N ERVAY ST  09/03/2016   \n",
       "1    1,705  UF2016-0418          [33413]       7647 FERGUSON RD  03/22/2016   \n",
       "2    1,239  UF2016-0616          [34567]       716 BIMEBELLA LN  05/22/2016   \n",
       "3    2,320  UF2016-1349          [31460]         5600 L B J FWY  01/10/2016   \n",
       "4      221  UF2016-1303  [37879,  37898]  4600 S MALCOLM X BLVD  11/08/2016   \n",
       "\n",
       "    OCCURRED_T  CURRENT_BA OffSex OffRace     HIRE_DT  ...  \\\n",
       "0   4:14:00 AM       10810   Male   Black  05/07/2014  ...   \n",
       "1  11:00:00 PM        7706   Male   White  01/08/1999  ...   \n",
       "2   1:29:00 PM       11014   Male   Black  05/20/2015  ...   \n",
       "3   8:55:00 PM        6692   Male   Black  07/29/1991  ...   \n",
       "4   2:30:00 AM        9844   Male   White  10/04/2009  ...   \n",
       "\n",
       "                  CitChargeT    RA BEAT SECTOR       DIVISION DIST_NAME  \\\n",
       "0                      APOWW  2062  134    130        CENTRAL       D14   \n",
       "1                      APOWW  1197  237    230      NORTHEAST        D9   \n",
       "2                      APOWW  4153  432    430      SOUTHWEST        D6   \n",
       "3             Evading Arrest  4523  641    640  NORTH CENTRAL       D11   \n",
       "4   Other Misdemeanor Arrest  2167  346    340      SOUTHEAST        D7   \n",
       "\n",
       "            TAAG_Name   X   Y  \\\n",
       "0                     NaN NaN   \n",
       "1  Ferguson Highland* NaN NaN   \n",
       "2                     NaN NaN   \n",
       "3                     NaN NaN   \n",
       "4     Hatcher Scyene* NaN NaN   \n",
       "\n",
       "                                         GeoLocation  \n",
       "0  211 N ERVAY ST\\nDallas, TX\\n(32.782205, -96.79...  \n",
       "1  7647 FERGUSON RD\\nDallas, TX\\n(32.798978, -96....  \n",
       "2  716 BIMEBELLA LN\\nDallas, TX\\n(32.73971, -96.9...  \n",
       "3                         5600 L B J FWY\\nDallas, TX  \n",
       "4                  4600 S MALCOLM X BLVD\\nDallas, TX  \n",
       "\n",
       "[5 rows x 39 columns]"
      ]
     },
     "execution_count": 18,
     "metadata": {},
     "output_type": "execute_result"
    }
   ],
   "source": [
    "df.head()"
   ]
  },
  {
   "cell_type": "code",
   "execution_count": 4,
   "metadata": {},
   "outputs": [],
   "source": [
    "import ast"
   ]
  },
  {
   "cell_type": "code",
   "execution_count": 17,
   "metadata": {},
   "outputs": [],
   "source": [
    "df.UOFNum = df.UOFNum.apply(lambda x:x.lstrip().split(','))"
   ]
  },
  {
   "cell_type": "code",
   "execution_count": 15,
   "metadata": {},
   "outputs": [
    {
     "data": {
      "text/plain": [
       "['31460']"
      ]
     },
     "execution_count": 15,
     "metadata": {},
     "output_type": "execute_result"
    }
   ],
   "source": [
    "df['UOFNum'][3].lstrip().split(',')"
   ]
  },
  {
   "cell_type": "code",
   "execution_count": 21,
   "metadata": {},
   "outputs": [
    {
     "data": {
      "text/plain": [
       "1"
      ]
     },
     "execution_count": 21,
     "metadata": {},
     "output_type": "execute_result"
    }
   ],
   "source": [
    "len(df.UOFNum[0])"
   ]
  },
  {
   "cell_type": "code",
   "execution_count": 25,
   "metadata": {},
   "outputs": [],
   "source": [
    "df['UOFLen'] = df.UOFNum.apply(lambda x:len(x))"
   ]
  },
  {
   "cell_type": "code",
   "execution_count": 26,
   "metadata": {},
   "outputs": [
    {
     "data": {
      "text/html": [
       "<div>\n",
       "<style scoped>\n",
       "    .dataframe tbody tr th:only-of-type {\n",
       "        vertical-align: middle;\n",
       "    }\n",
       "\n",
       "    .dataframe tbody tr th {\n",
       "        vertical-align: top;\n",
       "    }\n",
       "\n",
       "    .dataframe thead th {\n",
       "        text-align: right;\n",
       "    }\n",
       "</style>\n",
       "<table border=\"1\" class=\"dataframe\">\n",
       "  <thead>\n",
       "    <tr style=\"text-align: right;\">\n",
       "      <th></th>\n",
       "      <th>OBJECTID</th>\n",
       "      <th>FILENUM</th>\n",
       "      <th>UOFNum</th>\n",
       "      <th>Address</th>\n",
       "      <th>OCCURRED_D</th>\n",
       "      <th>OCCURRED_T</th>\n",
       "      <th>CURRENT_BA</th>\n",
       "      <th>OffSex</th>\n",
       "      <th>OffRace</th>\n",
       "      <th>HIRE_DT</th>\n",
       "      <th>...</th>\n",
       "      <th>RA</th>\n",
       "      <th>BEAT</th>\n",
       "      <th>SECTOR</th>\n",
       "      <th>DIVISION</th>\n",
       "      <th>DIST_NAME</th>\n",
       "      <th>TAAG_Name</th>\n",
       "      <th>X</th>\n",
       "      <th>Y</th>\n",
       "      <th>GeoLocation</th>\n",
       "      <th>UOFLen</th>\n",
       "    </tr>\n",
       "  </thead>\n",
       "  <tbody>\n",
       "    <tr>\n",
       "      <td>0</td>\n",
       "      <td>609</td>\n",
       "      <td>UF2016-1185</td>\n",
       "      <td>[37702]</td>\n",
       "      <td>211 N ERVAY ST</td>\n",
       "      <td>09/03/2016</td>\n",
       "      <td>4:14:00 AM</td>\n",
       "      <td>10810</td>\n",
       "      <td>Male</td>\n",
       "      <td>Black</td>\n",
       "      <td>05/07/2014</td>\n",
       "      <td>...</td>\n",
       "      <td>2062</td>\n",
       "      <td>134</td>\n",
       "      <td>130</td>\n",
       "      <td>CENTRAL</td>\n",
       "      <td>D14</td>\n",
       "      <td></td>\n",
       "      <td>NaN</td>\n",
       "      <td>NaN</td>\n",
       "      <td>211 N ERVAY ST\\nDallas, TX\\n(32.782205, -96.79...</td>\n",
       "      <td>1</td>\n",
       "    </tr>\n",
       "    <tr>\n",
       "      <td>1</td>\n",
       "      <td>1,705</td>\n",
       "      <td>UF2016-0418</td>\n",
       "      <td>[33413]</td>\n",
       "      <td>7647 FERGUSON RD</td>\n",
       "      <td>03/22/2016</td>\n",
       "      <td>11:00:00 PM</td>\n",
       "      <td>7706</td>\n",
       "      <td>Male</td>\n",
       "      <td>White</td>\n",
       "      <td>01/08/1999</td>\n",
       "      <td>...</td>\n",
       "      <td>1197</td>\n",
       "      <td>237</td>\n",
       "      <td>230</td>\n",
       "      <td>NORTHEAST</td>\n",
       "      <td>D9</td>\n",
       "      <td>Ferguson Highland*</td>\n",
       "      <td>NaN</td>\n",
       "      <td>NaN</td>\n",
       "      <td>7647 FERGUSON RD\\nDallas, TX\\n(32.798978, -96....</td>\n",
       "      <td>1</td>\n",
       "    </tr>\n",
       "    <tr>\n",
       "      <td>2</td>\n",
       "      <td>1,239</td>\n",
       "      <td>UF2016-0616</td>\n",
       "      <td>[34567]</td>\n",
       "      <td>716 BIMEBELLA LN</td>\n",
       "      <td>05/22/2016</td>\n",
       "      <td>1:29:00 PM</td>\n",
       "      <td>11014</td>\n",
       "      <td>Male</td>\n",
       "      <td>Black</td>\n",
       "      <td>05/20/2015</td>\n",
       "      <td>...</td>\n",
       "      <td>4153</td>\n",
       "      <td>432</td>\n",
       "      <td>430</td>\n",
       "      <td>SOUTHWEST</td>\n",
       "      <td>D6</td>\n",
       "      <td></td>\n",
       "      <td>NaN</td>\n",
       "      <td>NaN</td>\n",
       "      <td>716 BIMEBELLA LN\\nDallas, TX\\n(32.73971, -96.9...</td>\n",
       "      <td>1</td>\n",
       "    </tr>\n",
       "    <tr>\n",
       "      <td>3</td>\n",
       "      <td>2,320</td>\n",
       "      <td>UF2016-1349</td>\n",
       "      <td>[31460]</td>\n",
       "      <td>5600 L B J FWY</td>\n",
       "      <td>01/10/2016</td>\n",
       "      <td>8:55:00 PM</td>\n",
       "      <td>6692</td>\n",
       "      <td>Male</td>\n",
       "      <td>Black</td>\n",
       "      <td>07/29/1991</td>\n",
       "      <td>...</td>\n",
       "      <td>4523</td>\n",
       "      <td>641</td>\n",
       "      <td>640</td>\n",
       "      <td>NORTH CENTRAL</td>\n",
       "      <td>D11</td>\n",
       "      <td></td>\n",
       "      <td>NaN</td>\n",
       "      <td>NaN</td>\n",
       "      <td>5600 L B J FWY\\nDallas, TX</td>\n",
       "      <td>1</td>\n",
       "    </tr>\n",
       "    <tr>\n",
       "      <td>4</td>\n",
       "      <td>221</td>\n",
       "      <td>UF2016-1303</td>\n",
       "      <td>[37879,  37898]</td>\n",
       "      <td>4600 S MALCOLM X BLVD</td>\n",
       "      <td>11/08/2016</td>\n",
       "      <td>2:30:00 AM</td>\n",
       "      <td>9844</td>\n",
       "      <td>Male</td>\n",
       "      <td>White</td>\n",
       "      <td>10/04/2009</td>\n",
       "      <td>...</td>\n",
       "      <td>2167</td>\n",
       "      <td>346</td>\n",
       "      <td>340</td>\n",
       "      <td>SOUTHEAST</td>\n",
       "      <td>D7</td>\n",
       "      <td>Hatcher Scyene*</td>\n",
       "      <td>NaN</td>\n",
       "      <td>NaN</td>\n",
       "      <td>4600 S MALCOLM X BLVD\\nDallas, TX</td>\n",
       "      <td>2</td>\n",
       "    </tr>\n",
       "  </tbody>\n",
       "</table>\n",
       "<p>5 rows × 40 columns</p>\n",
       "</div>"
      ],
      "text/plain": [
       "  OBJECTID      FILENUM           UOFNum                Address  OCCURRED_D  \\\n",
       "0      609  UF2016-1185          [37702]         211 N ERVAY ST  09/03/2016   \n",
       "1    1,705  UF2016-0418          [33413]       7647 FERGUSON RD  03/22/2016   \n",
       "2    1,239  UF2016-0616          [34567]       716 BIMEBELLA LN  05/22/2016   \n",
       "3    2,320  UF2016-1349          [31460]         5600 L B J FWY  01/10/2016   \n",
       "4      221  UF2016-1303  [37879,  37898]  4600 S MALCOLM X BLVD  11/08/2016   \n",
       "\n",
       "    OCCURRED_T  CURRENT_BA OffSex OffRace     HIRE_DT  ...    RA BEAT SECTOR  \\\n",
       "0   4:14:00 AM       10810   Male   Black  05/07/2014  ...  2062  134    130   \n",
       "1  11:00:00 PM        7706   Male   White  01/08/1999  ...  1197  237    230   \n",
       "2   1:29:00 PM       11014   Male   Black  05/20/2015  ...  4153  432    430   \n",
       "3   8:55:00 PM        6692   Male   Black  07/29/1991  ...  4523  641    640   \n",
       "4   2:30:00 AM        9844   Male   White  10/04/2009  ...  2167  346    340   \n",
       "\n",
       "        DIVISION DIST_NAME           TAAG_Name   X   Y  \\\n",
       "0        CENTRAL       D14                     NaN NaN   \n",
       "1      NORTHEAST        D9  Ferguson Highland* NaN NaN   \n",
       "2      SOUTHWEST        D6                     NaN NaN   \n",
       "3  NORTH CENTRAL       D11                     NaN NaN   \n",
       "4      SOUTHEAST        D7     Hatcher Scyene* NaN NaN   \n",
       "\n",
       "                                         GeoLocation UOFLen  \n",
       "0  211 N ERVAY ST\\nDallas, TX\\n(32.782205, -96.79...      1  \n",
       "1  7647 FERGUSON RD\\nDallas, TX\\n(32.798978, -96....      1  \n",
       "2  716 BIMEBELLA LN\\nDallas, TX\\n(32.73971, -96.9...      1  \n",
       "3                         5600 L B J FWY\\nDallas, TX      1  \n",
       "4                  4600 S MALCOLM X BLVD\\nDallas, TX      2  \n",
       "\n",
       "[5 rows x 40 columns]"
      ]
     },
     "execution_count": 26,
     "metadata": {},
     "output_type": "execute_result"
    }
   ],
   "source": [
    "df.head()"
   ]
  },
  {
   "cell_type": "code",
   "execution_count": 27,
   "metadata": {},
   "outputs": [
    {
     "data": {
      "text/plain": [
       "2.0"
      ]
     },
     "execution_count": 27,
     "metadata": {},
     "output_type": "execute_result"
    }
   ],
   "source": [
    "df.UOFLen.median()"
   ]
  },
  {
   "cell_type": "code",
   "execution_count": 28,
   "metadata": {},
   "outputs": [
    {
     "data": {
      "text/plain": [
       "2.318925723877465"
      ]
     },
     "execution_count": 28,
     "metadata": {},
     "output_type": "execute_result"
    }
   ],
   "source": [
    "df.UOFLen.mean()"
   ]
  },
  {
   "cell_type": "code",
   "execution_count": 32,
   "metadata": {},
   "outputs": [
    {
     "data": {
      "text/plain": [
       "3.0"
      ]
     },
     "execution_count": 32,
     "metadata": {},
     "output_type": "execute_result"
    }
   ],
   "source": [
    "df[df.CURRENT_BA == 10724].UOFLen.median()"
   ]
  },
  {
   "cell_type": "code",
   "execution_count": 33,
   "metadata": {},
   "outputs": [
    {
     "data": {
      "text/plain": [
       "3.8"
      ]
     },
     "execution_count": 33,
     "metadata": {},
     "output_type": "execute_result"
    }
   ],
   "source": [
    "df[df.CURRENT_BA == 10724].UOFLen.mean()"
   ]
  },
  {
   "cell_type": "code",
   "execution_count": 34,
   "metadata": {},
   "outputs": [
    {
     "data": {
      "text/plain": [
       "Index(['OBJECTID', 'FILENUM', 'UOFNum', 'Address', 'OCCURRED_D', 'OCCURRED_T',\n",
       "       'CURRENT_BA', 'OffSex', 'OffRace', 'HIRE_DT', 'OFF_INJURE',\n",
       "       'OffCondTyp', 'OFF_HOSPIT', 'SERVICE_TY', 'ForceType', 'UOF_REASON',\n",
       "       'Cycles_Num', 'ForceEffec', 'STREET_N', 'STREET', 'street_g',\n",
       "       'street_t', 'CitNum', 'CitRace', 'CitSex', 'CIT_INJURE', 'CitCondTyp',\n",
       "       'CIT_ARREST', 'CIT_INFL_A', 'CitChargeT', 'RA', 'BEAT', 'SECTOR',\n",
       "       'DIVISION', 'DIST_NAME', 'TAAG_Name', 'X', 'Y', 'GeoLocation',\n",
       "       'UOFLen'],\n",
       "      dtype='object')"
      ]
     },
     "execution_count": 34,
     "metadata": {},
     "output_type": "execute_result"
    }
   ],
   "source": [
    "df.columns"
   ]
  },
  {
   "cell_type": "code",
   "execution_count": 36,
   "metadata": {},
   "outputs": [],
   "source": [
    "# df.UOFNum = df.UOFNum.apply(lambda x:x.lstrip().split(','))\n",
    "df.ForceType = df.ForceType.apply(lambda x:x.lstrip().split(','))"
   ]
  },
  {
   "cell_type": "code",
   "execution_count": 42,
   "metadata": {},
   "outputs": [
    {
     "data": {
      "text/plain": [
       "['Verbal Command', ' Take Down - Arm']"
      ]
     },
     "execution_count": 42,
     "metadata": {},
     "output_type": "execute_result"
    }
   ],
   "source": [
    "df.ForceType[4]"
   ]
  },
  {
   "cell_type": "code",
   "execution_count": 43,
   "metadata": {},
   "outputs": [],
   "source": [
    "from collections import defaultdict"
   ]
  },
  {
   "cell_type": "code",
   "execution_count": 59,
   "metadata": {},
   "outputs": [],
   "source": [
    "ft_dict = defaultdict(int)"
   ]
  },
  {
   "cell_type": "code",
   "execution_count": 60,
   "metadata": {},
   "outputs": [],
   "source": [
    "for item in df[df.CURRENT_BA == 10724]['ForceType']:\n",
    "    for i in item:\n",
    "        \n",
    "        ft_dict[i.lstrip()] += 1"
   ]
  },
  {
   "cell_type": "code",
   "execution_count": 61,
   "metadata": {},
   "outputs": [
    {
     "data": {
      "text/plain": [
       "defaultdict(int,\n",
       "            {'Verbal Command': 32,\n",
       "             'Pressure Points': 12,\n",
       "             'Joint Locks': 16,\n",
       "             'BD - Grabbed': 8,\n",
       "             'Hand Controlled Escort': 3,\n",
       "             'Held Suspect Down': 10,\n",
       "             'Taser Display at Person': 2,\n",
       "             'Take Down - Body': 1,\n",
       "             'BD - Pushed': 2,\n",
       "             'Feet/Leg/Knee Strike': 1,\n",
       "             'BD - Tripped': 2,\n",
       "             'Hand/Arm/Elbow Strike': 2,\n",
       "             'Take Down - Arm': 1,\n",
       "             'Weapon display at Person': 1,\n",
       "             'Handcuffing Take Down': 1,\n",
       "             'Take Down - Head': 1})"
      ]
     },
     "execution_count": 61,
     "metadata": {},
     "output_type": "execute_result"
    }
   ],
   "source": [
    "ft_dict"
   ]
  },
  {
   "cell_type": "code",
   "execution_count": 57,
   "metadata": {},
   "outputs": [],
   "source": [
    "i = ' Pressure Points'"
   ]
  },
  {
   "cell_type": "code",
   "execution_count": 58,
   "metadata": {},
   "outputs": [
    {
     "data": {
      "text/plain": [
       "'Pressure Points'"
      ]
     },
     "execution_count": 58,
     "metadata": {},
     "output_type": "execute_result"
    }
   ],
   "source": [
    "i.lstrip()"
   ]
  },
  {
   "cell_type": "code",
   "execution_count": null,
   "metadata": {},
   "outputs": [],
   "source": [
    "'Verbal Command': 32,\n",
    "'Joint Locks': 16,\n",
    "'Pressure Points': 12,\n",
    "'Held Suspect Down': 10,"
   ]
  }
 ],
 "metadata": {
  "kernelspec": {
   "display_name": "Python 3",
   "language": "python",
   "name": "python3"
  },
  "language_info": {
   "codemirror_mode": {
    "name": "ipython",
    "version": 3
   },
   "file_extension": ".py",
   "mimetype": "text/x-python",
   "name": "python",
   "nbconvert_exporter": "python",
   "pygments_lexer": "ipython3",
   "version": "3.7.4"
  }
 },
 "nbformat": 4,
 "nbformat_minor": 2
}
